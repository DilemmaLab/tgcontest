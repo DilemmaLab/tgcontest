{
  "nbformat": 4,
  "nbformat_minor": 0,
  "metadata": {
    "colab": {
      "name": "SimilarityEn.ipynb",
      "provenance": [],
      "collapsed_sections": []
    },
    "kernelspec": {
      "name": "python3",
      "display_name": "Python 3"
    },
    "accelerator": "GPU"
  },
  "cells": [
    {
      "cell_type": "code",
      "metadata": {
        "id": "teVN4SM5Shzl",
        "colab_type": "code",
        "outputId": "a6cc5dde-1e8b-4c0c-a229-ee588dfc2e2b",
        "colab": {
          "base_uri": "https://localhost:8080/",
          "height": 289
        }
      },
      "source": [
        "!pip install fasttext pyonmttok"
      ],
      "execution_count": 0,
      "outputs": [
        {
          "output_type": "stream",
          "text": [
            "Collecting fasttext\n",
            "  Using cached https://files.pythonhosted.org/packages/10/61/2e01f1397ec533756c1d893c22d9d5ed3fce3a6e4af1976e0d86bb13ea97/fasttext-0.9.1.tar.gz\n",
            "Collecting pyonmttok\n",
            "  Using cached https://files.pythonhosted.org/packages/ef/c0/85fb1586babc11cb7da8bbc377e54aac2dc8ee55fadbfd560fc364c6cde4/pyonmttok-1.18.0-cp36-cp36m-manylinux1_x86_64.whl\n",
            "Requirement already satisfied: pybind11>=2.2 in /usr/local/lib/python3.6/dist-packages (from fasttext) (2.4.3)\n",
            "Requirement already satisfied: setuptools>=0.7.0 in /usr/local/lib/python3.6/dist-packages (from fasttext) (42.0.2)\n",
            "Requirement already satisfied: numpy in /usr/local/lib/python3.6/dist-packages (from fasttext) (1.17.4)\n",
            "Building wheels for collected packages: fasttext\n",
            "  Building wheel for fasttext (setup.py) ... \u001b[?25l\u001b[?25hdone\n",
            "  Created wheel for fasttext: filename=fasttext-0.9.1-cp36-cp36m-linux_x86_64.whl size=2388053 sha256=bab7a94f910f4af727470c8175448bfbd608666896ffedce155d0b728e11db08\n",
            "  Stored in directory: /root/.cache/pip/wheels/9f/f0/04/caa82c912aee89ce76358ff954f3f0729b7577c8ff23a292e3\n",
            "Successfully built fasttext\n",
            "Installing collected packages: fasttext, pyonmttok\n",
            "Successfully installed fasttext-0.9.1 pyonmttok-1.18.0\n"
          ],
          "name": "stdout"
        }
      ]
    },
    {
      "cell_type": "code",
      "metadata": {
        "id": "VZEkT7r6YsOD",
        "colab_type": "code",
        "outputId": "dfcbee69-99d1-478f-e6e4-3f1624fd54c1",
        "colab": {
          "base_uri": "https://localhost:8080/",
          "height": 1000
        }
      },
      "source": [
        "!pip install --upgrade keras tensorflow-gpu"
      ],
      "execution_count": 0,
      "outputs": [
        {
          "output_type": "stream",
          "text": [
            "Collecting keras\n",
            "\u001b[?25l  Downloading https://files.pythonhosted.org/packages/ad/fd/6bfe87920d7f4fd475acd28500a42482b6b84479832bdc0fe9e589a60ceb/Keras-2.3.1-py2.py3-none-any.whl (377kB)\n",
            "\r\u001b[K     |▉                               | 10kB 17.5MB/s eta 0:00:01\r\u001b[K     |█▊                              | 20kB 4.4MB/s eta 0:00:01\r\u001b[K     |██▋                             | 30kB 6.2MB/s eta 0:00:01\r\u001b[K     |███▌                            | 40kB 7.8MB/s eta 0:00:01\r\u001b[K     |████▍                           | 51kB 5.0MB/s eta 0:00:01\r\u001b[K     |█████▏                          | 61kB 5.9MB/s eta 0:00:01\r\u001b[K     |██████                          | 71kB 6.7MB/s eta 0:00:01\r\u001b[K     |███████                         | 81kB 7.4MB/s eta 0:00:01\r\u001b[K     |███████▉                        | 92kB 8.1MB/s eta 0:00:01\r\u001b[K     |████████▊                       | 102kB 6.6MB/s eta 0:00:01\r\u001b[K     |█████████▌                      | 112kB 6.6MB/s eta 0:00:01\r\u001b[K     |██████████▍                     | 122kB 6.6MB/s eta 0:00:01\r\u001b[K     |███████████▎                    | 133kB 6.6MB/s eta 0:00:01\r\u001b[K     |████████████▏                   | 143kB 6.6MB/s eta 0:00:01\r\u001b[K     |█████████████                   | 153kB 6.6MB/s eta 0:00:01\r\u001b[K     |█████████████▉                  | 163kB 6.6MB/s eta 0:00:01\r\u001b[K     |██████████████▊                 | 174kB 6.6MB/s eta 0:00:01\r\u001b[K     |███████████████▋                | 184kB 6.6MB/s eta 0:00:01\r\u001b[K     |████████████████▌               | 194kB 6.6MB/s eta 0:00:01\r\u001b[K     |█████████████████▍              | 204kB 6.6MB/s eta 0:00:01\r\u001b[K     |██████████████████▏             | 215kB 6.6MB/s eta 0:00:01\r\u001b[K     |███████████████████             | 225kB 6.6MB/s eta 0:00:01\r\u001b[K     |████████████████████            | 235kB 6.6MB/s eta 0:00:01\r\u001b[K     |████████████████████▉           | 245kB 6.6MB/s eta 0:00:01\r\u001b[K     |█████████████████████▊          | 256kB 6.6MB/s eta 0:00:01\r\u001b[K     |██████████████████████▌         | 266kB 6.6MB/s eta 0:00:01\r\u001b[K     |███████████████████████▍        | 276kB 6.6MB/s eta 0:00:01\r\u001b[K     |████████████████████████▎       | 286kB 6.6MB/s eta 0:00:01\r\u001b[K     |█████████████████████████▏      | 296kB 6.6MB/s eta 0:00:01\r\u001b[K     |██████████████████████████      | 307kB 6.6MB/s eta 0:00:01\r\u001b[K     |██████████████████████████▉     | 317kB 6.6MB/s eta 0:00:01\r\u001b[K     |███████████████████████████▊    | 327kB 6.6MB/s eta 0:00:01\r\u001b[K     |████████████████████████████▋   | 337kB 6.6MB/s eta 0:00:01\r\u001b[K     |█████████████████████████████▌  | 348kB 6.6MB/s eta 0:00:01\r\u001b[K     |██████████████████████████████▍ | 358kB 6.6MB/s eta 0:00:01\r\u001b[K     |███████████████████████████████▏| 368kB 6.6MB/s eta 0:00:01\r\u001b[K     |████████████████████████████████| 378kB 6.6MB/s \n",
            "\u001b[?25hCollecting tensorflow-gpu\n",
            "\u001b[?25l  Downloading https://files.pythonhosted.org/packages/25/44/47f0722aea081697143fbcf5d2aa60d1aee4aaacb5869aee2b568974777b/tensorflow_gpu-2.0.0-cp36-cp36m-manylinux2010_x86_64.whl (380.8MB)\n",
            "\u001b[K     |████████████████████████████████| 380.8MB 18kB/s \n",
            "\u001b[?25hRequirement already satisfied, skipping upgrade: h5py in /usr/local/lib/python3.6/dist-packages (from keras) (2.8.0)\n",
            "Requirement already satisfied, skipping upgrade: pyyaml in /usr/local/lib/python3.6/dist-packages (from keras) (3.13)\n",
            "Requirement already satisfied, skipping upgrade: scipy>=0.14 in /usr/local/lib/python3.6/dist-packages (from keras) (1.3.3)\n",
            "Requirement already satisfied, skipping upgrade: keras-applications>=1.0.6 in /usr/local/lib/python3.6/dist-packages (from keras) (1.0.8)\n",
            "Requirement already satisfied, skipping upgrade: numpy>=1.9.1 in /usr/local/lib/python3.6/dist-packages (from keras) (1.17.4)\n",
            "Requirement already satisfied, skipping upgrade: six>=1.9.0 in /usr/local/lib/python3.6/dist-packages (from keras) (1.12.0)\n",
            "Requirement already satisfied, skipping upgrade: keras-preprocessing>=1.0.5 in /usr/local/lib/python3.6/dist-packages (from keras) (1.1.0)\n",
            "Requirement already satisfied, skipping upgrade: opt-einsum>=2.3.2 in /usr/local/lib/python3.6/dist-packages (from tensorflow-gpu) (3.1.0)\n",
            "Requirement already satisfied, skipping upgrade: astor>=0.6.0 in /usr/local/lib/python3.6/dist-packages (from tensorflow-gpu) (0.8.1)\n",
            "Requirement already satisfied, skipping upgrade: google-pasta>=0.1.6 in /usr/local/lib/python3.6/dist-packages (from tensorflow-gpu) (0.1.8)\n",
            "Collecting tensorflow-estimator<2.1.0,>=2.0.0\n",
            "\u001b[?25l  Downloading https://files.pythonhosted.org/packages/fc/08/8b927337b7019c374719145d1dceba21a8bb909b93b1ad6f8fb7d22c1ca1/tensorflow_estimator-2.0.1-py2.py3-none-any.whl (449kB)\n",
            "\u001b[K     |████████████████████████████████| 450kB 45.5MB/s \n",
            "\u001b[?25hRequirement already satisfied, skipping upgrade: protobuf>=3.6.1 in /usr/local/lib/python3.6/dist-packages (from tensorflow-gpu) (3.10.0)\n",
            "Requirement already satisfied, skipping upgrade: termcolor>=1.1.0 in /usr/local/lib/python3.6/dist-packages (from tensorflow-gpu) (1.1.0)\n",
            "Requirement already satisfied, skipping upgrade: wrapt>=1.11.1 in /usr/local/lib/python3.6/dist-packages (from tensorflow-gpu) (1.11.2)\n",
            "Requirement already satisfied, skipping upgrade: wheel>=0.26 in /usr/local/lib/python3.6/dist-packages (from tensorflow-gpu) (0.33.6)\n",
            "Requirement already satisfied, skipping upgrade: grpcio>=1.8.6 in /usr/local/lib/python3.6/dist-packages (from tensorflow-gpu) (1.15.0)\n",
            "Requirement already satisfied, skipping upgrade: absl-py>=0.7.0 in /usr/local/lib/python3.6/dist-packages (from tensorflow-gpu) (0.8.1)\n",
            "Collecting tensorboard<2.1.0,>=2.0.0\n",
            "\u001b[?25l  Downloading https://files.pythonhosted.org/packages/76/54/99b9d5d52d5cb732f099baaaf7740403e83fe6b0cedde940fabd2b13d75a/tensorboard-2.0.2-py3-none-any.whl (3.8MB)\n",
            "\u001b[K     |████████████████████████████████| 3.8MB 39.8MB/s \n",
            "\u001b[?25hRequirement already satisfied, skipping upgrade: gast==0.2.2 in /usr/local/lib/python3.6/dist-packages (from tensorflow-gpu) (0.2.2)\n",
            "Requirement already satisfied, skipping upgrade: setuptools in /usr/local/lib/python3.6/dist-packages (from protobuf>=3.6.1->tensorflow-gpu) (42.0.2)\n",
            "Requirement already satisfied, skipping upgrade: requests<3,>=2.21.0 in /usr/local/lib/python3.6/dist-packages (from tensorboard<2.1.0,>=2.0.0->tensorflow-gpu) (2.21.0)\n",
            "Requirement already satisfied, skipping upgrade: werkzeug>=0.11.15 in /usr/local/lib/python3.6/dist-packages (from tensorboard<2.1.0,>=2.0.0->tensorflow-gpu) (0.16.0)\n",
            "Requirement already satisfied, skipping upgrade: markdown>=2.6.8 in /usr/local/lib/python3.6/dist-packages (from tensorboard<2.1.0,>=2.0.0->tensorflow-gpu) (3.1.1)\n",
            "Collecting google-auth<2,>=1.6.3\n",
            "\u001b[?25l  Downloading https://files.pythonhosted.org/packages/36/f8/84b5771faec3eba9fe0c91c8c5896364a8ba08852c0dea5ad2025026dd95/google_auth-1.10.0-py2.py3-none-any.whl (76kB)\n",
            "\u001b[K     |████████████████████████████████| 81kB 10.3MB/s \n",
            "\u001b[?25hRequirement already satisfied, skipping upgrade: google-auth-oauthlib<0.5,>=0.4.1 in /usr/local/lib/python3.6/dist-packages (from tensorboard<2.1.0,>=2.0.0->tensorflow-gpu) (0.4.1)\n",
            "Requirement already satisfied, skipping upgrade: idna<2.9,>=2.5 in /usr/local/lib/python3.6/dist-packages (from requests<3,>=2.21.0->tensorboard<2.1.0,>=2.0.0->tensorflow-gpu) (2.8)\n",
            "Requirement already satisfied, skipping upgrade: certifi>=2017.4.17 in /usr/local/lib/python3.6/dist-packages (from requests<3,>=2.21.0->tensorboard<2.1.0,>=2.0.0->tensorflow-gpu) (2019.11.28)\n",
            "Requirement already satisfied, skipping upgrade: urllib3<1.25,>=1.21.1 in /usr/local/lib/python3.6/dist-packages (from requests<3,>=2.21.0->tensorboard<2.1.0,>=2.0.0->tensorflow-gpu) (1.24.3)\n",
            "Requirement already satisfied, skipping upgrade: chardet<3.1.0,>=3.0.2 in /usr/local/lib/python3.6/dist-packages (from requests<3,>=2.21.0->tensorboard<2.1.0,>=2.0.0->tensorflow-gpu) (3.0.4)\n",
            "Requirement already satisfied, skipping upgrade: rsa<4.1,>=3.1.4 in /usr/local/lib/python3.6/dist-packages (from google-auth<2,>=1.6.3->tensorboard<2.1.0,>=2.0.0->tensorflow-gpu) (4.0)\n",
            "Requirement already satisfied, skipping upgrade: pyasn1-modules>=0.2.1 in /usr/local/lib/python3.6/dist-packages (from google-auth<2,>=1.6.3->tensorboard<2.1.0,>=2.0.0->tensorflow-gpu) (0.2.7)\n",
            "Requirement already satisfied, skipping upgrade: cachetools<5.0,>=2.0.0 in /usr/local/lib/python3.6/dist-packages (from google-auth<2,>=1.6.3->tensorboard<2.1.0,>=2.0.0->tensorflow-gpu) (4.0.0)\n",
            "Requirement already satisfied, skipping upgrade: requests-oauthlib>=0.7.0 in /usr/local/lib/python3.6/dist-packages (from google-auth-oauthlib<0.5,>=0.4.1->tensorboard<2.1.0,>=2.0.0->tensorflow-gpu) (1.3.0)\n",
            "Requirement already satisfied, skipping upgrade: pyasn1>=0.1.3 in /usr/local/lib/python3.6/dist-packages (from rsa<4.1,>=3.1.4->google-auth<2,>=1.6.3->tensorboard<2.1.0,>=2.0.0->tensorflow-gpu) (0.4.8)\n",
            "Requirement already satisfied, skipping upgrade: oauthlib>=3.0.0 in /usr/local/lib/python3.6/dist-packages (from requests-oauthlib>=0.7.0->google-auth-oauthlib<0.5,>=0.4.1->tensorboard<2.1.0,>=2.0.0->tensorflow-gpu) (3.1.0)\n",
            "\u001b[31mERROR: tensorflow 1.15.0 has requirement tensorboard<1.16.0,>=1.15.0, but you'll have tensorboard 2.0.2 which is incompatible.\u001b[0m\n",
            "\u001b[31mERROR: tensorflow 1.15.0 has requirement tensorflow-estimator==1.15.1, but you'll have tensorflow-estimator 2.0.1 which is incompatible.\u001b[0m\n",
            "\u001b[31mERROR: tensorboard 2.0.2 has requirement grpcio>=1.24.3, but you'll have grpcio 1.15.0 which is incompatible.\u001b[0m\n",
            "\u001b[31mERROR: google-colab 1.0.0 has requirement google-auth~=1.4.0, but you'll have google-auth 1.10.0 which is incompatible.\u001b[0m\n",
            "Installing collected packages: keras, tensorflow-estimator, google-auth, tensorboard, tensorflow-gpu\n",
            "  Found existing installation: Keras 2.2.5\n",
            "    Uninstalling Keras-2.2.5:\n",
            "      Successfully uninstalled Keras-2.2.5\n",
            "  Found existing installation: tensorflow-estimator 1.15.1\n",
            "    Uninstalling tensorflow-estimator-1.15.1:\n",
            "      Successfully uninstalled tensorflow-estimator-1.15.1\n",
            "  Found existing installation: google-auth 1.4.2\n",
            "    Uninstalling google-auth-1.4.2:\n",
            "      Successfully uninstalled google-auth-1.4.2\n",
            "  Found existing installation: tensorboard 1.15.0\n",
            "    Uninstalling tensorboard-1.15.0:\n",
            "      Successfully uninstalled tensorboard-1.15.0\n",
            "Successfully installed google-auth-1.10.0 keras-2.3.1 tensorboard-2.0.2 tensorflow-estimator-2.0.1 tensorflow-gpu-2.0.0\n"
          ],
          "name": "stdout"
        },
        {
          "output_type": "display_data",
          "data": {
            "application/vnd.colab-display-data+json": {
              "pip_warning": {
                "packages": [
                  "google"
                ]
              }
            }
          },
          "metadata": {
            "tags": []
          }
        }
      ]
    },
    {
      "cell_type": "code",
      "metadata": {
        "id": "mwDpQGn4SLL1",
        "colab_type": "code",
        "outputId": "57908295-eb3e-4156-b301-7798ec1ebabf",
        "colab": {
          "base_uri": "https://localhost:8080/",
          "height": 487
        }
      },
      "source": [
        "!rm -f en_tg_train.tar.gz\n",
        "!wget https://www.dropbox.com/s/umd8tyx4wz1wquq/en_tg_train.tar.gz\n",
        "!rm -f en_tg_train.json\n",
        "!tar -xzvf en_tg_train.tar.gz\n",
        "!rm en_tg_train.tar.gz"
      ],
      "execution_count": 0,
      "outputs": [
        {
          "output_type": "stream",
          "text": [
            "--2020-01-07 18:46:02--  https://www.dropbox.com/s/erbi4w5fuacyvw9/en_tg_train.tar.gz\n",
            "Resolving www.dropbox.com (www.dropbox.com)... 162.125.65.1, 2620:100:6021:1::a27d:4101\n",
            "Connecting to www.dropbox.com (www.dropbox.com)|162.125.65.1|:443... connected.\n",
            "HTTP request sent, awaiting response... 301 Moved Permanently\n",
            "Location: /s/raw/erbi4w5fuacyvw9/en_tg_train.tar.gz [following]\n",
            "--2020-01-07 18:46:03--  https://www.dropbox.com/s/raw/erbi4w5fuacyvw9/en_tg_train.tar.gz\n",
            "Reusing existing connection to www.dropbox.com:443.\n",
            "HTTP request sent, awaiting response... 302 Found\n",
            "Location: https://uc79539059e0e583dd6c65842c29.dl.dropboxusercontent.com/cd/0/inline/AvsdyNOnuLiIWuT1vGyhnjQwsutpNhbIcCh7mcO6fGWi6JUIpIBeURYINLLTiUbNyiMtzHgLZTiNF-dO-GCBnEMdBRvxEMBY0nhpxdPkVL1PKYQcR2mSbuUkbIOC2AQRhzM/file# [following]\n",
            "--2020-01-07 18:46:03--  https://uc79539059e0e583dd6c65842c29.dl.dropboxusercontent.com/cd/0/inline/AvsdyNOnuLiIWuT1vGyhnjQwsutpNhbIcCh7mcO6fGWi6JUIpIBeURYINLLTiUbNyiMtzHgLZTiNF-dO-GCBnEMdBRvxEMBY0nhpxdPkVL1PKYQcR2mSbuUkbIOC2AQRhzM/file\n",
            "Resolving uc79539059e0e583dd6c65842c29.dl.dropboxusercontent.com (uc79539059e0e583dd6c65842c29.dl.dropboxusercontent.com)... 162.125.65.6, 2620:100:6021:6::a27d:4106\n",
            "Connecting to uc79539059e0e583dd6c65842c29.dl.dropboxusercontent.com (uc79539059e0e583dd6c65842c29.dl.dropboxusercontent.com)|162.125.65.6|:443... connected.\n",
            "HTTP request sent, awaiting response... 302 FOUND\n",
            "Location: /cd/0/inline2/AvvRCvA-9Nyy1APLga2nYEtT_STf66RB0nEpVVdEMrrZdTugEK7DuOB641EunRpVCCQBfMSfn1pTQUxL_0sbAKoarjS3kwjnPyMz0JNWNQUDBnXS3ZiMrdofq46ee1NVL9jGDf1cdyyGsHvNlr9EDAdknIHIXPnIPoN_bnpbb8H3QOguIimZsydkbWQcdWH8I5Wpt1t42TcBRqb_DfMeQWK8hJiHj3ekcti_Mgxw8X8P5YF1IcPU9OnS2laJPjFYamsFFPIX5CWnWNaU9EijG-0PO7JOotvoykxRtN2g45M4YZgbyJ-HcuoNlI3R6S-u6dzfTUTfin1n1AcyNh36oE8o9qLplB5TWqKztHASn3bHhw/file [following]\n",
            "--2020-01-07 18:46:04--  https://uc79539059e0e583dd6c65842c29.dl.dropboxusercontent.com/cd/0/inline2/AvvRCvA-9Nyy1APLga2nYEtT_STf66RB0nEpVVdEMrrZdTugEK7DuOB641EunRpVCCQBfMSfn1pTQUxL_0sbAKoarjS3kwjnPyMz0JNWNQUDBnXS3ZiMrdofq46ee1NVL9jGDf1cdyyGsHvNlr9EDAdknIHIXPnIPoN_bnpbb8H3QOguIimZsydkbWQcdWH8I5Wpt1t42TcBRqb_DfMeQWK8hJiHj3ekcti_Mgxw8X8P5YF1IcPU9OnS2laJPjFYamsFFPIX5CWnWNaU9EijG-0PO7JOotvoykxRtN2g45M4YZgbyJ-HcuoNlI3R6S-u6dzfTUTfin1n1AcyNh36oE8o9qLplB5TWqKztHASn3bHhw/file\n",
            "Reusing existing connection to uc79539059e0e583dd6c65842c29.dl.dropboxusercontent.com:443.\n",
            "en_tg_train.tar.gz  100%[===================>] 116.25M  27.4MB/s    in 4.2s    \n",
            "\n",
            "2020-01-07 18:46:09 (27.4 MB/s) - ‘en_tg_train.tar.gz’ saved [121901976/121901976]\n",
            "\n",
            "tar: Ignoring unknown extended header keyword 'LIBARCHIVE.creationtime'\n",
            "tar: Ignoring unknown extended header keyword 'SCHILY.dev'\n",
            "tar: Ignoring unknown extended header keyword 'SCHILY.ino'\n",
            "tar: Ignoring unknown extended header keyword 'SCHILY.nlink'\n",
            "en_tg_train.json\n"
          ],
          "name": "stdout"
        }
      ]
    },
    {
      "cell_type": "code",
      "metadata": {
        "id": "gcsXXzshSYI3",
        "colab_type": "code",
        "outputId": "5b35be9c-b418-4439-ec5b-83b958511465",
        "colab": {
          "base_uri": "https://localhost:8080/",
          "height": 469
        }
      },
      "source": [
        "!wget https://www.dropbox.com/s/no7x1n8acl5ykif/en_vectors_v2.bin"
      ],
      "execution_count": 0,
      "outputs": [
        {
          "output_type": "stream",
          "text": [
            "--2020-01-07 18:47:30--  https://www.dropbox.com/s/no7x1n8acl5ykif/en_vectors_v2.bin\n",
            "Resolving www.dropbox.com (www.dropbox.com)... 162.125.8.1, 2620:100:6021:1::a27d:4101\n",
            "Connecting to www.dropbox.com (www.dropbox.com)|162.125.8.1|:443... connected.\n",
            "HTTP request sent, awaiting response... 301 Moved Permanently\n",
            "Location: /s/raw/no7x1n8acl5ykif/en_vectors_v2.bin [following]\n",
            "--2020-01-07 18:47:31--  https://www.dropbox.com/s/raw/no7x1n8acl5ykif/en_vectors_v2.bin\n",
            "Reusing existing connection to www.dropbox.com:443.\n",
            "HTTP request sent, awaiting response... 302 Found\n",
            "Location: https://ucfdbfca2a2119997acc833d1f45.dl.dropboxusercontent.com/cd/0/inline/AvvoggFxniBVjmWAMFUDN0nwc4t1cLEDfQeyOeRIJ8eSqtNNuZvTysKnyyZkXDnxRqugyDib75ijgsMxoBYHzFPg9GrfvuAMsJ6SjW4bTB1hefVzXKtKCqbRZnk_bF0kbDg/file# [following]\n",
            "--2020-01-07 18:47:31--  https://ucfdbfca2a2119997acc833d1f45.dl.dropboxusercontent.com/cd/0/inline/AvvoggFxniBVjmWAMFUDN0nwc4t1cLEDfQeyOeRIJ8eSqtNNuZvTysKnyyZkXDnxRqugyDib75ijgsMxoBYHzFPg9GrfvuAMsJ6SjW4bTB1hefVzXKtKCqbRZnk_bF0kbDg/file\n",
            "Resolving ucfdbfca2a2119997acc833d1f45.dl.dropboxusercontent.com (ucfdbfca2a2119997acc833d1f45.dl.dropboxusercontent.com)... 162.125.65.6, 2620:100:6021:6::a27d:4106\n",
            "Connecting to ucfdbfca2a2119997acc833d1f45.dl.dropboxusercontent.com (ucfdbfca2a2119997acc833d1f45.dl.dropboxusercontent.com)|162.125.65.6|:443... connected.\n",
            "HTTP request sent, awaiting response... 302 FOUND\n",
            "Location: /cd/0/inline2/AvsjX5y0B7haYS4WHgw2Q-FzxEeb7SOcKyKDj5CzYGvsEzb6_kck8_pE_r_aiZtfID2vbcoChwrNuYI9sXvKhAC_uJn0jfBSzfHFao-mOWqcBuj7FgqHCsDvOOvTGDLmhfWyYW1BKFa-fciBmGgbk7eIB2qieAt8dnu5XVYi46QHbk8moouE9CpQTkxUk2qwpbFpK9OgJ_7_c3wzw9Hlx5GXeCp2r2sLj1J0NofeLnwyo9MOOPgA7tyOyQhBAkHqhmnnztXCnkRs0AkJaWeg_9HF0iB72c14I-Fbf_aQFi9qAHsItfGJWTUsqCF6gXkCmFYBbEjISrqolzoLsf3w2eK--ZgckbahjJec20_uSYR2ng/file [following]\n",
            "--2020-01-07 18:47:32--  https://ucfdbfca2a2119997acc833d1f45.dl.dropboxusercontent.com/cd/0/inline2/AvsjX5y0B7haYS4WHgw2Q-FzxEeb7SOcKyKDj5CzYGvsEzb6_kck8_pE_r_aiZtfID2vbcoChwrNuYI9sXvKhAC_uJn0jfBSzfHFao-mOWqcBuj7FgqHCsDvOOvTGDLmhfWyYW1BKFa-fciBmGgbk7eIB2qieAt8dnu5XVYi46QHbk8moouE9CpQTkxUk2qwpbFpK9OgJ_7_c3wzw9Hlx5GXeCp2r2sLj1J0NofeLnwyo9MOOPgA7tyOyQhBAkHqhmnnztXCnkRs0AkJaWeg_9HF0iB72c14I-Fbf_aQFi9qAHsItfGJWTUsqCF6gXkCmFYBbEjISrqolzoLsf3w2eK--ZgckbahjJec20_uSYR2ng/file\n",
            "Reusing existing connection to ucfdbfca2a2119997acc833d1f45.dl.dropboxusercontent.com:443.\n",
            "HTTP request sent, awaiting response... 200 OK\n",
            "Length: 62589071 (60M) [application/octet-stream]\n",
            "Saving to: ‘en_vectors_v2.bin’\n",
            "\n",
            "en_vectors_v2.bin   100%[===================>]  59.69M  22.5MB/s    in 2.7s    \n",
            "\n",
            "2020-01-07 18:47:35 (22.5 MB/s) - ‘en_vectors_v2.bin’ saved [62589071/62589071]\n",
            "\n"
          ],
          "name": "stdout"
        }
      ]
    },
    {
      "cell_type": "code",
      "metadata": {
        "id": "iOVRqoR-yIXd",
        "colab_type": "code",
        "outputId": "43a5c665-b831-48cd-9e80-fb9f5c21224d",
        "colab": {
          "base_uri": "https://localhost:8080/",
          "height": 541
        }
      },
      "source": [
        "!rm -f all-the-news.zip\n",
        "!wget https://www.dropbox.com/s/bacg3cxckeqw6a9/all-the-news.zip\n",
        "!unzip all-the-news.zip"
      ],
      "execution_count": 0,
      "outputs": [
        {
          "output_type": "stream",
          "text": [
            "--2020-01-07 18:48:18--  https://www.dropbox.com/s/bacg3cxckeqw6a9/all-the-news.zip\n",
            "Resolving www.dropbox.com (www.dropbox.com)... 162.125.8.1, 2620:100:6021:1::a27d:4101\n",
            "Connecting to www.dropbox.com (www.dropbox.com)|162.125.8.1|:443... connected.\n",
            "HTTP request sent, awaiting response... 301 Moved Permanently\n",
            "Location: /s/raw/bacg3cxckeqw6a9/all-the-news.zip [following]\n",
            "--2020-01-07 18:48:18--  https://www.dropbox.com/s/raw/bacg3cxckeqw6a9/all-the-news.zip\n",
            "Reusing existing connection to www.dropbox.com:443.\n",
            "HTTP request sent, awaiting response... 302 Found\n",
            "Location: https://uc657a1fb3a8de9c4adf7a05f669.dl.dropboxusercontent.com/cd/0/inline/AvuJTtEeAi3lSm5xcab264Sqj2ppI-ULIekC0lR7to3xIDCwc4ykF36ga3wKk-cLu4zMoiJ4O-COwkjY_2zBv_k1FlxG5FCzPZb6NYxtKbFZH5OgehFTXdbSSvwREzkrCtU/file# [following]\n",
            "--2020-01-07 18:48:19--  https://uc657a1fb3a8de9c4adf7a05f669.dl.dropboxusercontent.com/cd/0/inline/AvuJTtEeAi3lSm5xcab264Sqj2ppI-ULIekC0lR7to3xIDCwc4ykF36ga3wKk-cLu4zMoiJ4O-COwkjY_2zBv_k1FlxG5FCzPZb6NYxtKbFZH5OgehFTXdbSSvwREzkrCtU/file\n",
            "Resolving uc657a1fb3a8de9c4adf7a05f669.dl.dropboxusercontent.com (uc657a1fb3a8de9c4adf7a05f669.dl.dropboxusercontent.com)... 162.125.65.6, 2620:100:6021:6::a27d:4106\n",
            "Connecting to uc657a1fb3a8de9c4adf7a05f669.dl.dropboxusercontent.com (uc657a1fb3a8de9c4adf7a05f669.dl.dropboxusercontent.com)|162.125.65.6|:443... connected.\n",
            "HTTP request sent, awaiting response... 302 FOUND\n",
            "Location: /cd/0/inline2/AvvTwfzwP9-QPABshNY3_JlNy5KdkhQaUwb_RVM9Kw0ZZv3x0Mn6kyc6r8q5IdZplLuGZjEfPmV_kIJALlz5bMIhRhe991Vz67qKEnnMBNhmiL47sDGZrGDe0Ic18PICPSCh_W2zT0E8KVSztCcXqfVgZ9uCFBk1-l1rCpILgl5CWJ1BymdCyRrRh2KJForFmG5lNLcSyP2ZKMHPStKtyZD5OvKl92I-AVGKTE1Ws3c4GSxmbGnm9KE0ZUacjcLU0r2Gt6CgFoFHG2Mjt9ZXzIRMXYpO9u4h5V9rtbYJA_oVe6zGwX4et3Kw9V6c2zPqMFOQ5lTnBpnaNgKsl5IbsOJ4FGT7QHubBAIIYzFFC4s9PQ/file [following]\n",
            "--2020-01-07 18:48:20--  https://uc657a1fb3a8de9c4adf7a05f669.dl.dropboxusercontent.com/cd/0/inline2/AvvTwfzwP9-QPABshNY3_JlNy5KdkhQaUwb_RVM9Kw0ZZv3x0Mn6kyc6r8q5IdZplLuGZjEfPmV_kIJALlz5bMIhRhe991Vz67qKEnnMBNhmiL47sDGZrGDe0Ic18PICPSCh_W2zT0E8KVSztCcXqfVgZ9uCFBk1-l1rCpILgl5CWJ1BymdCyRrRh2KJForFmG5lNLcSyP2ZKMHPStKtyZD5OvKl92I-AVGKTE1Ws3c4GSxmbGnm9KE0ZUacjcLU0r2Gt6CgFoFHG2Mjt9ZXzIRMXYpO9u4h5V9rtbYJA_oVe6zGwX4et3Kw9V6c2zPqMFOQ5lTnBpnaNgKsl5IbsOJ4FGT7QHubBAIIYzFFC4s9PQ/file\n",
            "Reusing existing connection to uc657a1fb3a8de9c4adf7a05f669.dl.dropboxusercontent.com:443.\n",
            "HTTP request sent, awaiting response... 200 OK\n",
            "Length: 255356300 (244M) [application/zip]\n",
            "Saving to: ‘all-the-news.zip’\n",
            "\n",
            "all-the-news.zip    100%[===================>] 243.53M  32.1MB/s    in 11s     \n",
            "\n",
            "2020-01-07 18:48:32 (21.3 MB/s) - ‘all-the-news.zip’ saved [255356300/255356300]\n",
            "\n",
            "Archive:  all-the-news.zip\n",
            "  inflating: articles1.csv           \n",
            "  inflating: articles2.csv           \n",
            "  inflating: articles3.csv           \n"
          ],
          "name": "stdout"
        }
      ]
    },
    {
      "cell_type": "code",
      "metadata": {
        "id": "jS5W4zgaSc2G",
        "colab_type": "code",
        "outputId": "9a11fc6e-1af9-422c-aeee-4b933f61e987",
        "colab": {
          "base_uri": "https://localhost:8080/",
          "height": 35
        }
      },
      "source": [
        "import fasttext\n",
        "\n",
        "model = fasttext.load_model('en_vectors_v2.bin')"
      ],
      "execution_count": 0,
      "outputs": [
        {
          "output_type": "stream",
          "text": [
            "\n"
          ],
          "name": "stderr"
        }
      ]
    },
    {
      "cell_type": "code",
      "metadata": {
        "id": "jhY9_QHcS_1U",
        "colab_type": "code",
        "colab": {}
      },
      "source": [
        "import json\n",
        "\n",
        "with open(\"en_tg_train.json\", \"r\") as r:\n",
        "    tg_data = json.load(r)\n",
        "tg_data.sort(key=lambda x: x['timestamp'])"
      ],
      "execution_count": 0,
      "outputs": []
    },
    {
      "cell_type": "code",
      "metadata": {
        "id": "AORjTgMPWCpX",
        "colab_type": "code",
        "outputId": "165184a9-09f4-45a4-84b7-16259333f55e",
        "colab": {
          "base_uri": "https://localhost:8080/",
          "height": 217
        }
      },
      "source": [
        "!head articles1.csv"
      ],
      "execution_count": 0,
      "outputs": [
        {
          "output_type": "stream",
          "text": [
            ",id,title,publication,author,date,year,month,url,content\n",
            "0,17283,House Republicans Fret About Winning Their Health Care Suit - The New York Times,New York Times,Carl Hulse,2016-12-31,2016.0,12.0,,\"WASHINGTON  —   Congressional Republicans have a new fear when it comes to their    health care lawsuit against the Obama administration: They might win. The incoming Trump administration could choose to no longer defend the executive branch against the suit, which challenges the administration’s authority to spend billions of dollars on health insurance subsidies for   and   Americans, handing House Republicans a big victory on    issues. But a sudden loss of the disputed subsidies could conceivably cause the health care program to implode, leaving millions of people without access to health insurance before Republicans have prepared a replacement. That could lead to chaos in the insurance market and spur a political backlash just as Republicans gain full control of the government. To stave off that outcome, Republicans could find themselves in the awkward position of appropriating huge sums to temporarily prop up the Obama health care law, angering conservative voters who have been demanding an end to the law for years. In another twist, Donald J. Trump’s administration, worried about preserving executive branch prerogatives, could choose to fight its Republican allies in the House on some central questions in the dispute. Eager to avoid an ugly political pileup, Republicans on Capitol Hill and the Trump transition team are gaming out how to handle the lawsuit, which, after the election, has been put in limbo until at least late February by the United States Court of Appeals for the District of Columbia Circuit. They are not yet ready to divulge their strategy. “Given that this pending litigation involves the Obama administration and Congress, it would be inappropriate to comment,” said Phillip J. Blando, a spokesman for the Trump transition effort. “Upon taking office, the Trump administration will evaluate this case and all related aspects of the Affordable Care Act. ” In a potentially   decision in 2015, Judge Rosemary M. Collyer ruled that House Republicans had the standing to sue the executive branch over a spending dispute and that the Obama administration had been distributing the health insurance subsidies, in violation of the Constitution, without approval from Congress. The Justice Department, confident that Judge Collyer’s decision would be reversed, quickly appealed, and the subsidies have remained in place during the appeal. In successfully seeking a temporary halt in the proceedings after Mr. Trump won, House Republicans last month told the court that they “and the  ’s transition team currently are discussing potential options for resolution of this matter, to take effect after the  ’s inauguration on Jan. 20, 2017. ” The suspension of the case, House lawyers said, will “provide the   and his future administration time to consider whether to continue prosecuting or to otherwise resolve this appeal. ” Republican leadership officials in the House acknowledge the possibility of “cascading effects” if the   payments, which have totaled an estimated $13 billion, are suddenly stopped. Insurers that receive the subsidies in exchange for paying    costs such as deductibles and   for eligible consumers could race to drop coverage since they would be losing money. Over all, the loss of the subsidies could destabilize the entire program and cause a lack of confidence that leads other insurers to seek a quick exit as well. Anticipating that the Trump administration might not be inclined to mount a vigorous fight against the House Republicans given the  ’s dim view of the health care law, a team of lawyers this month sought to intervene in the case on behalf of two participants in the health care program. In their request, the lawyers predicted that a deal between House Republicans and the new administration to dismiss or settle the case “will produce devastating consequences for the individuals who receive these reductions, as well as for the nation’s health insurance and health care systems generally. ” No matter what happens, House Republicans say, they want to prevail on two overarching concepts: the congressional power of the purse, and the right of Congress to sue the executive branch if it violates the Constitution regarding that spending power. House Republicans contend that Congress never appropriated the money for the subsidies, as required by the Constitution. In the suit, which was initially championed by John A. Boehner, the House speaker at the time, and later in House committee reports, Republicans asserted that the administration, desperate for the funding, had required the Treasury Department to provide it despite widespread internal skepticism that the spending was proper. The White House said that the spending was a permanent part of the law passed in 2010, and that no annual appropriation was required  —   even though the administration initially sought one. Just as important to House Republicans, Judge Collyer found that Congress had the standing to sue the White House on this issue  —   a ruling that many legal experts said was flawed  —   and they want that precedent to be set to restore congressional leverage over the executive branch. But on spending power and standing, the Trump administration may come under pressure from advocates of presidential authority to fight the House no matter their shared views on health care, since those precedents could have broad repercussions. It is a complicated set of dynamics illustrating how a quick legal victory for the House in the Trump era might come with costs that Republicans never anticipated when they took on the Obama White House.\"\n",
            "1,17284,Rift Between Officers and Residents as Killings Persist in South Bronx - The New York Times,New York Times,Benjamin Mueller and Al Baker,2017-06-19,2017.0,6.0,,\"After the bullet shells get counted, the blood dries and the votive candles burn out, people peer down from   windows and see crime scenes gone cold: a band of yellow police tape blowing in the breeze. The South Bronx, just across the Harlem River from Manhattan and once shorthand for urban dysfunction, still suffers violence at levels long ago slashed in many other parts of New York City. And yet the city’s efforts to fight it remain splintered, underfunded and burdened by scandal. In the 40th Precinct, at the southern tip of the Bronx, as in other poor, minority neighborhoods across the country, people long hounded for   infractions are crying out for more protection against grievous injury or death. By September, four of every five shootings in the precinct this year were unsolved. Out of the city’s 77 precincts, the 40th has the highest murder rate but the fewest detectives per violent crime, reflecting disparities in staffing that hit hardest in some neighborhoods outside Manhattan, according to a New York Times analysis of Police Department data. Investigators in the precinct are saddled with twice the number of cases the department recommends, even as their bosses are called to Police Headquarters to answer for the sharpest crime rise in the city this year. And across the Bronx, investigative resources are squeezed. It has the highest   rate of the city’s five boroughs but the thinnest detective staffing. Nine of the 14   precinct detective squads for violent crime in the city are there. The borough’s robbery squad is smaller than Manhattan’s, even though the Bronx has had 1, 300 more cases this year. And its homicide squad has one detective for every four murders, compared with one detective for roughly every two murders in Upper Manhattan and more than one detective per murder in Lower Manhattan. In   lobbies and   family apartments, outside methadone clinics and art studios, people take note of the inequity. They hear police commanders explain that they lack the resources to place a floodlight on a dangerous block or to post officers at a   corner. They watch witnesses cower behind   doors, more fearful of a gunman’s crew than confident in the Police Department’s ability to protect them. So though people see a lot, they rarely testify. And in the South Bronx, as in so many predominantly black and Hispanic neighborhoods like it in the United States, the contract between the police and the community is in tatters. Some people have stories of crime reports that were ignored, or 911 calls that went unanswered for hours. Others tell of a 911 call for help ending in the caller’s arrest, or of a minor charge leading to 12 hours in a fetid holding cell. This is the paradox of policing in the 40th Precinct. Its neighborhoods have historically been prime targets for aggressive tactics, like    that are designed to ward off disorder. But precinct detectives there have less time than anywhere else in the city to answer for the blood spilled in violent crimes. Gola White, who was beside her daughter when she was shot and killed in a playground this summer, four years after her son was gunned down in the same housing project, ticked off the public safety resources that she said were scant in Bronx neighborhoods like hers: security cameras, lights, locks, investigating police officers. “Here, we have nothing,” she said. When it comes to “  families,” she said, the authorities “don’t really care as much. That’s how I feel. ” The Times has been documenting the murders logged this year in the 40th Precinct, one of a handful of neighborhoods where deadly violence remains a problem in an era of   crime in New York City. The homicides  —   14 in the precinct this year, up from nine in 2015  —   strain detectives, and when they go unsolved, as half of them have this year, some look to take the law into their own hands. From hundreds of conversations with grieving relatives and friends, witnesses and police officers, the social forces that flare into murder in a place like the 40th Precinct become clearer: merciless gang codes, mental illness, drugs and long memories of feuds that simmered out of officers’ view. The reasons some murders will never be solved also emerge: paralyzing fear of retribution, victims carrying secrets to their graves and relentless casework that forces detectives to move on in hopes that a break will come later. Frustrations build on all sides. Detectives’ phones rarely ring with tips, and officers grow embittered with witnesses who will not cooperate. In the meantime, a victim’s friends conduct their own investigations, and talk of grabbing a stash gun from a wheel well or a mother’s apartment when they find their suspect. In the chasm between the police and the community, gangs and gun violence flourish. Parents try to protect their families from drug crews’ threats, and officers work to overcome the residue of years of mistrust and understaffing in communities where they still go racing from one 911 call to the next. The streets around St. Mary’s Park were the scene of two fatal shootings logged in the 40th Precinct this year. Both are unsolved. James Fernandez heard talk of the murders through the door of his   apartment on East 146th Street in a     the Betances Houses. He lived at the end of a long hallway strewn with hypodermic needles, empty dope bags and discarded Hennessy bottles. A   young men who spoke of being in a subset of the Bloods gang had made it their drug market, slinging marijuana and cocaine to regulars, flashing firearms and blowing smoke into the Fernandez apartment. When Mr. Fernandez, 40, asked the young men to move, they answered by busting up his car. This kind of crime, an anachronism in much of New York, still rattles the 40th Precinct, even though murders there have fallen to 14 this year from 83 in 1991. It has more major felony crimes per resident than any other residential district in the city. It is also one of the poorest communities in the country, and many young men find their way into underground markets. Mr. Fernandez was not one to shrink from the threats. When he was growing up on the Lower East Side, he rode his bicycle around to the customers of the drug dealers he worked for and collected payments in a backpack. After leaving that life, he got a tech maintenance job and, three years ago, moved into the Betances Houses with his wife and daughter, now 11. He had two choices to get help with the drug crew: call the police for help and risk being labeled a snitch, or call his old Lower East Side bosses for muscle and risk violence. He chose the police. Again and again, he walked into a local substation, Police Service Area 7, and asked for protection. His daughter was using an inhaler to relieve coughs from the marijuana smoke. Mr. Fernandez and his wife got terrible headaches. “There’s a lot of killers here, and we are going to kill you,” a sergeant’s police report quoted a    telling Mr. Fernandez in August 2015. A second report filed the same day said a    warned him, “I’m going to shoot through your window. ” Mr. Fernandez told the police both the teenagers’ names, which appear in the reports, and then went home. He said one of their friends had seen him walk into the substation, and they tried to intimidate him out of filing another report. Three days later, the same    propped his bike on their door, “then said if I was to open the door and say something, they would body slam me,” Mr. Fernandez’s wife, Maria Fernandez, wrote on slips of paper she used to document the hallway ruckus and the inadequate police response. The boys made comments about how easy a target she was and about how they would have to “slap” her if she opened the door while they made a drug sale, and they threatened to beat the Fernandez family because “they are the ones snitching,” her notes say. But another   complaint at the substation, 10 days after the first, brought no relief. A week later, feeling desperate, Ms. Fernandez tried calling: first to the substation, at 8:50 p. m. when one of the boys blew weed smoke at her door and made a   threat to attack her, and then to 911 at 10:36 p. m. The police never came, she wrote in her notes. She tried the 40th Precinct station house next, but officers at the desk left her standing in the public waiting area for a   she said, making her fear being seen again. Officers put her in worse danger some months later, she said, when they came to her door and announced in front of the teenagers that they were there on a complaint about drug activity. Mr. Fernandez started doing the work that he said the police had failed to do. He wired a camera into his peephole to record the drugs and guns. The footage hark back to the New York of the 1980s, still very much present to some of the precinct’s residents. Around 6:30 each morning, Sgt. Michael J. LoPuzzo walks through the tall wooden doors of the 40th Precinct station house. The cases that land on his metal desk  —   dead bodies with no known cause, strip club brawls, shooting victims hobbling into the hospital themselves  —   bring resistance at every turn, reminding him of an earlier era in the city’s   campaign. “I haven’t got one single phone call that’s putting me in the right direction here,” said Sergeant LoPuzzo, the head of the precinct’s detective squad, one day this summer as he worked on an answer to an email inquiry from a murder victim’s aunt about why the killer had not been caught. “And people just don’t understand that. ” Often it is detectives who most feel the effects of people turning on the police. Witnesses shout them away from their doors just so neighbors know they refuse to talk. Of the 184 people who were shot and wounded in the Bronx through early September, more than a third  —   66 victims  —   refused to cooperate. Over the same period in the 40th Precinct, squad detectives closed three of 17 nonfatal shootings, and 72 of 343 robbery cases. Part of the resistance stems from   preventive policing tactics, like    that were a hallmark of the     style under former Mayor Michael R. Bloomberg and his police commissioner, Raymond W. Kelly. Near the height of the    strategy, in 2012, the 40th Precinct had the   stops in the city, the   stops in which officers used force and the most frisks. Of 18, 276 stops that year, 15, 521 were of people who had done nothing criminal. The precinct was also one of the   areas that the department flooded with its newest officers. At roll calls, they were pressured to generate numbers: write tickets and make arrests. They had no choice but to give a summons to a young man playing in a park after dark, even if the officers had done the same growing up in the same neighborhood. “I need to bring something in today to justify my existence,” Officer Argenis Rosado, who joined the precinct in 2010, said in an interview at the station house. “So now you’re in a small area, and day after day you’re hammering the same community. Of course that community’s eventually going to turn on you. ” The pressure warped the way officers and residents saw each other. Rookies had to ignore why someone might be drinking outside or sitting on a stoop. “Some of the cops that came out at that time probably viewed the community differently, too,” said Hector Espada, a   veteran of the precinct. “Not because they wanted to, but because they had to. Because some way or somehow, you can’t give someone a $115 summons and feel like you guys could still have a civil conversation after that. ” Morale wilted in the aged station house on Alexander Avenue, in Mott Haven. Officers felt pressure to downgrade crime complaints to make them appear less serious. Several said in interviews that they had overlooked crime reports from immigrants because they were seen as unlikely to complain, and watched supervisors badger victims into repeating their stories in hopes that they would drop their complaints. The practice of downgrading complaints resulted in the disciplining of 19 officers in the precinct last year, one in a string of scandals that has left officers there feeling overscrutinized for problems that also existed elsewhere. Four commanders in the precinct were sent packing in five years, one of them after officers were found to be “ticket fixing,” or forgiving parking tickets for friends, and another after he was recorded giving guidance on whom to stop and frisk: black boys and men, ages 14 to 21. Some officers fled to other commands. Others became reluctant to take assignments in proactive policing units, like   that put them in   situations on the street. “Whenever I walked through the doors of the precinct, to me, it seemed like a black cloud,” said Russell Lewis, a    of the 40th. “It was like a heaviness. When you walked in, all you wanted to do was do your 8 hours 35 minutes and go home, because you didn’t want to get caught up in anything. ” The precinct covers only about two square miles, but the more than a dozen housing projects there mean that it overflows with people. Methadone clinics draw addicts from around the city.   lofts on the southern edge of the precinct presage a wave of gentrification. Even as the Police Department has hired 1, 300 more officers for neighborhood policing and counterterrorism, officers in the 40th Precinct said they could still rush to 25 911 calls during a shift  —   a number unchanged from what the new police commissioner, James P. O’Neill, said he was handling in a similar South Bronx precinct 15 years ago. Several dozen calls at a time can be waiting for a response. Residents know that if you want the police for a domestic problem, it helps to hint that there is a weapon. Last year, the precinct drew the   number of civilian complaints for officer misconduct in the city, and the most lawsuits stemming from police actions. The precinct is trying to improve morale under a new commanding officer, Deputy Inspector Brian Hennessy. A cadre of what the department calls neighborhood coordination officers has been on patrol since last January, part of a citywide effort under Mr. O’Neill and Mayor Bill de Blasio to bring back the beat cop, unencumbered by chasing every last 911 call, who can listen to people’s concerns and help with investigations. The precinct has made among the most gun arrests in the city, and officers said they now had more discretion to resolve encounters without a summons or an arrest. At one corner near a school, on Courtlandt Avenue and East 151st Street, that has long spawned complaints about gunfire and fights, Inspector Hennessy and some of his officers painted over graffiti and swept up drug paraphernalia this summer. People said it was the first answer to their complaints in years. But the inspector acknowledged that the residue of   policing lingers. “That perception really sticks,” he said. The workload in the 40th Precinct is startling and reveals a gap in how detective squads are equipped to answer violent crime in Manhattan compared with the Bronx, Brooklyn and Queens. Three of the precinct’s 16 detectives are carrying more than 400 cases each this year, and many others have loads in the high 300s, even though the department advises 150 in violent precincts. When they are assigned a homicide, they typically have four days to investigate before dealing with other cases. Quieter precincts can give detectives a month with little distraction to investigate a murder. Detectives in the 40th Precinct have each handled an average of 79 violent felonies this year through    —   murders, rapes, felony assaults and robberies. By contrast, a detective in the precinct on the southern end of Staten Island carries nine such cases a detective in the precinct patrolling Union Square and Gramercy Park handles 16 and a detective in the precinct for most of Washington Heights handles 32, the citywide median. Last year, the 40th was the    for violent crime, with 65 cases per detective. In the Bronx as a whole, a precinct detective has carried an average of 58 violent felonies this year, compared with 27 in Manhattan, 37 in Brooklyn, 38 in Queens and 25 on Staten Island. Rape cases and robbery patterns are later sent to more specialized units, but precinct detectives do extensive initial work to interview victims, write reports and process evidence. Precincts in much of Manhattan, which are whiter and wealthier than the South Bronx, often have more property felonies, like stolen laptops or credit cards, and the police say those can be complex. But even accounting for those crimes, the 40th Precinct has some of the heaviest caseloads of overall crime per detective in the city. Michael Palladino, the head of the Detectives’ Endowment Association and a former Bronx officer, said staffing disparities affected the department’s efforts to build trust in communities like the South Bronx. Witnesses make a calculation, he said: “If I cooperate with the detectives, there’s so much work, there’s so few of them there, they won’t even get the chance to protect me, or they’ll be there too late when the retaliation comes. ” Sergeant LoPuzzo, who turned down a more prestigious post to stay in the 40th Precinct, said that his squad worked tirelessly to handle cases with the people he had, and that while every squad wanted more detectives, staffing needs for counterterrorism units and task forces had created new deployment challenges across the department. “We fight with the army we have, not the army we wish we had,” he said. Details of how the Police Department assigns its 36, 000 officers are closely held and constantly in flux, and the public has minimal information on how personnel are allocated. Presented with The Times’s analysis of confidential staffing data, the department’s chief of detectives, Robert K. Boyce, vowed to send more detectives to the 40th Precinct and said the department would reassess its deployment more broadly in troubled precincts. He said a recent decision to bring gang, narcotics and vice detectives under his command made it easier to shift personnel. Chief Boyce said the burdens on detectives went beyond felony crimes to include   and   cases. And he noted the support that precinct squads got from centralized units focusing on robberies, gangs or grand larcenies, for example. Major crime keeps pounding the 40th Precinct, at rates that in 2015 were only a tenth of a percent lower than in 2001, even as citywide crime dropped by more than a third over the same period. But the precinct’s detective squad shrank by about eight investigators during those years, according to staffing data obtained from the City Council through a Freedom of Information Law request. The squad covering Union Square and Gramercy Park, where crime dropped by a third over that period, grew by about 11 investigators. (The 40th Precinct was given an additional detective and four   investigators this summer, when it was already missing three detectives for illness or other reasons.) Retired detectives are skeptical that community relations alone can drive down crime in the city’s last “” the busiest precincts. Rather, they say, the Police Department should be dedicating more resources to providing the same sort of robust investigative response that seems standard in Manhattan. “Any crime in Manhattan has to be solved,” said Howard Landesberg, who was a 40th Precinct detective in the late 1980s. “The outer boroughs are, like, forgotten. ” Retired detectives said that understaffing made it harder to solve crimes in the Bronx, Brooklyn and Queens, where the higher prevalence of gang and drug killings already saddled investigators with cases in which people were not inclined to cooperate. Through   detectives had closed 67 percent of homicides in Manhattan and 76 percent of those in Staten Island this year, compared with 54 percent of those in the Bronx, 42 percent of those in Queens and 31 percent of those in Brooklyn. Of last year’s homicides, detectives cleared 71 percent in Manhattan, 63 percent in the Bronx, 62 percent in Queens, 57 percent in Staten Island and 31 percent in Brooklyn. “It’s the culture of the Police Department that they worry about Manhattan,” said Joseph L. Giacalone, a former sergeant in the Bronx Cold Case Squad, in part “because that’s where the money is. ” He added: “When de Blasio came in, he talked about the tale of two cities. And then he’s done the complete opposite of what he said. It’s just business as usual. ” The Bronx’s struggles extend into prosecutions. In each of the last five years, prosecutors in the Bronx have declined to prosecute violent felony cases more than anywhere else in the city. And the rate of conviction in the Bronx is routinely the lowest in the city as well, but has ticked up this year to surpass Brooklyn’s rate through November as Bronx prosecutors work to streamline cases. Some cases have become even more difficult to win because of the   problem in the 40th Precinct, which has allowed defense lawyers to attack the credibility of officers who were implicated, said Patrice O’Shaughnessy, a spokeswoman for the Bronx District Attorney’s office. The district attorney, Darcel D. Clark, elected in 2015, said in a statement, “I was a judge here in the Bronx, and I heard from jurors that they can’t be impartial because they don’t trust the police. ” Against that tide of mistrust, Sergeant LoPuzzo’s detectives work 36 hours straight on some fresh cases. They buy Chinese takeout with their own money for a murder suspect. They carry surveillance videos home in hopes that their personal computers may enhance them better than a squad computer. They buy an urn for a homeless mother who has her murdered son’s ashes in a box. In the months after a killing, they can seem like the only people in this glittering city who are paying attention to the 40th Precinct’s homicide victims. Newly fatherless children go back to school without a therapist’s help. Victims’ families wander confused through a courthouse and nearly miss an appearance. Newspapers largely ignore killings of people with criminal pasts, pushing them down the priority lists of the   chiefs at Police Headquarters. In a stuffy   squad room, the detectives of the 40th Precinct grapple with an inheritance of government neglect. They meet mothers who believe their sons might never have been murdered had a city guidance counselor listened to pleas to help them stay enrolled, or had a city housing worker fixed the locks or lights on a building. And the detectives work alongside a vicious system on the streets for punishing police cooperators. Young men scan court paperwork in prison, looking for the names of people who turned on them. One murder victim in the precinct this year was cast out of his crew after he avoided being arrested with them in a gang takedown some believed he was cooperating. A longtime 40th Precinct detective, Jeff Meenagh, said a witness in a homicide case was going to testify until he went back to his neighborhood and was told that anyone who testified would “get what you deserve. ” The allies Sergeant LoPuzzo makes are friendly only for so long. He helped clear a woman’s son of a robbery charge by locating surveillance video that proved he was not the robber. The mother started calling with tips under a code name  —   about a gun under a car, for example. But she always refused to testify. And she cut ties this year after Sergeant LoPuzzo arrested her son in the stabbing of two people and her   in a shooting. New York City owns East 146th Street and the   buildings on each side. But James Fernandez, in the Betances Houses, said the reality on the ground was different: The drug boss ran the block. By October, Mr. Fernandez was increasingly afraid  —   and fed up. Mr. Fernandez and his wife went so far as to give officers keys to the building door, so they could get in whenever they wanted, showed them the videos and offered them   access to his camera so they could see what was happening in the hallway. A couple of officers said they needed a supervisor’s permission to do more. Others answered that the young men were only making threats. Officers occasionally stopped outside their building, causing the young men to scatter, but did not come inside, Mr. Fernandez said. The menacing worsened. Mr. Fernandez’s daughter was harassed as she arrived home from school. She grew more and more distressed, and her parents had her start seeing a therapist. Mr. Fernandez made several complaints at the office of the borough president, Ruben Diaz Jr. and visited a victim’s advocate in the district attorney’s office. On Oct. 20, 2015, he sent an online note to the police commissioner’s office. “We went to all proper channels for help,” the note said. “Both precincts failed us, except 2 officers who helped us, but their hands are tied. No one else to turn to. I have months of video of multiple crimes taking place and we are in extreme danger. ” “40th and PSA 7 won’t do anything,” he wrote, referring to the local substation. “Please we need to speak to some one with authority. ” The local substation commander, Deputy Inspector Jerry O’Sullivan, and the Bronx narcotics unit were alerted to the complaints. But Mr. Fernandez said he never heard from them. So he relied on his own street instincts to protect his family. He made pleas to a man he thought was employing the dealers in the hallway. The activity quieted briefly, but it returned after the young men rented a room in a woman’s apartment upstairs. Mr. Fernandez approached a different man who he learned was the boss of the operation. The man agreed to ask the dealers to calm down. He even hired a drug customer to sweep the hallway, Mr. Fernandez said. But two weeks later, the dealing and the harassment resumed. So he went to his old Lower East Side bosses, who hired men to trail his wife and daughter on their way out of the building and make sure they made it safely to school. At other times they sat outside the Betances Houses. He also bought two bulletproof vests, for about $700 each. He could not find one small enough for his daughter. “I have no faith in the City of New York, I have no faith in the police, I have no faith in the politicians,” Mr. Fernandez said. “The only thing I know for sure: God, if we’re in a situation again, I will be left to defend my family. ” Paying such close attention to what was happening in the hallway, Mr. Fernandez said he learned some details about two recent homicides that the 40th Precinct was investigating. But because his calls for help were going nowhere, he said he decided not to put himself in greater risk by talking: He would not tell the police what he had learned. “I’m bending over backward, and nobody’s not even doing anything,” he said. “Why am I going to help you, if you ain’t going to help me?” By last January, a new neighborhood coordination officer was working with residents of the Betances Houses, and ended up with the most arrests in his housing command, Inspector O’Sullivan said. Chief Boyce said that the silos in which gang and narcotics detectives used to work made responding to complaints more difficult, but that the recent restructuring would remove those obstacles. “No one should live like Mr. Fernandez lived, with people dealing drugs outside of his apartment,” he said. Mr. Fernandez’s complaints did not spur any arrests, but two men from the hallway were caught separately this year in shootings. One of them, whom Mr. Fernandez named in a police report, was charged this summer with hitting an officer with a metal folding chair and firing three gunshots into a crowd, court papers say. He is being held on Rikers Island on an attempted murder charge. That was too late for Mr. Fernandez. By May, he had moved his family away.\"\n",
            "2,17285,\"Tyrus Wong, ‘Bambi’ Artist Thwarted by Racial Bias, Dies at 106 - The New York Times\",New York Times,Margalit Fox,2017-01-06,2017.0,1.0,,\"When Walt Disney’s “Bambi” opened in 1942, critics praised its spare, haunting visual style, vastly different from anything Disney had done before. But what they did not know was that the film’s striking appearance had been created by a Chinese immigrant artist, who took as his inspiration the landscape paintings of the Song dynasty. The extent of his contribution to “Bambi,” which remains a   mark for film animation, would not be widely known for decades. Like the film’s title character, the artist, Tyrus Wong, weathered irrevocable separation from his mother  —   and, in the hope of making a life in America, incarceration, isolation and rigorous interrogation  —   all when he was still a child. In the years that followed, he endured poverty, discrimination and chronic lack of recognition, not only for his work at Disney but also for his fine art, before finding acclaim in his 90s. Mr. Wong died on Friday at 106. A Hollywood studio artist, painter, printmaker, calligrapher,   illustrator and, in later years, maker of fantastical kites, he was one of the most celebrated   artists of the 20th century. But because of the marginalization to which   were long subject, he passed much of his career unknown to the general public. Artistic recognition, when Mr. Wong did find it, was all the more noteworthy for the fact that among Chinese immigrant men of his generation, professional prospects were largely limited to menial jobs like houseboy and laundryman. Trained as a painter, Mr. Wong was a leading figure in the Modernist movement that flourished in California between the first and second World Wars. In 1932 and again in 1934, his work was included in group shows at the Art Institute of Chicago that also featured Picasso, Matisse and Paul Klee. As a staff artist for Hollywood studios from the 1930s to the 1960s, he drew storyboards and made vibrant paintings, as detailed as any architectural illustrations, that helped the director envision each scene before it was shot. Over the years his work informed the look of animated pictures for Disney and   films for Warner Brothers and other studios, among them “The Sands of Iwo Jima” (1949) “Rebel Without a Cause” (1955) and “The Wild Bunch” (1969). But of the dozens of films on which he worked, it was for “Bambi” that Mr. Wong was  —   belatedly  —   most renowned. “He was truly involved with every phase of production,” John Canemaker, an   animator and a historian of animation at New York University, said in an interview for this obituary in March. “He created an art direction that had really never been seen before in animation. ” In 2013 and 2014, Mr. Wong was the subject of “Water to Paper, Paint to Sky,” a major retrospective at the Disney Family Museum in San Francisco. From the museum’s windows, which overlook San Francisco Bay, he could contemplate Angel Island, where more than nine decades earlier, as a lone    he had sought to gain admission to a country that adamantly did not want him. Wong Gen Yeo (the name is sometimes Romanized Wong Gaing Yoo) was born on Oct. 25, 1910, in a farming village in Guangdong Province. As a young child, he already exhibited a love of drawing and was encouraged by his father. In 1920, seeking better economic prospects, Gen Yeo and his father embarked for the United States, leaving his mother and sister behind. Gen Yeo would never see his mother again. They were obliged to travel under false identities  —   a state of affairs known among Chinese immigrants as being a “paper son”  —   in the hope of circumventing the Chinese Exclusion Act of 1882. Signed into law by President Chester A. Arthur, the act, which drastically curtailed the number of Chinese people allowed to enter the country, was among the earliest United States laws to impose severe restrictions on immigration. But in 1906, an unforeseen loophole opened in the form of the San Francisco earthquake and fire. Because a huge number of municipal documents, including birth and immigration records, were destroyed, many newly arrived Chinese capitalized on the loss, maintaining that they had been born in San Francisco before the fire. As United States citizens, they were entitled to bring over their relatives  —   or, in the case of Gen Yeo and his father, “paper sons” posing as relatives. Attuned to the deception, United States immigration officials put Chinese arrivals through a formidable inquisition to ensure they were who they claimed to be. The questions came like gunfire: In which direction does your village face? How many windows are in your house? Where in the house is the rice bin? How wide is your well? How deep? Are there trees in your village? Are there lakes? What shops can you name? The sponsoring relative was interrogated separately, and the answers had to match. For the new arrival, a major mistake, or a series of smaller ones, could mean deportation. To stand a chance of passing, aspirants memorized rigorous dossiers known as coaching papers. The ensuing interrogation was hard enough for adults.    Gen Yeo would undergo it alone. On Dec. 30, 1920, after a month at sea, the Wongs landed at Angel Island Immigration Station. The elder Mr. Wong was traveling as a merchant named Look Get his son as Look Tai Yow. “Angel Island is considered to be the Ellis Island of the West Coast,” Lisa See, the author of “On Gold Mountain” (1995) a nonfiction chronicle of her   family, said in an interview in 2016. However, she continued: “The goal was really very different than Ellis Island, which was supposed to be so welcoming. Angel Island opened very specifically to keep the Chinese out. ” Because Mr. Wong’s father had previously lived in the United States as Look Get, he was able to clear Immigration quickly. But as a new arrival, Gen Yeo was detained on the island for nearly a month, the only child among the immigrants being held there. “I was scared half to death I just cried,” Mr. Wong recalled in “Tyrus,” an   documentary directed by Pamela Tom, which premiered in 2015. “Every day is just miserable  —   miserable. I hated that place. ” On Jan. 27, 1921, in the presence of an interpreter and a stenographer, young Gen Yeo, posing as Look Tai Yow, was interrogated by three inspectors. His father had already been questioned. Gen Yeo was well prepared and answered without error. In Sacramento, where he joined his father, a schoolteacher Americanized “Tai Yow” to “Tyrus,” and he was known as Tyrus Wong ever after. Soon afterward, father and son were separated once more, when the elder Mr. Wong moved to Los Angeles to seek work. For reasons that have been lost to time, he could not take his son. Tyrus lived on his own in a Sacramento boardinghouse while attending elementary school. Two years later  —   possibly more  —   Tyrus traveled to Los Angeles to join his father, who had found work in a gambling den. They lived in a   boardinghouse sandwiched between a butcher shop and a brothel. After school, Tyrus worked as a houseboy for two Pasadena families, earning 50 cents a day. His first art teacher was his father, who trained him nightly in calligraphy by having him dip a brush in water and trace ghostly characters on newspaper: They could not afford ink or drawing paper. When Tyrus was in junior high, a teacher, noting his drawing talent, arranged a summer scholarship to the Otis Art Institute in Los Angeles. By his own account an indifferent student in public school, Tyrus found his calling at the institute, now the Otis College of Art and Design. When his scholarship ended he declined to return to junior high. His father scraped together the $90 tuition  —   a small fortune  —   to let him stay on as Otis’s youngest student. He studied there for at least five years, simultaneously working as the school janitor, before graduating in the 1930s. Not long afterward his father died, leaving young Mr. Wong entirely on his own. From 1936 to 1938, Mr. Wong was an artist for the Works Progress Administration, creating paintings for libraries and other public spaces. With friends, including the   artist Benji Okubo, he founded the Oriental Artists’ Group of Los Angeles, which organized exhibitions of members’ work  —   an   level of exposure for Asian artists at the time. Mr. Wong, newly married and needing steady work, joined Disney in 1938 as an “” creating the thousands of intermediate drawings that bring animated sequences to life. Asians were then a novelty at Hollywood studios, and Mr. Wong was made keenly aware of the fact, first at Disney and later at Warner Brothers. One   flung a racial epithet at him. Another assumed on sight that he worked in the company cafeteria. Then there was the affront of the  ’s job itself: Painstaking, repetitive and for Mr. Wong quickly   it is the   work of animation  —   “a terrible use of his talents as a landscape artist and a painter,” Mr. Canemaker said. A reprieve came in the late 1930s, when Mr. Wong learned that Disney was adapting “Bambi, a Life in the Woods,” the 1923 novel by the Austrian writer Felix Salten about a fawn whose mother is killed by a hunter. In trying to animate the book, Disney had reached an impasse. The studio had enjoyed great success in 1937 with its animated film “Snow White and the Seven Dwarfs,” a baroque production in which every detail of the backgrounds  —   every petal on every flower, every leaf on every tree  —   was meticulously represented. In an attempt to use a similar style for “Bambi,” it found that the ornate backgrounds camouflaged the deer and other forest creatures on which the narrative centered. Mr. Wong spied his chance. “I said, ‘Gee, this is all outdoor scenery,’” he recalled in a video interview years afterward, adding: “I said, ‘Gee, I’m a landscape painter! ’” Invoking the exquisite landscape paintings of the Song dynasty (A. D. 960 —  1279) he rendered in watercolors and pastels a series of nature scenes that were moody, lyrical and atmospheric  —   at once lush and spare  —   with backgrounds subtly suggested by a stroke or two of the brush. “Walt Disney went crazy over them,” said Mr. Canemaker, who wrote about Mr. Wong in his book “Before the Animation Begins: The Art and Lives of Disney Inspirational Sketch Artists” (1996). “He said, ‘I love this indefinite quality, the mysterious quality of the forest. ’” Mr. Wong was unofficially promoted to the rank of inspirational sketch artist. “But he was more than that,” Mr. Canemaker explained. “He was the designer he was the person they went to when they had questions about the color, about how to lay something out. He even influenced the music and the special effects: Just by the look of the drawings, he inspired people. ” Mr. Wong spent two years painting the illustrations that would inform every aspect of “Bambi. ” Throughout the finished film  —   lent a brooding quality by its stark landscapes misty, desaturated palette and figures often seen in silhouette  —   his influence is unmistakable. But in 1941, in the wake of a bitter employees’ strike that year, Disney fired Mr. Wong. Though he had chosen not to strike  —   he felt the studio had been good to him, Mr. Canemaker said  —   he was let go amid the lingering climate of   resentments. On “Bambi,” Mr. Wong’s name appears, quite far down in the credits, as a mere “background” artist. Mr. Wong joined Warner Brothers in 1942, working there  —   and lent out on occasion to other studios  —   until his retirement in 1968. The indignities he endured were not confined to the studios. Trying to buy a house, he and his wife, the former Ruth Kim, were told that each property they inquired about had just been sold. “Then in a month you’d go back there and the sign was still there,” Mr. Wong recalled in “Tyrus. ” After the Japanese attack on Pearl Harbor in December 1941, Mr. Wong, like many   took to wearing a lapel button proclaiming his heritage, lest an angry American beat him up on the street. The war permanently dispersed the fledgling Oriental Artists’ Group. Mr. Wong’s friend Mr. Okubo was sent, with tens of thousands of other   to an internment camp. “If World War II hadn’t happened when it did, I think these artists, even the   artists, would have more of a name than they do today,” Ms. See said. “And that’s because this little movement that had just barely started was split apart by the war. ” Mr. Wong, who became a United States citizen in 1946, also designed Christmas cards for Hallmark and painted elegant   designs on dinnerware, now sought after by collectors. A longtime resident of Sunland, Calif. he became, in retirement, a renowned kitemaker, designing, building and hand coloring astonishing, airworthy creations  —   butterflies, swallows, whole flocks of owls, centipedes more than 100 feet long  —   that streaked the Southern California sky like paint on blue canvas. During the last 15 years of Ruth Wong’s life, when she was ill with dementia, Mr. Wong forsook his work to care for her. After her death in 1995, he slowly began making art again. In 2001, in formal recognition of his influence on “Bambi,” Mr. Wong was named a Disney Legend. The honor  —   whose previous recipients include Fred MacMurray, Julie Andrews and Annette Funicello  —   is bestowed by the Walt Disney Company for outstanding contributions. In 2003, a retrospective of his work, curated in part by Ms. See, was the inaugural exhibition at the Chinese American Museum in Los Angeles. The Disney Family Museum’s retrospective, “Water to Paper, Paint to Sky,” traveled in 2015 to the Museum of Chinese in America, in Lower Manhattan. Mr. Wong’s death, at his home in Sunland, was confirmed by the filmmaker Ms. Tom. His survivors include three daughters, Kay Fong,   Wong and Kim Wong and two grandchildren. When his daughters were small, Mr. Wong encouraged them to make art, as his father had encouraged him. Yet he would not let them have coloring books. The reason was simple: He did not want his children constrained, he said, by lines laid down by others.\"\n",
            "3,17286,\"Among Deaths in 2016, a Heavy Toll in Pop Music - The New York Times\",New York Times,William McDonald,2017-04-10,2017.0,4.0,,\"Death may be the great equalizer, but it isn’t necessarily evenhanded. Of all the fields of endeavor that suffered mortal losses in 2016  —   consider Muhammad Ali and Arnold Palmer in sports and the      Hollywood deaths of Carrie Fisher and Debbie Reynolds  —   the pop music world had, hands down, the bleakest year. Start with David Bowie, whose stage persona  —   androgynous glam rocker, dance pop star, electronic experimentalist  —   was as   as his music. The year was only days old when the news came that he had died of cancer at 69. He had hinted that his time was short in the lyrics of his final album, released just two days before his death, but he had otherwise gone to great lengths to hide his illness from the public, a wish for privacy that ensured that his death would appear to have come out of the blue. Then came another shock, about three months later, when Prince accidentally overdosed on a painkiller and collapsed in an elevator at his sprawling home studio near Minneapolis. Death came to him at 57, and by all indications no one, including Prince Rogers Nelson, had seen it coming. As energetic onstage as ever, holding to an otherwise healthy regimen, he had successfully defied age into his sixth decade, so why not death, too? Leonard Cohen, on the other hand, in his 83rd year, undoubtedly did see it coming, just over his shoulder, but he went on his  —   I hesitate to say merry  —   way, ever the wise,   troubadour playing to sellout crowds and shrugging at the inevitable, knowing that the dark would finally overtake him but saying essentially, “Until then, here’s another song. ” It was as if 2016 hadn’t delivered enough jolts to the system when it closed out the year with yet another   death. George Michael, the 1980s sensation whose aura had dimmed in later years, was 53 when he went to bed and never woke up on Christmas. Pop music figures fell all year, many of their voices still embedded in the nicked vinyl grooves of old records that a lot of people can’t bear to throw out. The roster included Paul Kantner of Jefferson Airplane Keith Emerson and Greg Lake of Emerson, Lake and Palmer Glenn Frey of the Eagles and Maurice White of Earth, Wind  Fire. Leon Russell, the piano pounder with a Delta blues wail and a mountain man’s mass of hair, died. So did Merle Haggard, rugged country poet of the common man and the   outlaw. He was joined by the bluegrass legend Ralph Stanley and the guitar virtuoso who was practically glued to Elvis’s swiveling hips in the early days: Scotty Moore. And then there was George Martin, whose   genius had such a creative influence on the sounds of John, Paul, George and Ringo (and, by extension, on the entire rock era) that he was hailed as the fifth Beatle. If the music stars could fill arenas, so could idols of another stripe: the mighty athletes who left the scene. No figure among them was as towering as Ali. Some called him the greatest sports figure of the 20th century, the boxer who combined power, grace and brains in a way the ring had never seen. But he was more than a great athlete. Matters of war, race and religion coursed through his life in a publicly turbulent way. Some people hated him when he refused to be drafted during the Vietnam War, a decision that cost him his heavyweight title. But more people admired him, even loved him, for his principled stands, his high spirits, his lightning mind, his winking   and, yes, his rhyming motormouth. Until illness closed in, little could contain him, certainly not mere ropes around a ring. Palmer, too, was transformational, golf’s first media star. The gentleman’s game was never quite the same after he began gathering an army on the rolling greenswards and leading a charge, his shirt coming untucked, a cigarette dangling from his lips, his club just that, a weapon, as he pressed the attack. An entire generation of   postwar guys took up the game because of Arnie, and not a few women did, too. He was athletically blessed, magnetically cool, telegenically handsome  —   but he was somehow one of them, too. The same was said of Gordie Howe, Mr. Hockey, a son of the Saskatchewan prairie who tore up the National Hockey League, hung up his skates at 52 and died at 88 and of Ralph Branca, a trolley car conductor’s son who was a living reminder that one crushing mistake  —   his, the fastball to Bobby Thomson that decided the 1951 National League pennant  —   can sometimes never be lived down. Pat Summitt, the coach who elevated women’s basketball, led her Tennessee teams to eight championships and won more games than any other college coach, could not defeat Alzheimer’s disease, dying at 64. And within months the National Basketball Association lost two giants from different eras. Clyde Lovelette, an Olympic, college and N. B. A. champion who transformed the game as one of its first truly big men, was 86 his hardwood heir Nate Thurmond, a defensive stalwart who battled Russell, Wilt and Kareem in the paint in a   Hall of Fame career, was 74. Even older, in the baseball ranks, was Monte Irvin. When he died at 96, there were few people still around who could remember watching him play, particularly in his prime, in the 1940s, when he was a star on the Negro circuit but barred from the   major leagues. He made the Hall of Fame anyway as a New York Giant and became Major League Baseball’s first black executive, but when he died, fans pondered again the question that has hung over many an athletic career shackled by discrimination: What if? A different question, in an entirely different sphere, arose after the stunning news that Justice Antonin Scalia had died on a hunting trip in Texas: What now? In the thick of one of the most consequential Supreme Court careers of modern times, he left a void in conservative jurisprudence and, more urgently, a vacancy on the bench that has yet to be filled, raising still more questions about what may await the country. Other exits from the public stage returned us to the past. Nancy Reagan’s death evoked the 1980s White House, where   glamour and   West Coast conservatism took up residence on the banks of the Potomac. John Glenn’s had us thinking again about a   burst of national pride soaring into outer space. The deaths of Tom Hayden and Daniel Berrigan, avatars of defiance, harked back to the student rebellions of the 1960s and the Vietnam War’s roiling home front. Phyllis Schlafly’s obituaries were windows on the roots of the right wing’s ascension in American politics. The death of Janet Reno, the first woman to serve as attorney general, recalled the Clinton years, all eight of them, from the firestorm at Waco, Tex. to the international tug of war over a Cuban boy named Elián González, to the bitter Senate battle over impeachment. On other shores, Fidel Castro’s death at 90 summoned memories of Cuban revolution, nuclear brinkmanship and enduring enmity between a   strongman and the superpower only 90 miles away. The name of Boutros   the Egyptian diplomat who led the United Nations, led to replayed nightmares of genocide in Rwanda and Bosnia. The death of Shimon Peres removed a last link to the very founding of Israel and conjured decades of growing military power and fitful strivings for peace. And that of Elie Wiesel, in New York, after his tireless struggle to compel the world never to forget, made us confront once again the gas chambers of Auschwitz. If writers, too, are   even in fiction, then the world is poorer without the literary voices of Harper Lee, Umberto Eco, Pat Conroy, Jim Harrison, Anita Brookner, Alvin Toffler, Gloria Naylor and William Trevor, not to mention the playwrights Peter Shaffer, Dario Fo and,   Edward Albee  —   all dead in 2016. But just as treasured were those who spun   for our viewing pleasure  —   none more lustily than Ms. Fisher, the     Princess Leia of the “Star Wars” tales. Just a day later, capping a year of startling deaths, Ms. Reynolds, a singing and acting leading lady of an earlier era, died at 84 in the throes of a mother’s grief. Devotees of the “Harry Potter” movies were saddened by the death of Alan Rickman, who played the deliciously dour professor Severus Snape in that blockbuster franchise but whose career, on both stage and screen, was far richer than many of Snape’s younger fans may have known. Zsa Zsa Gabor’s celebrity, by contrast, outshone a modest acting career. Gene Wilder and Garry Shandling died in the same year, both having perfected a brand of hilariously neurotic comedy fit for a   culture. And this time Abe Vigoda, of the “Godfather” movies and “Barney Miller,” actually did die, after having not actually done so years ago when wildly uninformed people spread the word that he had. On the other side of the camera were directors whose vision came to us from all parts: Jacques Rivette, the French New Wave auteur, with his   meditations on life and art Abbas Kiarostami, the Iranian master, with his searching examinations of ordinary lives Andrzej Wajda, a rival to Ingmar Bergman and Akira Kurosawa in some critics’ eyes, with his haunting tales of Poland under the boot first of Nazis and then of Communists. A long roster of television stars of a generation or two ago passed on, images of their younger selves frozen in time: Noel Neill (“Adventures of Superman”) Alan Young (“Mister Ed”) Robert Vaughn (“The Man From U. N. C. L. E. ”) William Schallert and Patty Duke (father and daughter on “The Patty Duke Show”) Dan Haggerty (“The Life and Times of Grizzly Adams”) Florence Henderson (“The Brady Bunch”) and Alan Thicke (“Growing Pains”). And Garry Marshall, the creative force who practically owned prime time with “Happy Days,” “Mork  Mindy,” “Laverne  Shirley” and more, died at 81. On Broadway, lights were dimmed in memory of Brian Bedford, Tammy Grimes and Anne Jackson, all brilliant in their day. The architect Zaha Hadid left behind monuments to her fertile imagination and shaken acolytes around the world. The street photographer Bill Cunningham, who found fashion statements on every corner, was suddenly missing, making Manhattan, overnight, a less idiosyncratic, less interesting place. That smiling skinny man pedaling his bicycle among the honking cabs in a blue French worker’s jacket with a camera slung around his neck  —   what a picture!  —   had split from the scene. So had seemingly a generation of fellow photographers who had made art in recording the last half of the 20th century: Ruth Gruber, Marc Riboud, Louis Stettner and more. And so had the TV journalists Morley Safer and Gwen Ifill and the TV commentator John McLaughlin, all of whom had tried to make sense of it. Music’s other precincts were emptier without the conductor and revolutionary composer Pierre Boulez and the new music soprano Phyllis Curtin the jazz artists Mose Allison, Bobby Hutcherson and Gato Barbieri the rapper Phife Dawg (Malik Taylor) and the Latin megastar Juan Gabriel. Silicon Valley saw a giant depart in Andrew S. Grove, who led the semiconductor revolution at Intel. The television industry lost a   executive, Grant Tinker, who in the ’80s made NBC the network to watch in prime time. Astrophysics, and the smaller world of women in science, said farewell to a pioneer and a champion in Vera Rubin. And for tens of thousands of people who might have choked to death had they not been saved by his simple but ingenious maneuver, the passing of Henry J. Heimlich prompted not just sympathy but, even more, gratitude. Come to think of it, eliciting a large, if silent, thank you from those who live on is not a bad way for anyone to go. Which brings us to Marion Pritchard. Few who died in 2016 could have inspired measures of gratitude more profound. She was a brave young Dutch student and a   gentile who risked her life to save Jews from death camps in the early 1940s, in one instance shooting a Nazi stooge before he could seize three little children she had been hiding. By her estimate she saved 150 people. How many were still alive when she died a few weeks ago at 96 is anyone’s guess. But we know for certain that some were, and we can reasonably surmise that a good many more were, too, all of them still in possession of her selfless gift and her matchless legacy, their very lives.\"\n",
            "4,17287,Kim Jong-un Says North Korea Is Preparing to Test Long-Range Missile - The New York Times,New York Times,Choe Sang-Hun,2017-01-02,2017.0,1.0,,\"SEOUL, South Korea  —   North Korea’s leader, Kim   said on Sunday that his country was making final preparations to conduct its first test of an intercontinental ballistic missile  —   a bold statement less than a month before the inauguration of   Donald J. Trump. Although North Korea has conducted five nuclear tests in the last decade and more than 20 ballistic missile tests in 2016 alone, and although it habitually threatens to attack the United States with nuclear weapons, the country has never   an intercontinental ballistic missile, or ICBM. In his annual New Year’s Day speech, which was broadcast on the North’s   KCTV on Sunday, Mr. Kim spoke proudly of the strides he said his country had made in its nuclear weapons and ballistic missile programs. He said North Korea would continue to bolster its weapons programs as long as the United States remained hostile and continued its joint military exercises with South Korea. “We have reached the final stage in preparations to   an intercontinental ballistic rocket,” he said. Analysts in the region have said Mr. Kim might conduct another weapons test in coming months, taking advantage of leadership changes in the United States and South Korea. Mr. Trump will be sworn in on Jan. 20. In South Korea, President Park   whose powers were suspended in a Parliamentary impeachment on Dec. 9, is waiting for the Constitutional Court to rule on whether she should be formally removed from office or reinstated. If North Korea conducts a    test in coming months, it will test Mr. Trump’s new administration despite years of increasingly harsh sanctions, North Korea has been advancing toward Mr. Kim’s professed goal of arming his isolated country with the ability to deliver a nuclear warhead to the United States. Mr. Kim’s speech on Sunday indicated that North Korea may   a   rocket several times this year to complete its ICBM program, said Cheong   a senior research fellow at the Sejong Institute in South Korea. The first of such tests could come even before Mr. Trump’s inauguration, Mr. Cheong said. “We need to take note of the fact that this is the first New Year’s speech where Kim   mentioned an intercontinental ballistic missile,” he said. In his speech, Mr. Kim did not comment on Mr. Trump’s election. Doubt still runs deep that North Korea has mastered all the technology needed to build a reliable ICBM. But analysts in the region said the North’s launchings of   rockets to put satellites into orbit in recent years showed that the country had cleared some key technological hurdles. After the North’s satellite launch in February, South Korean defense officials said the Unha rocket used in the launch, if successfully reconfigured as a missile, could fly more than 7, 400 miles with a warhead of 1, 100 to 1, 300 pounds  —   far enough to reach most of the United States. North Korea has deployed Rodong ballistic missiles that can reach most of South Korea and Japan, but it has had a spotty record in   the Musudan, its   ballistic missile with a range long enough to reach American military bases in the Pacific, including those on Guam. The North has also claimed a series of successes in testing various ICBM technologies, although its claims cannot be verified and are often disputed by officials and analysts in the region. It has said it could now make nuclear warheads small enough to fit onto a ballistic missile. It also claimed success in testing the   technology that allows a   missile to return to the Earth’s atmosphere without breaking up. In April, North Korea reported the successful ground test of an engine for an intercontinental ballistic missile. At the time, Mr. Kim said the North “can tip   intercontinental ballistic rockets with more powerful nuclear warheads and keep any cesspool of evils in the Earth, including the U. S. mainland, within our striking range. ” On Sept. 9, the North conducted its fifth, and most powerful, nuclear test. Mr. Kim later attended another ground test of a new   rocket engine, exhorting his government to prepare for another rocket launch as soon as possible. In November, the United Nations Security Council imposed new  sanctions against the North.\"\n",
            "5,17288,\"Sick With a Cold, Queen Elizabeth Misses New Year’s Service - The New York Times\",New York Times,Sewell Chan,2017-01-02,2017.0,1.0,,\"LONDON  —   Queen Elizabeth II, who has been battling a cold for more than a week, missed a New Year’s Day church service at her country estate in Sandringham, Buckingham Palace said on Sunday. A week earlier, the queen, who is 90, missed a Christmas Day church service, for the first time since 1988, because of the illness. “The Queen does not yet feel ready to attend church as she is still recuperating from a heavy cold,” the palace said in a statement. The queen’s husband, Prince Philip, who had also been ill, was well enough to attend both services, in the church at Sandringham, which is in Norfolk, on the east coast of England. The queen, who ascended to the throne in 1952, became the world’s   monarch following the death of King Bhumibol Adulyadej of Thailand in October. She is also Britain’s   monarch, having last year surpassed Queen Victoria’s   reign. Her mother lived until the age of 101.\"\n",
            "6,17289,Taiwan’s President Accuses China of Renewed Intimidation - The New York Times,New York Times,Javier C. Hernández,2017-01-02,2017.0,1.0,,\"BEIJING  —   President Tsai   of Taiwan sharply criticized China’s leaders on Saturday, saying they had resorted to military and economic threats in order to intimidate the island. “Step by step, Beijing is going back to the old path of dividing, coercing and even threatening and intimidating Taiwan,” she told journalists in Taipei, the capital, at a   news conference. Tensions between Taiwan and China, which have been rivals since the Communist Revolution of 1949, intensified in December after Ms. Tsai spoke on the phone with the American   Donald J. Trump, breaking a longstanding diplomatic practice. In recent weeks, China has stepped up military activities near Taiwan, sending its sole aircraft carrier through the waters near the island and dispatching military planes in the region. On Monday, Beijing announced that São Tomé and Príncipe, an island nation off the west coast of Africa that was one of Taiwan’s fewer than two dozen remaining diplomatic allies, had switched its allegiance to the mainland, provoking an outcry in Taiwan. Despite Beijing’s recent actions, which she said had “hurt the feelings” of the Taiwanese people and destabilized relations, Ms. Tsai vowed to avoid a confrontation. “We will not bow to pressure, and we will of course not revert to the old path of confrontation,” she said. Ms. Tsai faces the delicate task of registering discontent with Beijing while also sending a message that Taiwan will exercise restraint. The United States, which sees Taiwan as one of its most reliable allies in Asia and has sold billions of dollars of weapons to the island, has long sought to avoid a conflict between the two sides. But the election of Mr. Trump could complicate matters. He has antagonized Beijing with a series of critical comments. The   has also questioned the One China policy, which has underpinned relations between Washington and Beijing for decades, and criticized China’s military buildup in the disputed South China Sea. Bonnie S. Glaser, an Asia expert at the Center for Strategic and International Studies in Washington, said Ms. Tsai’s words might reassure American officials that she would not pursue rash policies in the face of China’s show of strength. “She remains calm, rational and patient,” Ms. Glaser wrote in an email. Still, Ms. Tsai, whose Democratic Progressive Party has traditionally favored independence for Taiwan, could face serious challenges in the coming months. Many people in Taiwan are nervous that Mr. Trump will use the island as a bargaining chip against China. And Ms. Tsai’s preference for stability in the region may not mesh with Mr. Trump’s bombastic style. Richard C. Bush, the director of the Center for East Asia Policy Studies at the Brookings Institution in Washington, said Ms. Tsai understood the need to “maintain a balance among relations with China, relations with the United States and domestic politics. ” Ms. Tsai’s vision, however, “may not align well with the incoming Trump administration’s apparent belief that it can pressure China on all fronts more than the Obama administration has,” he said. Ms. Tsai also sought to quell concerns about planned stopovers in Houston and San Francisco during a visit to Central America scheduled for January. The Chinese Ministry of Foreign Affairs on Thursday called on the United States to block Ms. Tsai from entering the country, warning that such a visit would embolden independence activists in Taiwan. Ms. Tsai described the visit as “unofficial,” saying, “A transit stop is just a transit stop. ”\"\n",
            "7,17290,\"After ‘The Biggest Loser,’ Their Bodies Fought to Regain Weight - The New York Times\",New York Times,Gina Kolata,2017-02-08,2017.0,2.0,,\"Danny Cahill stood, slightly dazed, in a blizzard of confetti as the audience screamed and his family ran on stage. He had won Season 8 of NBC’s reality television show “The Biggest Loser,” shedding more weight than anyone ever had on the program  —   an astonishing 239 pounds in seven months. When he got on the scale for all to see that evening, Dec. 8, 2009, he weighed just 191 pounds, down from 430. Dressed in a   and   shorts, he was lean, athletic and as handsome as a model. “I’ve got my life back,” he declared. “I mean, I feel like a million bucks. ” Mr. Cahill left the show’s stage in Hollywood and flew directly to New York to start a triumphal tour of the talk shows, chatting with Jay Leno, Regis Philbin and Joy Behar. As he heard from fans all over the world, his elation knew no bounds. But in the years since, more than 100 pounds have crept back onto his    frame despite his best efforts. In fact, most of that season’s 16 contestants have regained much if not all the weight they lost so arduously. Some are even heavier now. Yet their experiences, while a bitter personal disappointment, have been a gift to science. A study of Season 8’s contestants has yielded surprising new discoveries about the physiology of obesity that help explain why so many people struggle unsuccessfully to keep off the weight they lose. Kevin Hall, a scientist at a federal research center who admits to a weakness for reality TV, had the idea to follow the “Biggest Loser” contestants for six years after that victorious night. The project was the first to measure what happened to people over as long as six years after they had lost large amounts of weight with intensive dieting and exercise. The results, the researchers said, were stunning. They showed just how hard the body fights back against weight loss. “It is frightening and amazing,” said Dr. Hall, an expert on metabolism at the National Institute of Diabetes and Digestive and Kidney Diseases, which is part of the National Institutes of Health. “I am just blown away. ” It has to do with resting metabolism, which determines how many calories a person burns when at rest. When the show began, the contestants, though hugely overweight, had normal metabolisms for their size, meaning they were burning a normal number of calories for people of their weight. When it ended, their metabolisms had slowed radically and their bodies were not burning enough calories to maintain their thinner sizes. Researchers knew that just about anyone who deliberately loses weight  —   even if they start at a normal weight or even underweight  —   will have a slower metabolism when the diet ends. So they were not surprised to see that “The Biggest Loser” contestants had slow metabolisms when the show ended. What shocked the researchers was what happened next: As the years went by and the numbers on the scale climbed, the contestants’ metabolisms did not recover. They became even slower, and the pounds kept piling on. It was as if their bodies were intensifying their effort to pull the contestants back to their original weight. Mr. Cahill was one of the worst off. As he regained more than 100 pounds, his metabolism slowed so much that, just to maintain his current weight of 295 pounds, he now has to eat 800 calories a day less than a typical man his size. Anything more turns to fat. The struggles the contestants went through help explain why it has been so hard to make headway against the nation’s obesity problem, which afflicts more than a third of American adults. Despite spending billions of dollars on   drugs and dieting programs, even the most motivated are working against their own biology. Their experience shows that the body will fight back for years. And that, said Dr. Michael Schwartz, an obesity and diabetes researcher who is a professor of medicine at the University of Washington, is “new and important. ” “The key point is that you can be on TV, you can lose enormous amounts of weight, you can go on for six years, but you can’t get away from a basic biological reality,” said Dr. Schwartz, who was not involved in the study. “As long as you are below your initial weight, your body is going to try to get you back. ” The show’s doctor, Robert Huizenga, says he expected the contestants’ metabolic rates to fall just after the show, but was hoping for a smaller drop. He questioned, though, whether the measurements six years later were accurate. But maintaining weight loss is difficult, he said, which is why he tells contestants that they should exercise at least nine hours a week and monitor their diets to keep the weight off. “Unfortunately, many contestants are unable to find or afford adequate ongoing support with exercise doctors, psychologists, sleep specialists, and trainers  —   and that’s something we all need to work hard to change,” he said in an email. The study’s findings, to be published on Monday in the journal Obesity, are part of a scientific push to answer some of the most fundamental questions about obesity. Researchers are figuring out why being fat makes so many people develop diabetes and other medical conditions, and they are searching for new ways to block the poison in fat. They are starting to unravel the reasons bariatric surgery allows most people to lose significant amounts of weight when dieting so often fails. And they are looking afresh at medical care for obese people. The hope is that this work will eventually lead to new therapies that treat obesity as a chronic disease and can help keep weight under control for life. Most people who have tried to lose weight know how hard it is to keep the weight off, but many blame themselves when the pounds come back. But what obesity research has consistently shown is that dieters are at the mercy of their own bodies, which muster hormones and an altered metabolic rate to pull them back to their old weights, whether that is hundreds of pounds more or that extra 10 or 15 that many people are trying to keep off. There is always a weight a person’s body maintains without any effort. And while it is not known why that weight can change over the years  —   it may be an effect of aging  —   at any point, there is a weight that is easy to maintain, and that is the weight the body fights to defend. Finding a way to thwart these mechanisms is the goal scientists are striving for. First, though, they are trying to understand them in greater detail. Dr. David Ludwig, the director of the New Balance Foundation Obesity Prevention Center at Boston Children’s Hospital, who was not involved in the research, said the findings showed the need for new approaches to weight control. He cautioned that the study was limited by its small size and the lack of a control group of obese people who did not lose weight. But, he added, the findings made sense. “This is a subset of the most successful” dieters, he said. “If they don’t show a return to normal in metabolism, what hope is there for the rest of us?” Still, he added, “that shouldn’t be interpreted to mean we are doomed to battle our biology or remain fat. It means we need to explore other approaches. ” Some scientists say weight maintenance has to be treated as an issue separate from weight loss. Only when that challenge is solved, they say, can progress truly be made against obesity. “There is a lot of basic research we still need to do,” said Dr. Margaret Jackson, who is directing a project at Pfizer. Her group is testing a drug that, in animals at least, acts like leptin, a hormone that controls hunger. With weight loss, leptin levels fall and people become hungry. The idea is to trick the brains of people who have lost weight so they do not become ravenous for lack of leptin. While many of the contestants kept enough weight off to improve their health and became more physically active, the low weights they strived to keep eluded all but one of them: Erinn Egbert, a   caregiver for her mother in Versailles, Ky. And she struggles mightily to keep the pounds off because her metabolism burns 552 fewer calories a day than would be expected for someone her size. “What people don’t understand is that a treat is like a drug,” said Ms. Egbert, who went from 263 pounds to just under 176 on the show, and now weighs between 152 and 157. “Two treats can turn into a binge over a   period. That is what I struggle with. ” Six years after Season 8 ended, 14 of the 16 contestants went to the N. I. H. last fall for three days of testing. The researchers were concerned that the contestants might try to frantically lose weight before coming in, so they shipped equipment to them that would measure their physical activity and weight before their visit, and had the information sent remotely to the N. I. H. The contestants received their metabolic results last week. They were shocked, but on further reflection, decided the numbers explained a lot. “All my friends were drinking beer and not gaining massive amounts of weight,” Mr. Cahill said. “The moment I started drinking beer, there goes another 20 pounds. I said, ‘This is not right. Something is wrong with my body. ’” Sean Algaier, 36, a pastor from Charlotte, N. C. feels cheated. He went from 444 pounds to 289 as a contestant on the show. Now his weight is up to 450 again, and he is burning 458 fewer calories a day than would be expected for a man his size. “It’s kind of like hearing you have a life sentence,” he said. Slower metabolisms were not the only reason the contestants regained weight, though. They constantly battled hunger, cravings and binges. The investigators found at least one reason: plummeting levels of leptin. The contestants started out with normal levels of leptin. By the season’s finale, they had almost no leptin at all, which would have made them ravenous all the time. As their weight returned, their leptin levels drifted up again, but only to about half of what they had been when the season began, the researchers found, thus helping to explain their urges to eat. Leptin is just one of a cluster of hormones that control hunger, and although Dr. Hall and his colleagues did not measure the rest of them, another group of researchers, in a different project, did. In a   study funded by Australia’s National Health and Medical Research Council, Dr. Joseph Proietto of the University of Melbourne and his colleagues recruited 50 overweight people who agreed to consume just 550 calories a day for eight or nine weeks. They lost an average of nearly 30 pounds, but over the next year, the pounds started coming back. Dr. Proietto and his colleagues looked at leptin and four other hormones that satiate people. Levels of most of them fell in their study subjects. They also looked at a hormone that makes people want to eat. Its level rose. “What was surprising was what a coordinated effect it is,” Dr. Proietto said. “The body puts multiple mechanisms in place to get you back to your weight. The only way to maintain weight loss is to be hungry all the time. We desperately need agents that will suppress hunger and that are safe with   use. ” Mr. Cahill, 46, said his weight problem began when he was in the third grade. He got fat, then fatter. He would starve himself, and then eat a whole can of cake frosting with a spoon. Afterward, he would cower in the pantry off the kitchen, feeling overwhelmed with shame. Over the years, his insatiable urge to eat kept overcoming him, and his weight climbed: 370 pounds, 400, 460, 485. “I used to look at myself and think, ‘I am horrible, I am a monster, subhuman,’” he said. He began sleeping in a recliner because he was too heavy to sleep lying down. Walking hurt stairs were agony. Buying clothes with a 68 waist was humiliating. “I remember sitting in a dressing room one day, and nothing would fit. I looked at the traffic outside on the street and thought, ‘I should just run out in front of a car. ’” He eventually seized on “The Biggest Loser” as his best chance to lose enough weight to live a normal life. He tried three times and was finally selected. Before the show began, the contestants underwent medical tests to be sure they could endure the rigorous schedule that lay ahead. And rigorous it was. Sequestered on the “Biggest Loser” ranch with the other contestants, Mr. Cahill exercised seven hours a day, burning 8, 000 to 9, 000 calories according to a calorie tracker the show gave him. He took electrolyte tablets to help replace the salts he lost through sweating, consuming many fewer calories than before. Eventually, he and the others were sent home for four months to try to keep losing weight on their own. Mr. Cahill set a goal of a   deficit per day. The idea was to lose a pound a day. He quit his job as a land surveyor to do it. His routine went like this: Wake up at 5 a. m. and run on a treadmill for 45 minutes. Have breakfast  —   typically one egg and two egg whites, half a grapefruit and a piece of sprouted grain toast. Run on the treadmill for another 45 minutes. Rest for 40 minutes bike ride nine miles to a gym. Work out for two and a half hours. Shower, ride home, eat lunch  —   typically a grilled skinless chicken breast, a cup of broccoli and 10 spears of asparagus. Rest for an hour. Drive to the gym for another round of exercise. If he had not burned enough calories to hit his goal, he went back to the gym after dinner to work out some more. At times, he found himself running around his neighborhood in the dark until his   indicator reset to zero at midnight. On the day of the   on the show’s finale, Mr. Cahill and the others dressed carefully to hide the rolls of loose skin that remained, to their surprise and horror, after they had lost weight. They wore compression undergarments to hold it in. Mr. Cahill knew he could not maintain his finale weight of 191 pounds. He was so mentally and physically exhausted he barely moved for two weeks after his publicity tour ended. But he had started a new career giving motivational speeches as the biggest loser ever, and for the next four years, he managed to keep his weight below 255 pounds by exercising two to three hours a day. But two years ago, he went back to his job as a surveyor, and the pounds started coming back. Soon the scale hit 265. Mr. Cahill started weighing and measuring his food again and stepped up his exercise. He got back down to 235 to 240 pounds. But his weight edged up again, to 275, then 295. His slow metabolism is part of the problem, and so are his food cravings. He opens a bag of chips, thinking he will have just a few. “I’d eat five bites. Then I’d black out and eat the whole bag of chips and say, ‘What did I do? ’” Dr. Lee Kaplan, an obesity researcher at Harvard, says the brain sets the number of calories we consume, and it can be easy for people to miss that how much they eat matters less than the fact that their bodies want to hold on to more of those calories. Dr. Michael Rosenbaum, an obesity researcher at Columbia University who has collaborated with Dr. Hall in previous studies, said the body’s systems for regulating how many calories are consumed and how many are burned are tightly coupled when people are not strenuously trying to lose weight or to maintain a significant weight loss. Still, pounds can insidiously creep on. “We eat about 900, 000 to a million calories a year, and burn them all except those annoying 3, 000 to 5, 000 calories that result in an average annual weight gain of about one to two pounds,” he said. “These very small differences between intake and output average out to only about 10 to 20 calories per day  —   less than one Starburst candy  —   but the cumulative consequences over time can be devastating. ” “It is not clear whether this small imbalance and the resultant weight gain that most of us experience as we age are the consequences of changes in lifestyle, the environment or just the biology of aging,” Dr. Rosenbaum added. The effects of small imbalances between calories eaten and calories burned are more pronounced when people deliberately lose weight, Dr. Hall said. Yes, there are signals to regain weight, but he wondered how many extra calories people were driven to eat. He found a way to figure that out. He analyzed data from a clinical trial in which people took a diabetes drug, canagliflozin, that makes them spill 360 calories a day into their urine, or took a placebo. The drug has no known effect on the brain, and the person does not realize those calories are being spilled. Those taking the drug gradually lost weight. But for every five pounds they lost, they were, without realizing it, eating an additional 200 calories a day. Those extra calories, Dr. Hall said, were a bigger driver of weight regained than the slowing of the metabolism. And, he added, if people fought the urge to eat those calories, they would be hungry. “Unless they continue to fight it constantly, they will regain the weight,” he said. All this does not mean that modest weight loss is hopeless, experts say. Individuals respond differently to diet manipulations  —     or   diets, for example  —   and to exercise and   drugs, among other interventions. But Dr. Ludwig said that simply cutting calories was not the answer. “There are no doubt exceptional individuals who can ignore primal biological signals and maintain weight loss for the long term by restricting calories,” he said, but he added that “for most people, the combination of incessant hunger and slowing metabolism is a recipe for weight regain  —   explaining why so few individuals can maintain weight loss for more than a few months. ” Dr. Rosenbaum agreed. “The difficulty in keeping weight off reflects biology, not a pathological lack of willpower affecting   of the U. S. A. ,” he said. Mr. Cahill knows that now. And with his report from Dr. Hall’s group showing just how much his metabolism had slowed, he stopped blaming himself for his weight gain. “That shame that was on my shoulders went off,” he said.\"\n",
            "8,17291,\"First, a Mixtape. Then a Romance. - The New York Times\",New York Times,Katherine Rosman,2016-12-31,2016.0,12.0,,\"Just how   is Hillary Kerr, the    founder of a   digital media company in Los Angeles? She can tell you what song was playing five years ago on the jukebox at the bar where she somewhat randomly met the man who became her husband. It was “These Days,” the version sung by Nico, the German   made famous by Andy Warhol and the Velvet Underground. Actually, the song had been playing just before she met Jonathan Leahy, now 38, on that December night in 2011 at the 4100 Bar in the Silver Lake district of Los Angeles. Ms. Kerr can’t remember exactly what was playing when they met because at that moment she was jumping up and down “like Tigger,” as she put it. In answering the usual     questions, Mr. Leahy told her he was a music supervisor for “Girls,” the HBO show created by and starring Lena Dunham. That was enough to get Ms. Kerr bouncing. “Your music has changed my life!” she told Mr. Leahy. Mr. Leahy, who is quiet but not shy (at least he doesn’t jump up and down upon meeting people) was mesmerized. “My main reaction,” he said, “was it’s a lot easier to talk to beautiful women in a bar when you’re working on a hit show. ” They exchanged email addresses, more an act of politeness than promise. Then their soundtrack went quiet for almost a year. Both Mr. Leahy and Ms. Kerr had active social lives, but they were focused on their careers. Mr. Leahy, who grew up in Laconia, N. H. graduated from the College of William and Mary in Williamsburg, Va. in 2000 and landed in Los Angeles later that year. Now he is a music supervisor with Aperture Music and is joined by Manish Raval and Tom Wolfe in being responsible for the music on “Girls. ” The team has also worked on films including “Trainwreck” and television series such as “New Girl. ” In addition, Mr. Leahy is the music supervisor for “Survivor’s Remorse” on Starz. Ms. Kerr grew up in the La Jolla section of San Diego, graduated from the University of Southern California in 2000 and eventually made her way to New York, where she took a job as an assistant at Elle magazine. In 2005 she moved back to the West Coast, to Los Angeles, and with a fellow Elle alum,  Katherine Power, created a company best known for its website, Who What Wear, which casts an eye on celebrity culture and fashion it now has 13 million monthly unique visitors. Ms. Kerr and Ms. Power also started the Who What Wear clothing and accessories line sold at Target. It was nine months after their initial meeting that Mr. Leahy emailed Ms. Kerr. He had a friend who wanted to get into the fashion industry. Ms. Kerr, Mr. Leahy and his friend met for a long, boozy brunch. They began to email and text a bit. “There was banter,” Ms. Kerr said, but neither knew the interest or intention of the other. A few months later, she texted to ask if he could help her score a ticket to see the band Lord Huron. Mr. Leahy happens to be a friend of Ben Schneider, the band’s lead singer, and had an extra ticket. “This was one of those moments where the universe conspires to make you seem cooler than you actually are,” Mr. Leahy said. He and Ms. Kerr met up at the show. That is when Mr. Leahy and Ms. Kerr moved into the ambiguous “mixtape era,” in which for months they emailed and texted each other with coy “are we just friends or what” texts revolving around music. For example, Ms. Kerr was visiting New York and texted Mr. Leahy a request for “walking around SoHo music. ” He sent her a link to “Love Me Again,” by John Newman. It has a club vibe but romantic lyrics. “I wanted to read into it,” Ms. Kerr said, but she figured (correctly, it turns out) that her new friend was a bit of a clueless guy who didn’t spend much time thinking about how a woman might react to such a song being shared with her. Another time he emailed her a link to a Fleetwood Mac version of “Need Your Love So Bad. ” After listening to it, Ms. Kerr said, “I called my friend Katie. ” “At that time,” she continued, “I just referred to him as ‘the supervisor.’ She knew I had a crush on him. She said, ‘How can it not mean something? ’” Mr. Leahy acknowledged that it might be difficult for a person to think he was not sending Ms. Kerr a message with this song. “I sort of thought, ‘Maybe it’s too much. ’” But he shared it with her anyway. (This is the same man who sent her the song “BedBedBedBedBed, Vacationer Remix,” by Deleted Scenes, “during the friend phase,” Ms. Kerr said.) Ms. Kerr played the game, too. She made Mr. Leahy a mix CD (handwritten liner notes and all) that she titled “Feynman Diagrams for All,” after Mr. Leahy told her in a text conversation that he thought the idea of Feynman diagrams  —   in which physicists map out the interactions of subatomic particles  —   was romantic. On the mix, Ms. Kerr included the Mazzy Star song “I’ve Been Let Down. ” It was “a bit of an Easter egg of my actual feelings,” she said. Around this time, Ms. Kerr texted Mr. Leahy a photo of the drink menu from a bar,  the Roger Room. She had focused on a drink named for the song “Christmas Card From a Hooker in Minneapolis,” which happens to be Mr. Leahy’s favorite Tom Waits tune. “This made me rethink things a bit,” he said, adding, “Hillary Kerr was clearly not to be trifled with. ” In early 2014, Mr. Leahy invited her to a Bleachers concert. The band’s lead singer is Jack Antonoff, who is Ms. Dunham’s boyfriend. Ms. Dunham was at the concert as well, and on meeting Ms. Kerr, she said, “I’ve heard so much about you. ” Ms. Kerr and Mr. Leahy shared their first kiss that night. He proposed to her on Polihale Beach in Kauai, Hawaii, on Jan. 1, 2016. On Dec. 10, 125 friends and relatives gathered in Palm Springs, Calif. at the Colony Palms Hotel, which was opened in 1936 by the reputed mobster Al Wertheimer and whose poolside guests have included Frank Sinatra, Ronald Reagan, Kirk Douglas and Zsa Zsa Gabor. Ms. Kerr walked down a grassy aisle in a   courtyard wearing a structured lace Reem Acra dress, strapless with a bustier and a full skirt. Four musicians played “Once, With Feeling,” an instrumental song Mr. Leahy wrote for Ms. Kerr. . Just minutes into the cocktail reception, a few of Ms. Kerr’s best friends descended upon her. Jen Atkin, the celebrity hairstylist and social media star, started fussing with the flower she had sewn into the bride’s hair. Joey Maalouf, the celebrity makeup artist who is a creator of the       service the Glam App, whipped out a tube of lip gloss and reapplied it to the bride’s pucker. He had done her makeup. “The look we went for is sickeningly stunning and perfect,” he said. Guests mingled over drinks by the pool, which was framed by banquette tables lit from above by strings of bulbs. The sky turned pink before the stars appeared, and guests snapped photos and shared them with the hundreds of thousands who follow these members of the   illuminati (#imwithkerr and #letsgetleahyed). “This looks like it’s art directed,” Eva Chen, the head of fashion partnerships for Instagram, said as she took it all in. She had worked as an assistant at Elle with Ms. Kerr. Friends of both the bride and the groom celebrated what they saw as a great match, based on passion not only for each other but also for music. Leigh Belz Ray, the features and news director at InStyle, was another former Elle colleague who made the trip. “Hillary loves music, and it’s not just a casual thing,” Ms. Ray said. “We used to say the ultimate fantasy was to become a music director, and now she’s married to one. ” After a romantic first dance to Solomon Burke’s “If You Need Me,” Mr. and Mrs. Leahy (she will use her maiden name professionally) settled into several hours of serious dancing to songs spun by a D. J. And before they left for their Hawaiian honeymoon, Mr. Leahy completed his first important act as husband. He pulled together many of the songs that could be considered the soundtrack to their romance and made his wife a mixtape. When Dec. 10, 2016 Where Colony Palms Hotel, Palm Springs, Calif. Flora The bride and groom were married under a white birch trellis, because white birch is the state tree of New Hampshire, where Mr. Leahy grew up and where his parents, Richard and Marie Leahy, reside. The structure was wrapped in white peonies, Sahara roses and camellia greens. Readings Mr. Leahy’s family is Roman Catholic Ms. Kerr’s parents, John and Carole Kerr, are more spiritual than religiously observant. Many of the guests had an artistic bent. The bride and groom planned accordingly. Marshall Goldsmith, an executive coach, author and lifelong family friend of Ms. Kerr, officiated. Friends and relatives stood to read poems from James Kavanaugh and Mary Oliver, as well as a passage from the Supreme Court’s 2015 ruling legalizing   marriage. “A little Catholic priest, a little lesbian Pulitzer Prize winner, a little equal rights for all,” Ms. Kerr explained after the ceremony.\"\n"
          ],
          "name": "stdout"
        }
      ]
    },
    {
      "cell_type": "code",
      "metadata": {
        "id": "NY8YsPZdyPNx",
        "colab_type": "code",
        "outputId": "f972a138-2e08-450e-adc6-6359c3737bf0",
        "colab": {
          "base_uri": "https://localhost:8080/",
          "height": 73
        }
      },
      "source": [
        "import csv\n",
        "import sys\n",
        "import re\n",
        "csv.field_size_limit(sys.maxsize)\n",
        "\n",
        "def get_date(st):\n",
        "    dates = re.findall(r\"\\d\\d\\d\\d\\-\\d\\d\\-\\d\\d\", st)\n",
        "    return next(iter(dates), None)\n",
        "\n",
        "all_the_news_files = (\"articles1.csv\", \"articles2.csv\", \"articles3.csv\")\n",
        "atn_data = []\n",
        "for file_name in all_the_news_files:\n",
        "    with open(file_name, \"r\") as r:\n",
        "        next(r)\n",
        "        reader = csv.reader(r, delimiter=',')\n",
        "        for row in reader:\n",
        "            _, _, _, host, _, date, _, _, _, text = row\n",
        "            if date == 'nan' or get_date(date) is None:\n",
        "                continue\n",
        "            atn_data.append({\"text\": text, \"site_name\": host, \"date\": date})\n",
        "atn_data.sort(key=lambda x: x[\"date\"])\n",
        "print(atn_data[0])\n",
        "print(len(atn_data))"
      ],
      "execution_count": 0,
      "outputs": [
        {
          "output_type": "stream",
          "text": [
            "{'text': 'In the early 1990s, Seattle stood at the center of a new rock ’n’ roll genre called grunge. The music was loud, pared down, and largely unrestrained. Hundreds of garage bands formed in Seattle over a short period of time. One of them, Nirvana, achieved mammoth success with its first   single, ”Smells Like Teen Spirit.” That song, the band and lead singer Kurt Cobain would come to represent the genre.  By the time Nirvana started playing in the small clubs around Pioneer Square in Seattle, pop music was witnessing the decline of the highly produced synthesized sound that had dominated it for years. At that time, rock subgenres were pretty  . Heavy metal was loud, and the   alternative bands from England cranked out such earnest tunes that critics called the style New Romantic music. American punk, while still vital, wasn’t commercially viable. In 1991, all that was about to change. Nirvana performed a version of ”Smells Like Teen Spirit” in front of a small crowd at the OK Hotel in Seattle. Jonathan Poneman,   of Sub Pop Records, was there. ”It started off with that chord progression, and it went into a really beautiful, almost dreamy verse,” Poneman says. ”And then they went into a bridge, which seemed to be leading to something. I mean, there was this tension in the bridge. It’s hard to explain, but then it erupted into this chorus and it was really a   experience. I believe that everybody in the room knew that they were listening to something that was truly magnificent.” ”Smells Like Teen Spirit” became an unlikely hit. It wasn’t a track designed to be marketable, or even accessible. Check out the pop charts in 1991, and you’ll find artists like Paula Abdul, Color Me Badd and Mariah Carey all dominating the Top 20. It’s the kind of music that parents could listen to with their kids. But ”Smells Like Teen Spirit” was a song that parents were going to hate. It didn’t make sense. You couldn’t understand the words, and the chorus sounded like shouting. An Unlikely Blockbuster, Nevermind, the album that included ”Smells Like Teen Spirit,” reached the top of the charts. Most ironic is that the very demographic ”Smells Like Teen Spirit” appeals to, the   slacker generation, is the subject of ridicule in the song. Singer Kurt Cobain observes his generation as ”   .” The refrain shouts, ”Here we are now, entertain us.” Nirvana crafted a cynical video to accompany the track that showed the band playing background music for a truly spirited   cheerleading squad. Almost instantly, the song was embraced as a crossover anthem. It appealed to the football players and cheerleaders just as much as it did to the   teenage punks. You could interpret it as a generation’s call to arms or a simple loud rock song. And despite massive commercial success, Nirvana managed to maintain its credibility by posing as   stars. The first time the band was featured on the cover of Rolling Stone magazine, Kurt Cobain wore a shirt that read, ”Corporate rock mags still suck.” ”There have been a lot of great and popular   bands, but there was always a feeling or a suspicion that their careers were somehow manufactured,” Poneman says. ”Nirvana was the real deal.” ”I mean, in a very short period of time, they went from playing for eight people at a small tavern in the Pioneer Square district of Seattle to playing the Coliseum, and they did it on their own terms.” And their own terms were simple: Nirvana was part of a movement that believed anyone could produce music. Neither money nor connections nor even talent were prerequisites. But for all the band’s   rock credentials, Nirvana’s legacy would have a very corporate impact on alternative rock. With its success, record companies turned grunge into one of the most profitable and   rock  . Years later, the acts that dominate the charts pose as   stars  —   and, at the same time, make a lot of money doing it.', 'site_name': 'NPR', 'date': '2000-05-15'}\n",
            "134982\n"
          ],
          "name": "stdout"
        }
      ]
    },
    {
      "cell_type": "code",
      "metadata": {
        "id": "Z6KoPumITgbB",
        "colab_type": "code",
        "colab": {}
      },
      "source": [
        "def words_to_embed(model, words):\n",
        "    vectors = [model.get_word_vector(w) for w in words]\n",
        "    norm_vectors = [x / np.linalg.norm(x) for x in vectors]\n",
        "    avg_wv = np.mean(norm_vectors, axis=0)\n",
        "    max_wv = np.max(norm_vectors, axis=0)\n",
        "    min_wv = np.min(norm_vectors, axis=0)\n",
        "    return np.concatenate((avg_wv, max_wv, min_wv))"
      ],
      "execution_count": 0,
      "outputs": []
    },
    {
      "cell_type": "code",
      "metadata": {
        "id": "-PVkyLzUTm7m",
        "colab_type": "code",
        "colab": {}
      },
      "source": [
        "import pyonmttok\n",
        "tokenizer = pyonmttok.Tokenizer(\"conservative\", joiner_annotate=False)\n",
        "\n",
        "def preprocess(text):\n",
        "    text = str(text).strip().replace(\"\\n\", \" \").replace(\"\\xa0\", \" \").lower()\n",
        "    tokens, _ = tokenizer.tokenize(text)\n",
        "    text = \" \".join(tokens)\n",
        "    return text"
      ],
      "execution_count": 0,
      "outputs": []
    },
    {
      "cell_type": "code",
      "metadata": {
        "id": "pTP-GBtXSx6R",
        "colab_type": "code",
        "outputId": "c34f0aae-e7ab-42dc-f8ab-8ea9d57fbfab",
        "colab": {
          "base_uri": "https://localhost:8080/",
          "height": 377
        }
      },
      "source": [
        "import numpy as np\n",
        "\n",
        "def get_samples(data, count):\n",
        "    last_host_end = {}\n",
        "    samples = []\n",
        "    for i, row in enumerate(data[:count]):\n",
        "        if i % 10000 == 0:\n",
        "            print(i)\n",
        "        \n",
        "        host = row[\"site_name\"]\n",
        "        text = preprocess(row[\"text\"])\n",
        "        words = text.split(\" \")\n",
        "        if len(words) < 4:\n",
        "            continue\n",
        "        words = words[:500]\n",
        "            \n",
        "        border = len(words) // 2\n",
        "        begin_words = words[:border]\n",
        "        end_words = words[border:]\n",
        "\n",
        "        left_vector = words_to_embed(model, begin_words)\n",
        "        left_text = \" \".join(begin_words)\n",
        "        right_vector = words_to_embed(model, end_words)\n",
        "        right_text = \" \".join(end_words)\n",
        "\n",
        "        samples.append((left_vector, right_vector, left_text, right_text, 1))\n",
        "        if host in last_host_end:\n",
        "            samples.append((left_vector, last_host_end[host][0], left_text, last_host_end[host][1], 0))\n",
        "        last_host_end[host] = (right_vector, right_text)\n",
        "    return samples\n",
        "\n",
        "tg_samples = get_samples(tg_data, 100000)\n",
        "atn_samples = get_samples(atn_data, 100000)"
      ],
      "execution_count": 0,
      "outputs": [
        {
          "output_type": "stream",
          "text": [
            "0\n",
            "10000\n",
            "20000\n",
            "30000\n",
            "40000\n",
            "50000\n",
            "60000\n",
            "70000\n",
            "80000\n",
            "90000\n",
            "0\n",
            "10000\n",
            "20000\n",
            "30000\n",
            "40000\n",
            "50000\n",
            "60000\n",
            "70000\n",
            "80000\n",
            "90000\n"
          ],
          "name": "stdout"
        }
      ]
    },
    {
      "cell_type": "code",
      "metadata": {
        "id": "HqblHw6DUZUG",
        "colab_type": "code",
        "colab": {}
      },
      "source": [
        "tg_test_size = len(tg_samples) // 10\n",
        "atn_test_size = len(atn_samples) // 10\n",
        "tg_test_samples = tg_samples[-tg_test_size:]\n",
        "train_samples = tg_samples[:-tg_test_size] + atn_samples[:-atn_test_size]\n",
        "test_samples = tg_test_samples + atn_samples[-atn_test_size:]"
      ],
      "execution_count": 0,
      "outputs": []
    },
    {
      "cell_type": "code",
      "metadata": {
        "id": "9J3kXsXfUy7m",
        "colab_type": "code",
        "outputId": "2c41ae93-67c5-4f42-9b97-061bd805dbc9",
        "colab": {
          "base_uri": "https://localhost:8080/",
          "height": 35
        }
      },
      "source": [
        "from sklearn import metrics\n",
        "from scipy import spatial\n",
        "\n",
        "scores = []\n",
        "test_y = []\n",
        "for sample in test_samples:\n",
        "    left_vector, right_vector, _, _, y = sample\n",
        "    test_y.append(y)\n",
        "    scores.append(-spatial.distance.cosine(left_vector, right_vector))\n",
        "metrics.roc_auc_score(test_y, scores)"
      ],
      "execution_count": 0,
      "outputs": [
        {
          "output_type": "execute_result",
          "data": {
            "text/plain": [
              "0.8106093696115096"
            ]
          },
          "metadata": {
            "tags": []
          },
          "execution_count": 57
        }
      ]
    },
    {
      "cell_type": "code",
      "metadata": {
        "id": "lrWCJwlcVBhH",
        "colab_type": "code",
        "outputId": "1666738e-2998-46e5-f4e6-fd22ce391c18",
        "colab": {
          "base_uri": "https://localhost:8080/",
          "height": 73
        }
      },
      "source": [
        "from keras.layers import Input, Dense, Dot\n",
        "from keras.models import Model\n",
        "\n",
        "left_input = Input(shape=(150,), dtype='float32')\n",
        "right_input = Input(shape=(150,), dtype='float32')\n",
        "dense = Dense(50, activation='linear')\n",
        "left_dense = dense(left_input)\n",
        "right_dense = dense(right_input)\n",
        "dot_layer = Dense(1, activation='sigmoid')(Dot(axes=1, normalize=True)([left_dense, right_dense]))\n",
        "nn_model = Model(inputs=[left_input, right_input], output=dot_layer)"
      ],
      "execution_count": 0,
      "outputs": [
        {
          "output_type": "stream",
          "text": [
            "/usr/local/lib/python3.6/dist-packages/ipykernel_launcher.py:10: UserWarning: Update your `Model` call to the Keras 2 API: `Model(inputs=[<tf.Tenso..., outputs=Tensor(\"de...)`\n",
            "  # Remove the CWD from sys.path while we load stuff.\n"
          ],
          "name": "stderr"
        }
      ]
    },
    {
      "cell_type": "code",
      "metadata": {
        "id": "-LJ-X1NnVUcw",
        "colab_type": "code",
        "colab": {}
      },
      "source": [
        "from keras import optimizers\n",
        "nn_model.compile(optimizer=optimizers.Adam(lr=0.4), loss='binary_crossentropy', metrics=['accuracy'])"
      ],
      "execution_count": 0,
      "outputs": []
    },
    {
      "cell_type": "code",
      "metadata": {
        "id": "Nq5WBl-yVXAb",
        "colab_type": "code",
        "outputId": "d01229c7-4c19-4e1c-ea82-4e1c2de46026",
        "colab": {
          "base_uri": "https://localhost:8080/",
          "height": 1000
        }
      },
      "source": [
        "import random\n",
        "from keras.callbacks import EarlyStopping\n",
        "es = EarlyStopping(monitor='val_loss', mode='min', verbose=1, patience=10)\n",
        "\n",
        "train_left = []\n",
        "train_right = []\n",
        "train_y = []\n",
        "random.shuffle(train_samples)\n",
        "for sample in train_samples:\n",
        "    left_vector, right_vector, left_text, right_text, y = sample\n",
        "    train_left.append(left_vector)\n",
        "    train_right.append(right_vector)\n",
        "    train_y.append(y)\n",
        "\n",
        "random.shuffle(test_samples)\n",
        "test_left = []\n",
        "test_right = []\n",
        "test_y = []\n",
        "for sample in test_samples:\n",
        "    left_vector, right_vector, _, _, y = sample\n",
        "    test_left.append(left_vector)\n",
        "    test_right.append(right_vector)\n",
        "    test_y.append(y)\n",
        "\n",
        "nn_model.fit([np.array(train_left), np.array(train_right)],\n",
        "             np.array(train_y),\n",
        "             batch_size=256,\n",
        "             epochs=100,\n",
        "             callbacks=[es,],\n",
        "             validation_data=([np.array(test_left), np.array(test_right)], np.array(test_y)),\n",
        "             verbose=2)"
      ],
      "execution_count": 0,
      "outputs": [
        {
          "output_type": "stream",
          "text": [
            "Train on 358917 samples, validate on 39879 samples\n",
            "Epoch 1/100\n",
            " - 8s - loss: 0.5360 - accuracy: 0.6721 - val_loss: 0.3652 - val_accuracy: 0.8386\n",
            "Epoch 2/100\n",
            " - 8s - loss: 0.2876 - accuracy: 0.8814 - val_loss: 0.2954 - val_accuracy: 0.8796\n",
            "Epoch 3/100\n",
            " - 8s - loss: 0.2554 - accuracy: 0.8976 - val_loss: 0.2714 - val_accuracy: 0.8922\n",
            "Epoch 4/100\n",
            " - 8s - loss: 0.2387 - accuracy: 0.9056 - val_loss: 0.2663 - val_accuracy: 0.8934\n",
            "Epoch 5/100\n",
            " - 8s - loss: 0.2296 - accuracy: 0.9101 - val_loss: 0.8712 - val_accuracy: 0.6708\n",
            "Epoch 6/100\n",
            " - 8s - loss: 0.2281 - accuracy: 0.9107 - val_loss: 0.2588 - val_accuracy: 0.8973\n",
            "Epoch 7/100\n",
            " - 8s - loss: 0.2201 - accuracy: 0.9143 - val_loss: 0.2688 - val_accuracy: 0.8937\n",
            "Epoch 8/100\n",
            " - 8s - loss: 0.2158 - accuracy: 0.9168 - val_loss: 0.2734 - val_accuracy: 0.8905\n",
            "Epoch 9/100\n",
            " - 8s - loss: 0.2128 - accuracy: 0.9179 - val_loss: 0.2493 - val_accuracy: 0.9020\n",
            "Epoch 10/100\n",
            " - 8s - loss: 0.2119 - accuracy: 0.9182 - val_loss: 0.2422 - val_accuracy: 0.9059\n",
            "Epoch 11/100\n",
            " - 8s - loss: 0.2094 - accuracy: 0.9193 - val_loss: 0.2449 - val_accuracy: 0.9042\n",
            "Epoch 12/100\n",
            " - 8s - loss: 0.2074 - accuracy: 0.9203 - val_loss: 0.2475 - val_accuracy: 0.9034\n",
            "Epoch 13/100\n",
            " - 8s - loss: 0.2061 - accuracy: 0.9211 - val_loss: 0.2496 - val_accuracy: 0.9031\n",
            "Epoch 14/100\n",
            " - 8s - loss: 0.2056 - accuracy: 0.9211 - val_loss: 0.2367 - val_accuracy: 0.9087\n",
            "Epoch 15/100\n",
            " - 8s - loss: 0.2027 - accuracy: 0.9223 - val_loss: 0.3199 - val_accuracy: 0.8754\n",
            "Epoch 16/100\n",
            " - 8s - loss: 0.2037 - accuracy: 0.9218 - val_loss: 0.3392 - val_accuracy: 0.8647\n",
            "Epoch 17/100\n",
            " - 8s - loss: 0.2030 - accuracy: 0.9225 - val_loss: 0.2377 - val_accuracy: 0.9097\n",
            "Epoch 18/100\n",
            " - 8s - loss: 0.2020 - accuracy: 0.9228 - val_loss: 0.3163 - val_accuracy: 0.8738\n",
            "Epoch 19/100\n",
            " - 8s - loss: 0.2011 - accuracy: 0.9231 - val_loss: 0.3196 - val_accuracy: 0.8727\n",
            "Epoch 20/100\n",
            " - 8s - loss: 0.1997 - accuracy: 0.9236 - val_loss: 0.3542 - val_accuracy: 0.8615\n",
            "Epoch 21/100\n",
            " - 8s - loss: 0.1999 - accuracy: 0.9237 - val_loss: 0.2545 - val_accuracy: 0.9019\n",
            "Epoch 22/100\n",
            " - 8s - loss: 0.1990 - accuracy: 0.9241 - val_loss: 0.2547 - val_accuracy: 0.9005\n",
            "Epoch 23/100\n",
            " - 8s - loss: 0.1987 - accuracy: 0.9245 - val_loss: 0.2344 - val_accuracy: 0.9102\n",
            "Epoch 24/100\n",
            " - 8s - loss: 0.1976 - accuracy: 0.9245 - val_loss: 0.2396 - val_accuracy: 0.9095\n",
            "Epoch 25/100\n",
            " - 8s - loss: 0.1971 - accuracy: 0.9248 - val_loss: 0.2457 - val_accuracy: 0.9070\n",
            "Epoch 26/100\n",
            " - 8s - loss: 0.1982 - accuracy: 0.9244 - val_loss: 0.2418 - val_accuracy: 0.9060\n",
            "Epoch 27/100\n",
            " - 8s - loss: 0.1976 - accuracy: 0.9248 - val_loss: 0.2385 - val_accuracy: 0.9078\n",
            "Epoch 28/100\n",
            " - 8s - loss: 0.1977 - accuracy: 0.9244 - val_loss: 0.2420 - val_accuracy: 0.9066\n",
            "Epoch 29/100\n",
            " - 8s - loss: 0.1963 - accuracy: 0.9255 - val_loss: 0.2353 - val_accuracy: 0.9099\n",
            "Epoch 30/100\n",
            " - 8s - loss: 0.1961 - accuracy: 0.9252 - val_loss: 0.2331 - val_accuracy: 0.9098\n",
            "Epoch 31/100\n",
            " - 8s - loss: 0.1955 - accuracy: 0.9259 - val_loss: 0.2574 - val_accuracy: 0.8983\n",
            "Epoch 32/100\n",
            " - 8s - loss: 0.1951 - accuracy: 0.9256 - val_loss: 0.2871 - val_accuracy: 0.8873\n",
            "Epoch 33/100\n",
            " - 8s - loss: 0.1953 - accuracy: 0.9259 - val_loss: 0.2340 - val_accuracy: 0.9095\n",
            "Epoch 34/100\n",
            " - 8s - loss: 0.1941 - accuracy: 0.9264 - val_loss: 0.2347 - val_accuracy: 0.9112\n",
            "Epoch 35/100\n",
            " - 8s - loss: 0.1948 - accuracy: 0.9260 - val_loss: 0.2372 - val_accuracy: 0.9093\n",
            "Epoch 36/100\n",
            " - 8s - loss: 0.1940 - accuracy: 0.9262 - val_loss: 0.2611 - val_accuracy: 0.8986\n",
            "Epoch 37/100\n",
            " - 8s - loss: 0.1946 - accuracy: 0.9259 - val_loss: 0.2337 - val_accuracy: 0.9104\n",
            "Epoch 38/100\n",
            " - 8s - loss: 0.1942 - accuracy: 0.9261 - val_loss: 0.2476 - val_accuracy: 0.9056\n",
            "Epoch 39/100\n",
            " - 8s - loss: 0.1931 - accuracy: 0.9267 - val_loss: 0.2354 - val_accuracy: 0.9097\n",
            "Epoch 40/100\n",
            " - 8s - loss: 0.1931 - accuracy: 0.9268 - val_loss: 0.2494 - val_accuracy: 0.9042\n",
            "Epoch 00040: early stopping\n"
          ],
          "name": "stdout"
        },
        {
          "output_type": "execute_result",
          "data": {
            "text/plain": [
              "<keras.callbacks.callbacks.History at 0x7f381b24feb8>"
            ]
          },
          "metadata": {
            "tags": []
          },
          "execution_count": 60
        }
      ]
    },
    {
      "cell_type": "code",
      "metadata": {
        "id": "avMGX3wduUZx",
        "colab_type": "code",
        "outputId": "9ebfef98-bedc-4cfd-aab5-60fa0d0de550",
        "colab": {
          "base_uri": "https://localhost:8080/",
          "height": 91
        }
      },
      "source": [
        "embedder = Model(inputs=[left_input, ], output=left_dense)\n",
        "tg_test_left = []\n",
        "tg_test_right = []\n",
        "test_y = []\n",
        "for sample in tg_test_samples:\n",
        "    tg_left, tg_right, _, _, y = sample\n",
        "    tg_test_left.append(tg_left)\n",
        "    tg_test_right.append(tg_right)\n",
        "    test_y.append(y)\n",
        "pred_left = embedder.predict([np.array(tg_test_left)])\n",
        "pred_right = embedder.predict([np.array(tg_test_right)])\n",
        "scores = []\n",
        "for left, right in zip(pred_left, pred_right):\n",
        "    left = left / np.linalg.norm(left)\n",
        "    right = right / np.linalg.norm(right)\n",
        "    score = (left.dot(right) + 1.0) / 2.0 - 1.0\n",
        "    scores.append(score)\n",
        "metrics.roc_auc_score(test_y, scores)"
      ],
      "execution_count": 0,
      "outputs": [
        {
          "output_type": "stream",
          "text": [
            "/usr/local/lib/python3.6/dist-packages/ipykernel_launcher.py:1: UserWarning: Update your `Model` call to the Keras 2 API: `Model(inputs=[<tf.Tenso..., outputs=Tensor(\"de...)`\n",
            "  \"\"\"Entry point for launching an IPython kernel.\n"
          ],
          "name": "stderr"
        },
        {
          "output_type": "execute_result",
          "data": {
            "text/plain": [
              "0.9522597169303728"
            ]
          },
          "metadata": {
            "tags": []
          },
          "execution_count": 61
        }
      ]
    },
    {
      "cell_type": "code",
      "metadata": {
        "id": "PkHxYX-EewGq",
        "colab_type": "code",
        "colab": {}
      },
      "source": [
        "matrix = dense.get_weights()[0]\n",
        "bias = dense.get_weights()[1]"
      ],
      "execution_count": 0,
      "outputs": []
    },
    {
      "cell_type": "code",
      "metadata": {
        "id": "ClPcY2QYexbS",
        "colab_type": "code",
        "colab": {}
      },
      "source": [
        "with open(\"matrix.txt\", \"w\") as w:\n",
        "    for row_num in range(matrix.shape[1]):\n",
        "        row = []\n",
        "        for col_num in range(matrix.shape[0]):\n",
        "            row.append(float(matrix[col_num][row_num]))\n",
        "        w.write(\",\".join(map(str, row)) + \"\\n\")\n",
        "\n",
        "with open(\"bias.txt\", \"w\") as w:\n",
        "    for value in bias:\n",
        "        w.write(\"{}\\n\".format(value))"
      ],
      "execution_count": 0,
      "outputs": []
    }
  ]
}