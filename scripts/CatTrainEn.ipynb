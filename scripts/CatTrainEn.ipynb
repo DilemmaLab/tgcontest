{
  "nbformat": 4,
  "nbformat_minor": 0,
  "metadata": {
    "colab": {
      "name": "CatTrainEn.ipynb",
      "provenance": [],
      "collapsed_sections": []
    },
    "kernelspec": {
      "name": "python3",
      "display_name": "Python 3"
    }
  },
  "cells": [
    {
      "cell_type": "code",
      "metadata": {
        "id": "UK8wI0PruXGv",
        "colab_type": "code",
        "outputId": "3132a24b-509d-4fc1-a0db-f9eb15c37a42",
        "colab": {
          "base_uri": "https://localhost:8080/",
          "height": 107
        }
      },
      "source": [
        "!pip install pyonmttok fasttext"
      ],
      "execution_count": 0,
      "outputs": [
        {
          "output_type": "stream",
          "text": [
            "Requirement already satisfied: pyonmttok in /usr/local/lib/python3.6/dist-packages (1.17.2)\n",
            "Requirement already satisfied: fasttext in /usr/local/lib/python3.6/dist-packages (0.9.1)\n",
            "Requirement already satisfied: pybind11>=2.2 in /usr/local/lib/python3.6/dist-packages (from fasttext) (2.4.3)\n",
            "Requirement already satisfied: setuptools>=0.7.0 in /usr/local/lib/python3.6/dist-packages (from fasttext) (42.0.2)\n",
            "Requirement already satisfied: numpy in /usr/local/lib/python3.6/dist-packages (from fasttext) (1.17.4)\n"
          ],
          "name": "stdout"
        }
      ]
    },
    {
      "cell_type": "code",
      "metadata": {
        "id": "GW3-AWd5D1pj",
        "colab_type": "code",
        "outputId": "75926478-d3d2-4e31-b4c8-80ec865aa80c",
        "colab": {
          "base_uri": "https://localhost:8080/",
          "height": 1000
        }
      },
      "source": [
        "!git clone https://github.com/facebookresearch/fastText.git\n",
        "!cd fastText && mkdir build && cd build && cmake .. && make && make install"
      ],
      "execution_count": 0,
      "outputs": [
        {
          "output_type": "stream",
          "text": [
            "Cloning into 'fastText'...\n",
            "remote: Enumerating objects: 122, done.\u001b[K\n",
            "remote: Counting objects: 100% (122/122), done.\u001b[K\n",
            "remote: Compressing objects: 100% (77/77), done.\u001b[K\n",
            "remote: Total 3653 (delta 53), reused 67 (delta 27), pack-reused 3531\u001b[K\n",
            "Receiving objects: 100% (3653/3653), 8.16 MiB | 9.63 MiB/s, done.\n",
            "Resolving deltas: 100% (2278/2278), done.\n",
            "-- The C compiler identification is GNU 7.4.0\n",
            "-- The CXX compiler identification is GNU 7.4.0\n",
            "-- Check for working C compiler: /usr/bin/cc\n",
            "-- Check for working C compiler: /usr/bin/cc -- works\n",
            "-- Detecting C compiler ABI info\n",
            "-- Detecting C compiler ABI info - done\n",
            "-- Detecting C compile features\n",
            "-- Detecting C compile features - done\n",
            "-- Check for working CXX compiler: /usr/bin/c++\n",
            "-- Check for working CXX compiler: /usr/bin/c++ -- works\n",
            "-- Detecting CXX compiler ABI info\n",
            "-- Detecting CXX compiler ABI info - done\n",
            "-- Detecting CXX compile features\n",
            "-- Detecting CXX compile features - done\n",
            "-- Configuring done\n",
            "-- Generating done\n",
            "-- Build files have been written to: /content/fastText/build\n",
            "\u001b[35m\u001b[1mScanning dependencies of target fasttext-static_pic\u001b[0m\n",
            "[  2%] \u001b[32mBuilding CXX object CMakeFiles/fasttext-static_pic.dir/src/args.cc.o\u001b[0m\n",
            "[  4%] \u001b[32mBuilding CXX object CMakeFiles/fasttext-static_pic.dir/src/autotune.cc.o\u001b[0m\n",
            "[  6%] \u001b[32mBuilding CXX object CMakeFiles/fasttext-static_pic.dir/src/densematrix.cc.o\u001b[0m\n",
            "[  8%] \u001b[32mBuilding CXX object CMakeFiles/fasttext-static_pic.dir/src/dictionary.cc.o\u001b[0m\n",
            "[ 10%] \u001b[32mBuilding CXX object CMakeFiles/fasttext-static_pic.dir/src/fasttext.cc.o\u001b[0m\n",
            "[ 12%] \u001b[32mBuilding CXX object CMakeFiles/fasttext-static_pic.dir/src/loss.cc.o\u001b[0m\n",
            "[ 14%] \u001b[32mBuilding CXX object CMakeFiles/fasttext-static_pic.dir/src/main.cc.o\u001b[0m\n",
            "[ 17%] \u001b[32mBuilding CXX object CMakeFiles/fasttext-static_pic.dir/src/matrix.cc.o\u001b[0m\n",
            "[ 19%] \u001b[32mBuilding CXX object CMakeFiles/fasttext-static_pic.dir/src/meter.cc.o\u001b[0m\n",
            "[ 21%] \u001b[32mBuilding CXX object CMakeFiles/fasttext-static_pic.dir/src/model.cc.o\u001b[0m\n",
            "[ 23%] \u001b[32mBuilding CXX object CMakeFiles/fasttext-static_pic.dir/src/productquantizer.cc.o\u001b[0m\n",
            "[ 25%] \u001b[32mBuilding CXX object CMakeFiles/fasttext-static_pic.dir/src/quantmatrix.cc.o\u001b[0m\n",
            "[ 27%] \u001b[32mBuilding CXX object CMakeFiles/fasttext-static_pic.dir/src/utils.cc.o\u001b[0m\n",
            "[ 29%] \u001b[32mBuilding CXX object CMakeFiles/fasttext-static_pic.dir/src/vector.cc.o\u001b[0m\n",
            "[ 31%] \u001b[32m\u001b[1mLinking CXX static library libfasttext_pic.a\u001b[0m\n",
            "[ 31%] Built target fasttext-static_pic\n",
            "\u001b[35m\u001b[1mScanning dependencies of target fasttext-static\u001b[0m\n",
            "[ 34%] \u001b[32mBuilding CXX object CMakeFiles/fasttext-static.dir/src/args.cc.o\u001b[0m\n",
            "[ 36%] \u001b[32mBuilding CXX object CMakeFiles/fasttext-static.dir/src/autotune.cc.o\u001b[0m\n",
            "[ 38%] \u001b[32mBuilding CXX object CMakeFiles/fasttext-static.dir/src/densematrix.cc.o\u001b[0m\n",
            "[ 40%] \u001b[32mBuilding CXX object CMakeFiles/fasttext-static.dir/src/dictionary.cc.o\u001b[0m\n",
            "[ 42%] \u001b[32mBuilding CXX object CMakeFiles/fasttext-static.dir/src/fasttext.cc.o\u001b[0m\n",
            "[ 44%] \u001b[32mBuilding CXX object CMakeFiles/fasttext-static.dir/src/loss.cc.o\u001b[0m\n",
            "[ 46%] \u001b[32mBuilding CXX object CMakeFiles/fasttext-static.dir/src/main.cc.o\u001b[0m\n",
            "[ 48%] \u001b[32mBuilding CXX object CMakeFiles/fasttext-static.dir/src/matrix.cc.o\u001b[0m\n",
            "[ 51%] \u001b[32mBuilding CXX object CMakeFiles/fasttext-static.dir/src/meter.cc.o\u001b[0m\n",
            "[ 53%] \u001b[32mBuilding CXX object CMakeFiles/fasttext-static.dir/src/model.cc.o\u001b[0m\n",
            "[ 55%] \u001b[32mBuilding CXX object CMakeFiles/fasttext-static.dir/src/productquantizer.cc.o\u001b[0m\n",
            "[ 57%] \u001b[32mBuilding CXX object CMakeFiles/fasttext-static.dir/src/quantmatrix.cc.o\u001b[0m\n",
            "[ 59%] \u001b[32mBuilding CXX object CMakeFiles/fasttext-static.dir/src/utils.cc.o\u001b[0m\n",
            "[ 61%] \u001b[32mBuilding CXX object CMakeFiles/fasttext-static.dir/src/vector.cc.o\u001b[0m\n",
            "[ 63%] \u001b[32m\u001b[1mLinking CXX static library libfasttext.a\u001b[0m\n",
            "[ 63%] Built target fasttext-static\n",
            "\u001b[35m\u001b[1mScanning dependencies of target fasttext-bin\u001b[0m\n",
            "[ 65%] \u001b[32mBuilding CXX object CMakeFiles/fasttext-bin.dir/src/main.cc.o\u001b[0m\n",
            "[ 68%] \u001b[32m\u001b[1mLinking CXX executable fasttext\u001b[0m\n",
            "[ 68%] Built target fasttext-bin\n",
            "\u001b[35m\u001b[1mScanning dependencies of target fasttext-shared\u001b[0m\n",
            "[ 70%] \u001b[32mBuilding CXX object CMakeFiles/fasttext-shared.dir/src/args.cc.o\u001b[0m\n",
            "[ 72%] \u001b[32mBuilding CXX object CMakeFiles/fasttext-shared.dir/src/autotune.cc.o\u001b[0m\n",
            "[ 74%] \u001b[32mBuilding CXX object CMakeFiles/fasttext-shared.dir/src/densematrix.cc.o\u001b[0m\n",
            "[ 76%] \u001b[32mBuilding CXX object CMakeFiles/fasttext-shared.dir/src/dictionary.cc.o\u001b[0m\n",
            "[ 78%] \u001b[32mBuilding CXX object CMakeFiles/fasttext-shared.dir/src/fasttext.cc.o\u001b[0m\n",
            "[ 80%] \u001b[32mBuilding CXX object CMakeFiles/fasttext-shared.dir/src/loss.cc.o\u001b[0m\n",
            "[ 82%] \u001b[32mBuilding CXX object CMakeFiles/fasttext-shared.dir/src/main.cc.o\u001b[0m\n",
            "[ 85%] \u001b[32mBuilding CXX object CMakeFiles/fasttext-shared.dir/src/matrix.cc.o\u001b[0m\n",
            "[ 87%] \u001b[32mBuilding CXX object CMakeFiles/fasttext-shared.dir/src/meter.cc.o\u001b[0m\n",
            "[ 89%] \u001b[32mBuilding CXX object CMakeFiles/fasttext-shared.dir/src/model.cc.o\u001b[0m\n",
            "[ 91%] \u001b[32mBuilding CXX object CMakeFiles/fasttext-shared.dir/src/productquantizer.cc.o\u001b[0m\n",
            "[ 93%] \u001b[32mBuilding CXX object CMakeFiles/fasttext-shared.dir/src/quantmatrix.cc.o\u001b[0m\n",
            "[ 95%] \u001b[32mBuilding CXX object CMakeFiles/fasttext-shared.dir/src/utils.cc.o\u001b[0m\n",
            "[ 97%] \u001b[32mBuilding CXX object CMakeFiles/fasttext-shared.dir/src/vector.cc.o\u001b[0m\n",
            "[100%] \u001b[32m\u001b[1mLinking CXX shared library libfasttext.so\u001b[0m\n",
            "[100%] Built target fasttext-shared\n",
            "[ 31%] Built target fasttext-static_pic\n",
            "[ 63%] Built target fasttext-static\n",
            "[ 68%] Built target fasttext-bin\n",
            "[100%] Built target fasttext-shared\n",
            "\u001b[36mInstall the project...\u001b[0m\n",
            "-- Install configuration: \"\"\n",
            "-- Installing: /usr/local/lib/libfasttext.so\n",
            "-- Installing: /usr/local/lib/libfasttext.a\n",
            "-- Installing: /usr/local/lib/libfasttext_pic.a\n",
            "-- Installing: /usr/local/bin/fasttext\n",
            "-- Installing: /usr/local/include/fasttext/args.h\n",
            "-- Installing: /usr/local/include/fasttext/autotune.h\n",
            "-- Installing: /usr/local/include/fasttext/densematrix.h\n",
            "-- Installing: /usr/local/include/fasttext/dictionary.h\n",
            "-- Installing: /usr/local/include/fasttext/fasttext.h\n",
            "-- Installing: /usr/local/include/fasttext/loss.h\n",
            "-- Installing: /usr/local/include/fasttext/matrix.h\n",
            "-- Installing: /usr/local/include/fasttext/meter.h\n",
            "-- Installing: /usr/local/include/fasttext/model.h\n",
            "-- Installing: /usr/local/include/fasttext/productquantizer.h\n",
            "-- Installing: /usr/local/include/fasttext/quantmatrix.h\n",
            "-- Installing: /usr/local/include/fasttext/real.h\n",
            "-- Installing: /usr/local/include/fasttext/utils.h\n",
            "-- Installing: /usr/local/include/fasttext/vector.h\n"
          ],
          "name": "stdout"
        }
      ]
    },
    {
      "cell_type": "code",
      "metadata": {
        "id": "wvr9CVo5pZH5",
        "colab_type": "code",
        "outputId": "48abfd1c-8879-4615-dd0d-d1b8cd54c4a9",
        "colab": {
          "base_uri": "https://localhost:8080/",
          "height": 559
        }
      },
      "source": [
        "!rm -f en_tg_train.tar.gz\n",
        "!wget https://www.dropbox.com/s/umd8tyx4wz1wquq/en_tg_train.tar.gz\n",
        "!rm -f en_tg_train.json\n",
        "!tar -xzvf en_tg_train.tar.gz\n",
        "!rm en_tg_train.tar.gz"
      ],
      "execution_count": 0,
      "outputs": [
        {
          "output_type": "stream",
          "text": [
            "--2020-01-04 18:55:13--  https://www.dropbox.com/s/erbi4w5fuacyvw9/en_tg_train.tar.gz\n",
            "Resolving www.dropbox.com (www.dropbox.com)... 162.125.65.1, 2620:100:6021:1::a27d:4101\n",
            "Connecting to www.dropbox.com (www.dropbox.com)|162.125.65.1|:443... connected.\n",
            "HTTP request sent, awaiting response... 301 Moved Permanently\n",
            "Location: /s/raw/erbi4w5fuacyvw9/en_tg_train.tar.gz [following]\n",
            "--2020-01-04 18:55:13--  https://www.dropbox.com/s/raw/erbi4w5fuacyvw9/en_tg_train.tar.gz\n",
            "Reusing existing connection to www.dropbox.com:443.\n",
            "HTTP request sent, awaiting response... 302 Found\n",
            "Location: https://uc39dfb4487d544a5c9edec24ae7.dl.dropboxusercontent.com/cd/0/inline/AvhVptwLcoXRwgS-yKn0llcKFoUy1OXrS2QnqozAiqSADO5tCy5rdSxfWHxaU_m71Hhq8h1FQdWJylJB6rzqY5NBjQfabEKeX4c3sDd_Zu2e7WnXalY_UkS-eejQcJSOxV4/file# [following]\n",
            "--2020-01-04 18:55:13--  https://uc39dfb4487d544a5c9edec24ae7.dl.dropboxusercontent.com/cd/0/inline/AvhVptwLcoXRwgS-yKn0llcKFoUy1OXrS2QnqozAiqSADO5tCy5rdSxfWHxaU_m71Hhq8h1FQdWJylJB6rzqY5NBjQfabEKeX4c3sDd_Zu2e7WnXalY_UkS-eejQcJSOxV4/file\n",
            "Resolving uc39dfb4487d544a5c9edec24ae7.dl.dropboxusercontent.com (uc39dfb4487d544a5c9edec24ae7.dl.dropboxusercontent.com)... 162.125.65.6, 2620:100:6021:6::a27d:4106\n",
            "Connecting to uc39dfb4487d544a5c9edec24ae7.dl.dropboxusercontent.com (uc39dfb4487d544a5c9edec24ae7.dl.dropboxusercontent.com)|162.125.65.6|:443... connected.\n",
            "HTTP request sent, awaiting response... 302 FOUND\n",
            "Location: /cd/0/inline2/AvjsCGUGWnboKDqgmaEup45txbsxLCCobuBg05yxT9iXf4j1V_mwSIiIhlwOqjHD0JcDiDiK883GWaAcjcT8r7sPqEmZ9cjtSxnrzyhP266nIOJZWjeuOfm8UoE-aaOkcUF-Vys9x8dI5mu97bqjZlX4EUEPb9j_uBo_pqIDsxHwLlJnv3UibSsxPPPKjjdVW9rLpg0gzekV3REyCMrbe9f128E-3ZAnnXmimi28q1NuzSfmaDcOJoCNgt2h4ZMyU3qw9TZZG32iTSmo2TJthdpUYgcPnB3T7jcB-1R4rZEYgKdNqNBLzYbSgcOY-9Ope36NeXiOhsyOkeorCTdOVHfhDeiee3YXz8lSuojnCGY0kQ/file [following]\n",
            "--2020-01-04 18:55:14--  https://uc39dfb4487d544a5c9edec24ae7.dl.dropboxusercontent.com/cd/0/inline2/AvjsCGUGWnboKDqgmaEup45txbsxLCCobuBg05yxT9iXf4j1V_mwSIiIhlwOqjHD0JcDiDiK883GWaAcjcT8r7sPqEmZ9cjtSxnrzyhP266nIOJZWjeuOfm8UoE-aaOkcUF-Vys9x8dI5mu97bqjZlX4EUEPb9j_uBo_pqIDsxHwLlJnv3UibSsxPPPKjjdVW9rLpg0gzekV3REyCMrbe9f128E-3ZAnnXmimi28q1NuzSfmaDcOJoCNgt2h4ZMyU3qw9TZZG32iTSmo2TJthdpUYgcPnB3T7jcB-1R4rZEYgKdNqNBLzYbSgcOY-9Ope36NeXiOhsyOkeorCTdOVHfhDeiee3YXz8lSuojnCGY0kQ/file\n",
            "Reusing existing connection to uc39dfb4487d544a5c9edec24ae7.dl.dropboxusercontent.com:443.\n",
            "HTTP request sent, awaiting response... 200 OK\n",
            "Length: 121901976 (116M) [application/octet-stream]\n",
            "Saving to: ‘en_tg_train.tar.gz’\n",
            "\n",
            "en_tg_train.tar.gz  100%[===================>] 116.25M  8.97MB/s    in 14s     \n",
            "\n",
            "2020-01-04 18:55:29 (8.16 MB/s) - ‘en_tg_train.tar.gz’ saved [121901976/121901976]\n",
            "\n",
            "tar: Ignoring unknown extended header keyword 'LIBARCHIVE.creationtime'\n",
            "tar: Ignoring unknown extended header keyword 'SCHILY.dev'\n",
            "tar: Ignoring unknown extended header keyword 'SCHILY.ino'\n",
            "tar: Ignoring unknown extended header keyword 'SCHILY.nlink'\n",
            "en_tg_train.json\n"
          ],
          "name": "stdout"
        }
      ]
    },
    {
      "cell_type": "code",
      "metadata": {
        "id": "igj91yXzBPjU",
        "colab_type": "code",
        "outputId": "a3b14b9f-f9cd-4e17-e6d1-543736e1e8ec",
        "colab": {
          "base_uri": "https://localhost:8080/",
          "height": 559
        }
      },
      "source": [
        "!rm -f en_tg_test.tar.gz\n",
        "!wget https://www.dropbox.com/s/rw674iic8x5udb3/en_tg_test.tar.gz\n",
        "!rm -f en_tg_test.json\n",
        "!tar -xzvf en_tg_test.tar.gz\n",
        "!rm en_tg_test.tar.gz"
      ],
      "execution_count": 0,
      "outputs": [
        {
          "output_type": "stream",
          "text": [
            "--2020-01-04 19:13:59--  https://www.dropbox.com/s/rw674iic8x5udb3/en_tg_test.tar.gz\n",
            "Resolving www.dropbox.com (www.dropbox.com)... 162.125.65.1, 2620:100:6021:1::a27d:4101\n",
            "Connecting to www.dropbox.com (www.dropbox.com)|162.125.65.1|:443... connected.\n",
            "HTTP request sent, awaiting response... 301 Moved Permanently\n",
            "Location: /s/raw/rw674iic8x5udb3/en_tg_test.tar.gz [following]\n",
            "--2020-01-04 19:13:59--  https://www.dropbox.com/s/raw/rw674iic8x5udb3/en_tg_test.tar.gz\n",
            "Reusing existing connection to www.dropbox.com:443.\n",
            "HTTP request sent, awaiting response... 302 Found\n",
            "Location: https://uc4f1e7a445c6cdc4960ddafef10.dl.dropboxusercontent.com/cd/0/inline/AvgUfnnryDuafi4-X5mJVYSf1cO1RhqmDVSvY_53d5VC95fuNWjEp3z5gpfn_k57koO7LkMe0PAiRwLSVZqZheqGCIhgrwikdd85OlEuRYVtIyYI3coDFhhBYiu8eb-ezcQ/file# [following]\n",
            "--2020-01-04 19:14:00--  https://uc4f1e7a445c6cdc4960ddafef10.dl.dropboxusercontent.com/cd/0/inline/AvgUfnnryDuafi4-X5mJVYSf1cO1RhqmDVSvY_53d5VC95fuNWjEp3z5gpfn_k57koO7LkMe0PAiRwLSVZqZheqGCIhgrwikdd85OlEuRYVtIyYI3coDFhhBYiu8eb-ezcQ/file\n",
            "Resolving uc4f1e7a445c6cdc4960ddafef10.dl.dropboxusercontent.com (uc4f1e7a445c6cdc4960ddafef10.dl.dropboxusercontent.com)... 162.125.65.6, 2620:100:6021:6::a27d:4106\n",
            "Connecting to uc4f1e7a445c6cdc4960ddafef10.dl.dropboxusercontent.com (uc4f1e7a445c6cdc4960ddafef10.dl.dropboxusercontent.com)|162.125.65.6|:443... connected.\n",
            "HTTP request sent, awaiting response... 302 FOUND\n",
            "Location: /cd/0/inline2/AvgpZiEYc75gCeT4sDyt8EjNXXVAfW-FgXmq_qgXFqS3E_QzI_pDv5CW-fOM26OWg8yhEG7KsnjhVeylBQhONs4los92ZcGoLMh1v4TafvrgtocpEIDUjbkEcq1XBBXTBB68xeeSspgql5URNaaHXadnNivvdyTtrMVeUteNhP2IQ8JlUQpbMTZHf_JSja1sxnjxZW9PFehNHesv98AFQH4aOvaduxfmueo7zD1TQU_BwKsOD0POZEfDCg5KgBUW-GNJQbH8V1D0262Hl6qxW-zZh-mwcAUu6EZqIBlf8zh4maFhbPnq9SZcLdA44CPdUqT0Lso1S9eMY664zRX0COlv_esmRc41xthP2Xm-TSJ7RQ/file [following]\n",
            "--2020-01-04 19:14:00--  https://uc4f1e7a445c6cdc4960ddafef10.dl.dropboxusercontent.com/cd/0/inline2/AvgpZiEYc75gCeT4sDyt8EjNXXVAfW-FgXmq_qgXFqS3E_QzI_pDv5CW-fOM26OWg8yhEG7KsnjhVeylBQhONs4los92ZcGoLMh1v4TafvrgtocpEIDUjbkEcq1XBBXTBB68xeeSspgql5URNaaHXadnNivvdyTtrMVeUteNhP2IQ8JlUQpbMTZHf_JSja1sxnjxZW9PFehNHesv98AFQH4aOvaduxfmueo7zD1TQU_BwKsOD0POZEfDCg5KgBUW-GNJQbH8V1D0262Hl6qxW-zZh-mwcAUu6EZqIBlf8zh4maFhbPnq9SZcLdA44CPdUqT0Lso1S9eMY664zRX0COlv_esmRc41xthP2Xm-TSJ7RQ/file\n",
            "Reusing existing connection to uc4f1e7a445c6cdc4960ddafef10.dl.dropboxusercontent.com:443.\n",
            "HTTP request sent, awaiting response... 200 OK\n",
            "Length: 95150549 (91M) [application/octet-stream]\n",
            "Saving to: ‘en_tg_test.tar.gz’\n",
            "\n",
            "en_tg_test.tar.gz   100%[===================>]  90.74M  2.53MB/s    in 20s     \n",
            "\n",
            "2020-01-04 19:14:21 (4.46 MB/s) - ‘en_tg_test.tar.gz’ saved [95150549/95150549]\n",
            "\n",
            "tar: Ignoring unknown extended header keyword 'LIBARCHIVE.creationtime'\n",
            "tar: Ignoring unknown extended header keyword 'SCHILY.dev'\n",
            "tar: Ignoring unknown extended header keyword 'SCHILY.ino'\n",
            "tar: Ignoring unknown extended header keyword 'SCHILY.nlink'\n",
            "en_tg_test.json\n"
          ],
          "name": "stdout"
        }
      ]
    },
    {
      "cell_type": "code",
      "metadata": {
        "id": "d0x5tSFapjkO",
        "colab_type": "code",
        "outputId": "411a6cb1-6c57-4b00-fdb4-eba040ccc6d2",
        "colab": {
          "base_uri": "https://localhost:8080/",
          "height": 793
        }
      },
      "source": [
        "!wget https://www.dropbox.com/s/7qpfgf8bz77h2ss/en_cat_train_raw_markup.tsv\n",
        "!wget https://www.dropbox.com/s/bszwshgwbrt328k/en_cat_test_raw_markup.tsv\n",
        "!head -n 2 en_cat_train_raw_markup.tsv"
      ],
      "execution_count": 0,
      "outputs": [
        {
          "output_type": "stream",
          "text": [
            "--2020-01-04 18:15:59--  https://www.dropbox.com/s/7qpfgf8bz77h2ss/en_cat_train_raw_markup.tsv\n",
            "Resolving www.dropbox.com (www.dropbox.com)... 162.125.65.1, 2620:100:6021:1::a27d:4101\n",
            "Connecting to www.dropbox.com (www.dropbox.com)|162.125.65.1|:443... connected.\n",
            "HTTP request sent, awaiting response... 301 Moved Permanently\n",
            "Location: /s/raw/7qpfgf8bz77h2ss/en_cat_train_raw_markup.tsv [following]\n",
            "--2020-01-04 18:16:00--  https://www.dropbox.com/s/raw/7qpfgf8bz77h2ss/en_cat_train_raw_markup.tsv\n",
            "Reusing existing connection to www.dropbox.com:443.\n",
            "HTTP request sent, awaiting response... 302 Found\n",
            "Location: https://uc960ed57a24df81d51b44e1ed5f.dl.dropboxusercontent.com/cd/0/inline/AvgKpOxDkZtKk3tmK95CcgqvtZ0De0XVBz5jbK-uWnikvqbdVxy3PBUu3D0iJ2dV0-o9qqZwh7SH9Lo16QUhNcOqG-Ur3l91gKmAXQAU2YU188_tgeFw6w9IvA4mERH89tA/file# [following]\n",
            "--2020-01-04 18:16:00--  https://uc960ed57a24df81d51b44e1ed5f.dl.dropboxusercontent.com/cd/0/inline/AvgKpOxDkZtKk3tmK95CcgqvtZ0De0XVBz5jbK-uWnikvqbdVxy3PBUu3D0iJ2dV0-o9qqZwh7SH9Lo16QUhNcOqG-Ur3l91gKmAXQAU2YU188_tgeFw6w9IvA4mERH89tA/file\n",
            "Resolving uc960ed57a24df81d51b44e1ed5f.dl.dropboxusercontent.com (uc960ed57a24df81d51b44e1ed5f.dl.dropboxusercontent.com)... 162.125.65.6, 2620:100:6021:6::a27d:4106\n",
            "Connecting to uc960ed57a24df81d51b44e1ed5f.dl.dropboxusercontent.com (uc960ed57a24df81d51b44e1ed5f.dl.dropboxusercontent.com)|162.125.65.6|:443... connected.\n",
            "HTTP request sent, awaiting response... 200 OK\n",
            "Length: 17694467 (17M) [text/plain]\n",
            "Saving to: ‘en_cat_train_raw_markup.tsv’\n",
            "\n",
            "en_cat_train_raw_ma 100%[===================>]  16.87M  14.0MB/s    in 1.2s    \n",
            "\n",
            "2020-01-04 18:16:02 (14.0 MB/s) - ‘en_cat_train_raw_markup.tsv’ saved [17694467/17694467]\n",
            "\n",
            "--2020-01-04 18:16:03--  https://www.dropbox.com/s/bszwshgwbrt328k/en_cat_test_raw_markup.tsv\n",
            "Resolving www.dropbox.com (www.dropbox.com)... 162.125.65.1, 2620:100:6021:1::a27d:4101\n",
            "Connecting to www.dropbox.com (www.dropbox.com)|162.125.65.1|:443... connected.\n",
            "HTTP request sent, awaiting response... 301 Moved Permanently\n",
            "Location: /s/raw/bszwshgwbrt328k/en_cat_test_raw_markup.tsv [following]\n",
            "--2020-01-04 18:16:03--  https://www.dropbox.com/s/raw/bszwshgwbrt328k/en_cat_test_raw_markup.tsv\n",
            "Reusing existing connection to www.dropbox.com:443.\n",
            "HTTP request sent, awaiting response... 302 Found\n",
            "Location: https://uc0b6c52acdc50136545aa9821da.dl.dropboxusercontent.com/cd/0/inline/AvgXlZJWU2sQn7U89k8RXB5SfWPQ8neflXE8posKmqnB_msehLZzciJCdLxNG_YRvGsquEiZjwKsZLVyBzP8KdNCTMHWNtMX-uycb6S354ITPbxsJGSH18RFn0aMZjLUl80/file# [following]\n",
            "--2020-01-04 18:16:03--  https://uc0b6c52acdc50136545aa9821da.dl.dropboxusercontent.com/cd/0/inline/AvgXlZJWU2sQn7U89k8RXB5SfWPQ8neflXE8posKmqnB_msehLZzciJCdLxNG_YRvGsquEiZjwKsZLVyBzP8KdNCTMHWNtMX-uycb6S354ITPbxsJGSH18RFn0aMZjLUl80/file\n",
            "Resolving uc0b6c52acdc50136545aa9821da.dl.dropboxusercontent.com (uc0b6c52acdc50136545aa9821da.dl.dropboxusercontent.com)... 162.125.65.6, 2620:100:6021:6::a27d:4106\n",
            "Connecting to uc0b6c52acdc50136545aa9821da.dl.dropboxusercontent.com (uc0b6c52acdc50136545aa9821da.dl.dropboxusercontent.com)|162.125.65.6|:443... connected.\n",
            "HTTP request sent, awaiting response... 200 OK\n",
            "Length: 27973410 (27M) [text/plain]\n",
            "Saving to: ‘en_cat_test_raw_markup.tsv’\n",
            "\n",
            "en_cat_test_raw_mar 100%[===================>]  26.68M  10.9MB/s    in 2.5s    \n",
            "\n",
            "2020-01-04 18:16:06 (10.9 MB/s) - ‘en_cat_test_raw_markup.tsv’ saved [27973410/27973410]\n",
            "\n",
            "INPUT:url\tINPUT:text\tINPUT:title\tINPUT:trans_text\tINPUT:trans_title\tOUTPUT:res\tGOLDEN:res\tHINT:text\tASSIGNMENT:link\tASSIGNMENT:assignment_id\tASSIGNMENT:worker_id\tASSIGNMENT:status\tASSIGNMENT:started\n",
            "https://www.thedailystar.net/frontpage/news/criminal-cop-kept-service-1828069\tPolice inspector Shakil Uddin Ahamed evaded suspension for over one and a half years even though he had been accused of forgery, land grabbing, and even attempted murder. He was made an officer-in-charge of a police station violating service rules during this time. He had also been accused of tampering with the first information report of a murder case to protect his political-leader ally. He also allegedly ran an extortion gang. Shakil was posted in Pabna as a district intelligence officer when he was charged with forgery, land grabbing, and attempted murder in a case filed by his mother-in-law on December 10, 2017, in Chapainawabganj. He obtained bail on January 9, 2018. Government Service Rule says he has to be suspended the day he files for bail. According to documents obtained by The Daily Star, Shakil, instead of being suspended, was transferred to Rajshahi on April 17, 2018, and just 13 days later, he was made the OC of Puthia Police Station. The fact that Shakil served as OC of Puthia evading suspension came to the fore on September 16 when the High Court issued a ruling on a writ petition filed by Nigar Sultana, daughter of slain transport leader Nurul Islam. In the petition filed on September 8, Nigar sought the court’s directive on forming an enquiry committee to probe Shakil’s tampering of the FIR filed in connection with the murder of her father. She questioned why Shakil was not suspended as per the provisions of the Government Service Rule. The HC ordered a judicial enquiry into the role of the OC and directed the authorities concerned to suspend him and initiate departmental proceedings against him. It had asked authorities concerned as to why their inaction regarding the OC’s “implication in criminal cases and involvement with corruption and other serious criminal offences” should not be deemed illegal. The Daily Star obtained a copy of the order. The court might deliver an order today as the judicial probe report had been submitted. Police eventually suspended Shakil on October 2 following the HC order with retrospective effect from January 9, 2018, the day he got bail. This paper has a copy of the police order. Following his suspension, locals opened up and alleged that Shakil, who has a lawmaker-brother, and his ally district AL Organising Secretary Ehsanul Haque Masud forged FIRs, indulged in corruption, and ran an extortion gang. Nigar described most of the allegations against Shakil in her petition with the HC. Nurul ran for the general secretary post of Puthia’s Road Transport Workers’ Union on April 24 this year. He lost to Abdur Rahman Patal, who was backed by his ally Masud. Nurul then filed a civil suit with a Rajshahi court alleging that the election results were manipulated in favour of Patal. On June 9, the court issued an injunction on the results. Around 10:00am the following day when Nurul went to the union office with the court order, Masud, Patal, Golam Faruk, a former general secretary of the upazila AL who acted as an election commissioner, and others threatened him with dire consequences, according to the writ. Nurul went missing after the incident and on June 11 morning, his body was found near a brick kiln in Puthia. He had been bludgeoned to death and his genitals had been clubbed. That afternoon, Nigar filed a murder case with Puthia Police Station. The case was eventually recorded at 11:30pm against Patal, Md Mithu, KM Shahin, Nurul Amin, Md Motin, and Abdur Rashid, according to documents. Nigar in her writ said the FIR she had filed had eight named accused and Shakil had tried to persuade her to drop Masud and Golam Faruk. She said Shakil made a fake FIR using her signature he had asked her to put on two blank sheets of paper. She said Shakil took the signatures saying those were required for the burial of Nurul and arrest of the accused. The Detective Branch of Police was probing the case, but family members claimed that an attempt was made to divert the course of the investigation. They said the office of the Rajshahi Superintendent of Police issued a press statement on June 19 saying that a 16-year-old boy confessed to killing Nurul for attempting to rape him. The statement said the boy killed Nurul with a single blow. However, Nurul’s inquest mentioned multiple injuries. Nigar claimed that police had picked up the boy and kept him confined for four days to force him to make the false confessional statement. The HC in its September 16, 2019, order had asked the Rajshahi SP to explain on what authority did “he disclosed confidential information of a confessional statement under 164”. On the night of June 6, 2018, Rocky Islam, 22, of Koipukuria in Puthia was fatally injured. He died half an hour after he was taken to Puthia Health Complex, his family said. His body had marks of numerous injuries and his genitals had been clubbed. Before his death, Rocky told his family members that Masud’s cadres, who were accused in a case for beating up his uncle Mohidul Islam in 2017, had attacked him. Rocky’s mother Rehana Begum filed a case with Puthia police accusing 14 people for the murder. Three weeks later, she learnt that the FIR she filed was never recorded. Instead, police recorded an unnatural death case saying Rocky died by suicide. On July 2, 2018, Rehana filed another case with a Rajshahi court accusing the same 14 people. And the case is now being investigated by the Police Bureau of Investigation. A mob beat Md Tarek, 22, a rickshaw-van puller on suspicion of trying to steal a rickshaw-van at Jhalmalia Bazar of Puthia and handed him over to the police on September 23, 2018, police said. Tarek’s mother Sanwara Begum alleged that Shakil had called them over to the police station and demanded Tk 60,000 for his release. The family had said they would be able to pay only after they sell a piece of land they owned. Sanwara told The Daily Star that Tarek hanged himself inside the police station after learning that the family was trying to sell the land to have him released. She alleged that her son was kept in the ICU of Rajshahi Medical College Hospital for 22 days before being declared dead on October 15, 2018. Police handed the body over without an autopsy, she said. Locals claimed that soon after joining Puthia Police Station, Shakil in connivance with Masud patronised a gang of criminals, including some women, who entrapped well-off people and extorted them. After Shakil was removed, police in early October arrested eight members of the gang. An audio clip allegedly of a female arrestee saying how the money went to Shakil and Masud went viral in social media. Shakil’s mother-in-law Aklima Begum had filed the criminal case against him for forgery, forceful eviction from her property, and attempted murder. Aklima wrote to the Rajshahi Range deputy inspector general (DIG) of police that Shakil obtained bail in the case she filed. The DIG received the letter on September 26, 2018. The DIG also informed Chapainawabganj police of the matter. Abu Bakar Siddique, one of the two lawyers dealing Nigar’s writ petition, said there was hardly a way of suppressing the information of his bail. Either senior officials overlooked the matter while appointing him or he hid the information. HC lawyer Jyotirmoy Barua said, “Continuation of service by a suspended officer is simply impossible without political influence.” Shakil told The Daily Star that he was not bothered about any of the allegations against him “since he was not involved”. He was involved in recording of the FIR and “I’ve done it properly,” he said, adding that the recorded FIR carries the plaintiff’s signature. He claimed he did not take Nigar’s signature on blank pieces of paper. Shakil denied having any connections with Masud or having anything to do with the dropping of Masud and Faruk’s names from the murder case. He claimed that many of his senior officers, including the Rajshahi SP, knew about his bail. Rajshahi SP Md Shahidullah said Shakil served concealing information regarding his involvement in criminal offences. “We knew nothing. He [Shakil] continued serving hiding facts [of his involvement in criminal offence],” the SP said, adding that his office had no records of Shakil’s taking leave to attend court hearings in this connection. AL leader Ehsanul Haque Masud denied involvement in the murder of Nurul. He claimed that a vested quarter was trying to harm his image. “Nurul’s family members never accused me of the murder, until they went to the High Court,” he said. “They did not accuse me at the police station ... they could have done it before the court. But they had not. “They only accused me in the writ petition over political enmity,” he said. Talking to The Daily Star, Shakil’s brother Shamil Uddin Ahmed Shimul, lawmaker of Chapainawabganj-1, said, “Being a police officer, he knew well where to grease to get away with the charges he was facing. “I never lobbied for him and he didn’t contact me either. “Whatever he did, he did with local political leaders beside him. He never contacted me and I never contacted him regarding these matters.” \tCrooked cop kept in service\tПолиция Шакил инспектор Уддин Ахамед уклонился от подвески уже более полутора лет, хотя он был обвинен в подделке документов, захват земель, и даже покушение на убийство. Он был начальником полицейского участка, нарушая правила в течение этого времени. Он также был обвинен во вмешательстве с Первым Информационным докладом по делу об убийстве, чтобы защитить его политическое-лидер союзника. Он также якобы бежал вымогательство банды. Шакил был размещен в Пабне в качестве офицера район разведки, когда он был обвинен в подделке документов, незаконном присвоении земли, и покушение на убийство по делу, возбужденному по его теща по 10 декабря 2017 года, в Chapainawabganj. Он получил залог на 9 января 2018 года. Правила государственной службе говорит, что он должен быть приостановлено в день, когда он файлы на поруки. Согласно документам, полученным дневной звезды, Шакил, вместо того, чтобы быть приостановлено, был переведен в Раджшахи на 17 апреля 2018 года, и лишь 13 дней спустя, он был создан организационный комитет, в полицию Puthia. Тот факт, что Шакил служил РЯ в уклонении от Puthia подвеска вышла на первый план на 16 сентября, когда Верховный суд издал постановление на судебный приказ подано Нигар Султана, дочь убитого лидера транспортной Нурул Ислам. В петиции, поданной 8 сентября, Нигяр запросил директивы суда о формировании комиссии по расследованию фальсификации зонд Шакил О ель подал в связи с убийством ее отца. Она спрашивает, почему Шакил не было приостановлено в соответствии с Положением о государственной службе. ХК заказал судебной экспертизы в роль ОУ и направлены соответствующие его приостановить и начать ведомственной дела против его власти. Он попросил соответствующие органы, почему их бездействие по поводу “причастности оргкомитета по уголовным делам и участие в коррупции и других тяжких преступлений” не должны быть признаны незаконными. Суточная звезда получила копию приказа. Суд может доставить сегодня заказ как отчет судебного зонд был представлен. Полиция в конце концов приостановил Шакил на 2 октября после того, ХК ретроспективно с 9 января 2018 года, в день его освободили под залог. Эта бумага имеет копию полицейского порядка. После дисквалификации, местные жители открыты и утверждал, что Шакил, который есть законодатель-брат, и его союзник район Аль-Организационный секретарь Ehsanul Хак Масуд кованые ели, баловались в коррупции, и побежал вымогательство банды. Нигяр описано большинство обвинений против Шакил по ее ходатайству С ув. Нурул баллотировался на должность секретарь Союза Puthia по работников автомобильного транспорта 24 апреля этого года. Он проиграл Patal Абдур Рахман, который был поддержан его соратник Масуда. Затем Нурул подала гражданский иск в суд Раджшахи утверждая, что результаты выборов были подтасованы в пользу Patal. 9 июня, суд вынес предписание по результатам. Около 10:00 утра следующего дня, когда Нурул пошли на союз офисе с постановлением суда, Масуд, Patal, Голамом Фарук, бывший генеральный секретарь провинциях аль который выступал в качестве избирательной комиссии, и другие угрожали ему с тяжелыми последствиями, по словам исполнительного листа. Нурул пропал без вести после инцидента и 11 июня утром, его тело было найдено возле кирпичной печи в Puthia. Он был забит до смерти, а его гениталии были дубинками. В тот день, Нигяр возбудили дело об убийстве с полицейского участка Puthia. Дело в итоге был записан на 11:30 вечера против Patal, мкр Mithu, км Шахин, Нурул Амин, доктор медицинских наук Мотин, и Абдур Рашид, по документам. Нигяр в ее Писание говорит, РПИ она подала восемь имени обвиняемого и Шакил пытался убедить ее бросить Масуд и Голамом Фарук. Она сказала, что Шакил сделал поддельную ель, используя свою подпись он потребовал, чтобы она поставила на двух чистых листах бумаги. Она сказала, что Шакил принял подписи что они были необходимы для погребения Нурул и арест обвиняемого. Сыскное отделение полиции выясняли, но члены семьи утверждали, что была сделана попытка увести ход расследования. Они сказали, что главное управление Раджшахи полиции сделал заявление для прессы 19 июня говорил, что 16-летний мальчик признался в убийстве Нурул за попытку изнасиловать его. В заявлении говорится, что мальчик убил Нурул с одного удара. Однако, расследование Нурул указывают на многочисленные травмы. Нигяр заявил, что полиция взяла мальчика и держал его в заключении в течение четырех дней, чтобы заставить его сделать ложное признание. ХК в свои 16 сентября 2019,, того, просил Раджшахи СП, чтобы объяснить, на каком основании сделал “он разгласил конфиденциальную информацию исповедального заявление по 164”. В ночь на 6 июня 2018 года, Рокки Ислам, 22, оф Koipukuria в Puthia был смертельно ранен. Он умер через полчаса после того, как он был доставлен в Puthia оздоровительный комплекс, его семья сказала. На его теле были следы от многочисленных травм, а его гениталии были дубинками. Перед смертью Рокки рассказал своим родственникам, что кадры Масуда, которые обвинялись по делу за избиение своего дяди Mohidul Ислам в 2017 году, напал на него. Рокки мама Рехана Бегум возбудили дело с полицией Puthia обвинив 14 человек за убийство. Спустя три недели, она узнала, что ели она подала и не был записан. Вместо этого, полиция зафиксировала неестественный случае смерти говорит Рокки умер в результате самоубийства. На 2 июля 2018 года, Рехана возбудил еще одно дело в суд Раджшахи обвиняя те же 14 человек. И дело сейчас расследуется полицией бюро расследований. Толпой бить МД Тарек, 22, рикша-Ван съемник по подозрению в попытке украсть рикша-Ван в Jhalmalia базар Puthia и передали его в полицию по 23 сентября 2018 года, сообщает полиция. Мать Санвар Тарека Бегум утверждал, что Шакил назвал их в полицейский участок и потребовал, ТК 60,000 за его освобождение. В семье было сказано, что они будут способны оплатить только после того, как они продают кусок земли, которыми они владели. Санвар то, что Тарек повесился в полицию, узнав, что семья пыталась продать землю, чтобы его выпустили. Она утверждала, что ее сын находился в реанимации Больницы Медицинского колледжа Раджшахи в течение 22 дней, прежде чем был объявлен мертвым на 15 октября 2018 года. Полиция передала тело без вскрытия, говорит она. Местные жители утверждали, что вскоре после прихода в полицейский участок Puthia, Шакил в сговоре с Масудом покровительствовал банде преступников, в том числе и некоторые женщины, которые хорошо улавливаются людей и вымогали их. После Шакил был удален, полицию в начале октября арестовали восьмерых членов банды. Якобы аудио клип женщина арестованного говорят о том, как деньги пошли на Шакил и Масуд пошли вирусные в социальных медиа. Теща Шакил по Аклима Бегум была подана против него возбуждено уголовное дело за подделку документов, принудительном выселении из ее имущества, а также покушение на убийство. Аклима написал заместитель генерального Раджшахи инспектор диапазон (копать) полиции, что Шакил, полученных в залог в случае, если она подана. Диг получил письмо от 26 сентября 2018 года. Раскопки также сообщил, что сотрудники полиции Chapainawabganj вопроса. Абу Бакар Сиддик, один из двух юристов, занимающихся судебный приказ Нигяр, говорит, там вряд ли был способ подавления информацию о его залоге. Либо высокопоставленные чиновники упустили из виду вопрос при назначении ему или он спрятал информацию. Юрист ХК Jyotirmoy Баруа сказал, “продолжение службы отстраненный офицер просто невозможно без политического влияния”. Шакил рассказал Daily Star, что он не был обеспокоен ни одного из обвинений против него“, поскольку он не был замешан”. Он участвовал в записи РПИ и “я сделал это правильно”, - сказал он, добавив, что зафиксировано ель несет подпись истца. Он утверждал, что он не брал подпись Нигяр на пустые бумажки. Шакил отрицал наличие каких-либо связей с Масудом или имеющий ничего общего со снятием Масуд и фамилии Фарук из дела об убийстве. Он утверждал, что многие из его старших офицеров, включая Раджшахи СП, знал о его залоге. Раджшахи СП МД Shahidullah сказал Шакил служил сокрытие информации о своем участии в уголовных преступлениях. “Мы ничего не знали. Он [Шакил] продолжал служить сокрытие фактов [о его участии в уголовном преступлении],” СП-заявил он, добавив, что его ведомство не располагает информацией о принятии Шакил оставим для участия в судебных слушаниях в связи с этим. Лидер Аль-Хак Ehsanul Масуд отрицает причастность к убийству Нурул. Он утверждал, что кровно квартал пытался причинить вред его изображения. “Члены семьи Нурул никогда не обвинял меня в убийстве, пока они пошли в Верховный суд”, - сказал он. “Они не обвиняют меня в полицию ... они могли бы сделать это до суда. Но они не имели. “Они только обвинили меня в судебный приказ за политической вражды”, - сказал он. Разговаривая с Дейли Стар, брат Шакил это Шамиль Уддин Ахмед Shimul, депутат Chapainawabganj-1, сказал: “будучи полицейским, он хорошо знал, где смазать, чтобы уйти с обвинением он сталкивается. “Я никогда не выступал за него, а он не связаться со мной. “Что бы он ни делал, он делал с местными политическими лидерами рядом с ним. Он никогда не связался со мной, и я никогда не связывался с ним по этим вопросам.” \tКривые КС держат на службе\tsociety\t\t\thttps://toloka.yandex.ru/task/8843085/000086ef4d--5de1461bb7cf68011d61b272\t000086ef4d--5de1461bb7cf68011d61b272\ta82c3ebb334a878cf86b7f373670e497\tAPPROVED\t2019-11-29T16:23:55.254\n"
          ],
          "name": "stdout"
        }
      ]
    },
    {
      "cell_type": "code",
      "metadata": {
        "id": "UbapkM0gHtew",
        "colab_type": "code",
        "outputId": "5ab55b77-3a39-4483-dc64-d2daf97a8fd4",
        "colab": {
          "base_uri": "https://localhost:8080/",
          "height": 505
        }
      },
      "source": [
        "# https://www.kaggle.com/rmisra/news-category-dataset\n",
        "\n",
        "!rm -f news-category-dataset.zip\n",
        "!wget https://www.dropbox.com/s/ua18htwqrkwnfpg/news-category-dataset.zip\n",
        "!unzip news-category-dataset.zip"
      ],
      "execution_count": 0,
      "outputs": [
        {
          "output_type": "stream",
          "text": [
            "--2020-01-04 19:54:58--  https://www.dropbox.com/s/ua18htwqrkwnfpg/news-category-dataset.zip\n",
            "Resolving www.dropbox.com (www.dropbox.com)... 162.125.65.1, 2620:100:6021:1::a27d:4101\n",
            "Connecting to www.dropbox.com (www.dropbox.com)|162.125.65.1|:443... connected.\n",
            "HTTP request sent, awaiting response... 301 Moved Permanently\n",
            "Location: /s/raw/ua18htwqrkwnfpg/news-category-dataset.zip [following]\n",
            "--2020-01-04 19:54:59--  https://www.dropbox.com/s/raw/ua18htwqrkwnfpg/news-category-dataset.zip\n",
            "Reusing existing connection to www.dropbox.com:443.\n",
            "HTTP request sent, awaiting response... 302 Found\n",
            "Location: https://uccd5339f0cc0f16aff82f9fadf5.dl.dropboxusercontent.com/cd/0/inline/Avirip0t2mqYzGn0tLRNjFgEOZ3FYQrKZglCgLU7993NbZo_dI6L3h-AhGSBpgXYFd2GzL0yhLMkv_AXZuiM-VoSfZUSa_lCqjy7UpOIUkIhq7EaXlLnMguDZ7gC_afZ6pw/file# [following]\n",
            "--2020-01-04 19:54:59--  https://uccd5339f0cc0f16aff82f9fadf5.dl.dropboxusercontent.com/cd/0/inline/Avirip0t2mqYzGn0tLRNjFgEOZ3FYQrKZglCgLU7993NbZo_dI6L3h-AhGSBpgXYFd2GzL0yhLMkv_AXZuiM-VoSfZUSa_lCqjy7UpOIUkIhq7EaXlLnMguDZ7gC_afZ6pw/file\n",
            "Resolving uccd5339f0cc0f16aff82f9fadf5.dl.dropboxusercontent.com (uccd5339f0cc0f16aff82f9fadf5.dl.dropboxusercontent.com)... 162.125.65.6, 2620:100:6021:6::a27d:4106\n",
            "Connecting to uccd5339f0cc0f16aff82f9fadf5.dl.dropboxusercontent.com (uccd5339f0cc0f16aff82f9fadf5.dl.dropboxusercontent.com)|162.125.65.6|:443... connected.\n",
            "HTTP request sent, awaiting response... 302 FOUND\n",
            "Location: /cd/0/inline2/AvhZhKKMfUgQPELxh5J7uRXy34zqa-VQkoNIlyXNghr2wYfgil33M5iPizn9EwduktKj76HTJes7fDC_MGvTMgYOXke8MxuDWGEOk7sLCFvRq862VFy_zvHMI58ZuWnx1HJoYtrWOkHxpGbVUBaAzUaYRn2tySXQ2YCJlNg6tln8EushGA_zI0ZYCasPNxYfyIZ7Qk_qxEqeEjceUUYKJ9kftuT3jP3bWEMfHaTvC53SFq5aTKw1HtJztIyyHbIcZ5vLLe72m2KwUQzJ5tuo_9Xm5CTzixfGxA551UAFnV1atddheQdoRbG5lvhZXb14XKzxf2A2dsF79ynZG3hMspe_YrQ12QjT0B0KHTJNHUJFFQ/file [following]\n",
            "--2020-01-04 19:55:00--  https://uccd5339f0cc0f16aff82f9fadf5.dl.dropboxusercontent.com/cd/0/inline2/AvhZhKKMfUgQPELxh5J7uRXy34zqa-VQkoNIlyXNghr2wYfgil33M5iPizn9EwduktKj76HTJes7fDC_MGvTMgYOXke8MxuDWGEOk7sLCFvRq862VFy_zvHMI58ZuWnx1HJoYtrWOkHxpGbVUBaAzUaYRn2tySXQ2YCJlNg6tln8EushGA_zI0ZYCasPNxYfyIZ7Qk_qxEqeEjceUUYKJ9kftuT3jP3bWEMfHaTvC53SFq5aTKw1HtJztIyyHbIcZ5vLLe72m2KwUQzJ5tuo_9Xm5CTzixfGxA551UAFnV1atddheQdoRbG5lvhZXb14XKzxf2A2dsF79ynZG3hMspe_YrQ12QjT0B0KHTJNHUJFFQ/file\n",
            "Reusing existing connection to uccd5339f0cc0f16aff82f9fadf5.dl.dropboxusercontent.com:443.\n",
            "HTTP request sent, awaiting response... 200 OK\n",
            "Length: 26677036 (25M) [application/zip]\n",
            "Saving to: ‘news-category-dataset.zip’\n",
            "\n",
            "\r          news-cate   0%[                    ]       0  --.-KB/s               \r         news-categ  13%[=>                  ]   3.41M  16.0MB/s               \r        news-catego  61%[===========>        ]  15.66M  30.5MB/s               \rnews-category-datas 100%[===================>]  25.44M  45.3MB/s    in 0.6s    \n",
            "\n",
            "2020-01-04 19:55:01 (45.3 MB/s) - ‘news-category-dataset.zip’ saved [26677036/26677036]\n",
            "\n",
            "Archive:  news-category-dataset.zip\n",
            "  inflating: News_Category_Dataset_v2.json  \n"
          ],
          "name": "stdout"
        }
      ]
    },
    {
      "cell_type": "code",
      "metadata": {
        "id": "QGvbTS192j9P",
        "colab_type": "code",
        "colab": {}
      },
      "source": [
        "import pyonmttok\n",
        "tokenizer = pyonmttok.Tokenizer(\"conservative\")\n",
        "\n",
        "def preprocess(text):\n",
        "    text = str(text).strip().replace(\"\\n\", \" \").replace(\"\\xa0\", \" \").lower()\n",
        "    tokens, _ = tokenizer.tokenize(text)\n",
        "    text = \" \".join(tokens)\n",
        "    return text"
      ],
      "execution_count": 0,
      "outputs": []
    },
    {
      "cell_type": "code",
      "metadata": {
        "id": "T1amO2NuIch4",
        "colab_type": "code",
        "colab": {}
      },
      "source": [
        "import random\n",
        "\n",
        "def save_to_ft(records, output_file_name, use_preprocess=True):\n",
        "    with open(output_file_name, \"w\") as w:\n",
        "        random.shuffle(records)\n",
        "        for d in records:\n",
        "            title = d[\"title\"] if not use_preprocess else preprocess(d[\"title\"])\n",
        "            text = d[\"text\"] if not use_preprocess else preprocess(d[\"text\"])\n",
        "            w.write(\"__label__{} {} {}\\n\".format(d[\"res\"], title, text))"
      ],
      "execution_count": 0,
      "outputs": []
    },
    {
      "cell_type": "code",
      "metadata": {
        "id": "lQ3mPWlrsvp7",
        "colab_type": "code",
        "outputId": "591c6152-a1fc-49a8-b4ec-3515876e35f4",
        "colab": {
          "base_uri": "https://localhost:8080/",
          "height": 145
        }
      },
      "source": [
        "import json\n",
        "import random\n",
        "from collections import Counter, defaultdict\n",
        "from sklearn.metrics import cohen_kappa_score\n",
        "\n",
        "def normalize(text):\n",
        "    return text.replace(\"\\t\", \" \").replace(\"\\n\", \" \").replace('\"', '').replace(\"\\xa0\", \" \")\n",
        "\n",
        "def convert_to_ft(answers_file_name, original_json, output_file_name, min_votes=3, use_preprocess=True):\n",
        "    with open(answers_file_name, \"r\") as r:\n",
        "        header = tuple(next(r).strip().split(\"\\t\"))\n",
        "        records = []\n",
        "        for line in r:\n",
        "            fields = line.strip().split(\"\\t\")\n",
        "            assert len(fields) == len(header), fields\n",
        "            records.append(dict(zip(header, fields)))\n",
        "\n",
        "    # Filter honeypots out\n",
        "    records = [r for r in records if not r[\"GOLDEN:res\"]]\n",
        "\n",
        "    # Normalize fields\n",
        "    for r in records:\n",
        "        r.pop(\"GOLDEN:res\", None)\n",
        "        r.pop(\"HINT:text\", None)\n",
        "        for key, value in r.items():\n",
        "            new_key = key.split(\":\")[-1]\n",
        "            r[new_key] = r.pop(key)\n",
        "\n",
        "    # Restore original urls (to fix a bug)\n",
        "    with open(original_json, \"r\") as r:\n",
        "        data = json.load(r)\n",
        "        title2url = {normalize(d[\"title\"]): d[\"url\"] for d in data}\n",
        "        for r in records:\n",
        "            title = normalize(r[\"title\"])\n",
        "            if title not in title2url:\n",
        "                continue\n",
        "            r[\"url\"] = title2url[title]\n",
        "\n",
        "    # Calc inter-annotator agreement\n",
        "    annotator2labels = defaultdict(dict)\n",
        "    unique_keys = list(set([r[\"url\"] for r in records]))\n",
        "    unique_workers = list(set([r[\"worker_id\"] for r in records]))\n",
        "    unique_res = list(set([r[\"res\"] for r in records]))\n",
        "    res2num = {res: i for i, res in enumerate(unique_res)}\n",
        "    for r in records:\n",
        "        annotator2labels[r[\"worker_id\"]][r[\"url\"]] = r[\"res\"]\n",
        "    worker2labels = {}\n",
        "    for worker_id in unique_workers:\n",
        "        worker_labels = []\n",
        "        worker_res = annotator2labels[worker_id]\n",
        "        for key in unique_keys:\n",
        "            if key not in worker_res:\n",
        "                worker_labels.append(-1)\n",
        "                continue\n",
        "            worker_labels.append(res2num[worker_res[key]])\n",
        "        worker2labels[worker_id] = worker_labels\n",
        "    scores = []\n",
        "    for w1, labels1 in worker2labels.items():\n",
        "        for w2, labels2 in worker2labels.items():\n",
        "            if w1 == w2:\n",
        "                continue\n",
        "            fixed_labels1 = []\n",
        "            fixed_labels2 = []\n",
        "            for l1, l2 in zip(labels1, labels2):\n",
        "                if l1 == -1 or l2 == -1:\n",
        "                    continue\n",
        "                fixed_labels1.append(l1)\n",
        "                fixed_labels2.append(l2)\n",
        "            if fixed_labels1 and fixed_labels2:\n",
        "                score = cohen_kappa_score(fixed_labels1, fixed_labels2)\n",
        "                if -1.0 <= score <= 1.0:\n",
        "                    scores.append(score)\n",
        "    print(\"Avg kappa score: {}\".format(sum(scores)/len(scores)))\n",
        "\n",
        "    results = defaultdict(list)\n",
        "    for r in records:\n",
        "        results[r[\"url\"]].append(r[\"res\"])\n",
        "\n",
        "    data = {r[\"url\"]: r for r in records}\n",
        "    for url, res in results.items():\n",
        "        res_count = Counter(res)\n",
        "        if res_count.most_common(1)[0][1] < min_votes:\n",
        "            data.pop(url)\n",
        "\n",
        "    rub_cnt = Counter()\n",
        "    for _, d in data.items():\n",
        "        rub_cnt[d[\"res\"]] += 1\n",
        "    print(rub_cnt.most_common())\n",
        "\n",
        "    save_to_ft(list(data.values()), output_file_name, use_preprocess)\n",
        "\n",
        "convert_to_ft(\"en_cat_train_raw_markup.tsv\", \"en_tg_train.json\", \"en_cat_train_markup.txt\", min_votes=2, use_preprocess=True)\n",
        "convert_to_ft(\"en_cat_test_raw_markup.tsv\", \"en_tg_test.json\", \"en_cat_test_markup.txt\", min_votes=4, use_preprocess=True)"
      ],
      "execution_count": 0,
      "outputs": [
        {
          "output_type": "stream",
          "text": [
            "/usr/local/lib/python3.6/dist-packages/sklearn/metrics/classification.py:576: RuntimeWarning: invalid value encountered in true_divide\n",
            "  k = np.sum(w_mat * confusion) / np.sum(w_mat * expected)\n"
          ],
          "name": "stderr"
        },
        {
          "output_type": "stream",
          "text": [
            "Avg kappa score: 0.6791098900631102\n",
            "[('society', 232), ('sports', 107), ('economy', 62), ('entertainment', 57), ('not_news', 44), ('technology', 43), ('other', 24), ('science', 5)]\n",
            "Avg kappa score: 0.6168435156328119\n",
            "[('society', 179), ('sports', 62), ('economy', 55), ('entertainment', 48), ('technology', 38), ('not_news', 25), ('science', 14), ('other', 7)]\n"
          ],
          "name": "stdout"
        }
      ]
    },
    {
      "cell_type": "code",
      "metadata": {
        "id": "soJgINOfuSe7",
        "colab_type": "code",
        "outputId": "bab639ff-3464-4830-8a07-7cd3fa90e81e",
        "colab": {
          "base_uri": "https://localhost:8080/",
          "height": 53
        }
      },
      "source": [
        "!cat en_cat_train_markup.txt | wc -l\n",
        "!cat en_cat_test_markup.txt | wc -l"
      ],
      "execution_count": 0,
      "outputs": [
        {
          "output_type": "stream",
          "text": [
            "574\n",
            "428\n"
          ],
          "name": "stdout"
        }
      ]
    },
    {
      "cell_type": "code",
      "metadata": {
        "id": "OBgdjnUJFpcq",
        "colab_type": "code",
        "outputId": "f076dbc9-8d5d-4f61-c854-6eb95a2f7d88",
        "colab": {
          "base_uri": "https://localhost:8080/",
          "height": 253
        }
      },
      "source": [
        "import os\n",
        "import random\n",
        "\n",
        "def read_news_category_dataset(input_file, output_file, use_preprocess=True):\n",
        "    assert os.path.exists(input_file)\n",
        "    records = []\n",
        "    cat2res = {\n",
        "        \"POLITICS\": (\"society\", 100.0/32739),\n",
        "        \"ENTERTAINMENT\": (\"entertainment\", 100.0/16058),\n",
        "        \"BUSINESS\": (\"economy\", 300.0/5937),\n",
        "        \"CRIME\": (\"society\", 100.0/3405),\n",
        "        \"ARTS & CULTURE\": (\"entertainment\", 100.0/700),\n",
        "        \"CULTURE & ARTS\": (\"entertainment\", 100.0/700),\n",
        "        \"TECH\": (\"technology\", 300.0/2082),\n",
        "        \"SCIENCE\": (\"science\", 300.0/2178),\n",
        "        \"SPORTS\": (\"sports\", 300.0/4884),\n",
        "        \"HEALTHY LIVING\": (\"not_news\", 300.0/6694),\n",
        "        \"THE WORLDPOST\": (\"society\", 100.0/3405),\n",
        "        \"FOOD & DRINK\": (\"other\", 150.0/6226),\n",
        "        \"STYLE & BEAUTY\": (\"other\", 150.0/9649)\n",
        "    }\n",
        "\n",
        "    with open(input_file, \"r\") as r:\n",
        "        for line in r:\n",
        "            data = json.loads(line)\n",
        "            title = data[\"headline\"]\n",
        "            text = data[\"short_description\"]\n",
        "            data[\"title\"] = title\n",
        "            data[\"text\"] = text\n",
        "            category = data[\"category\"]\n",
        "            if category in cat2res:\n",
        "                res, prob = cat2res[category]\n",
        "                data[\"res\"] = res\n",
        "                if random.random() < prob:\n",
        "                    records.append(data)\n",
        "            # else:\n",
        "                # print(\"Skipping: \", category, title)\n",
        "    \n",
        "    rub_cnt = Counter()\n",
        "    for d in records:\n",
        "        rub_cnt[d[\"res\"]] += 1\n",
        "    print(rub_cnt.most_common())\n",
        "    \n",
        "    save_to_ft(records, output_file, use_preprocess)\n",
        "    return records\n",
        "\n",
        "read_news_category_dataset(\"News_Category_Dataset_v2.json\", \"nc_markup.txt\")\n",
        "!head nc_markup.txt\n",
        "!cat nc_markup.txt | wc -l"
      ],
      "execution_count": 0,
      "outputs": [
        {
          "output_type": "stream",
          "text": [
            "[('entertainment', 424), ('sports', 328), ('society', 323), ('technology', 315), ('not_news', 311), ('other', 305), ('science', 300), ('economy', 288)]\n",
            "__label__technology alexa can remember birthdays and other things for you now last week at a conference in france , amazon announced a new alexa feature that makes it possible to use the smart assistant\n",
            "__label__science this is what earth would be like without the moon humans might never have existed .\n",
            "__label__other food porn : brilliance from david burke get a taste of chef david burke ' s everyday culinary encounters in his iphone photos of food , from savory peanut brittle to watermelon-and-asparagus salad at david burke kitchen .\n",
            "__label__technology the fakebook inside facebook this post first appeared at billmoyers.com . beginning in 2004 , mark zuckerberg and his companions made a historic contribution\n",
            "__label__science maybe colleges should take a lesson from zoos by michael preston , ucf forum columnist what would it take to create a more learning-efficient campus ? what elements must\n",
            "__label__science star-shaped gravity waves discovered by physicists in france to uncover new , remarkable nonlinear waves , scientists experimented with circular and rectangular tanks containing about\n",
            "__label__society 19 severely neglected dogs discovered in ' unventilated ' u-haul ; 2 arrested for animal cruelty the dogs were living in their own waste , caged without food or water .\n",
            "__label__technology scroogled or binged ? a guide to online holiday guides bing thinks that google is \" scroogling \" you by giving you a bunch of paid ads disguised as search results . but as long as other search experiences are sub-optimal to google , it does not have any evolutionary pressure to do any better than it already does .\n",
            "__label__sports tommy tuberville grilled by dan patrick over texas tech departure ( video ) tuberville appeared on the dan patrick show on thursday and patrick pressed the coach on those reports and college coaches\n",
            "__label__entertainment jimmy fallon ' s mother dies of undisclosed illness “ today i lost my biggest fan , \" fallon said .\n",
            "2594\n"
          ],
          "name": "stdout"
        }
      ]
    },
    {
      "cell_type": "code",
      "metadata": {
        "id": "T07Ri1yMDg_W",
        "colab_type": "code",
        "outputId": "f6b81555-5fd3-40f2-b1e7-3dea076f1fe6",
        "colab": {
          "base_uri": "https://localhost:8080/",
          "height": 469
        }
      },
      "source": [
        "!wget https://www.dropbox.com/s/no7x1n8acl5ykif/en_vectors_v2.bin"
      ],
      "execution_count": 0,
      "outputs": [
        {
          "output_type": "stream",
          "text": [
            "--2020-01-04 19:32:46--  https://www.dropbox.com/s/no7x1n8acl5ykif/en_vectors_v2.bin\n",
            "Resolving www.dropbox.com (www.dropbox.com)... 162.125.65.1, 2620:100:6021:1::a27d:4101\n",
            "Connecting to www.dropbox.com (www.dropbox.com)|162.125.65.1|:443... connected.\n",
            "HTTP request sent, awaiting response... 301 Moved Permanently\n",
            "Location: /s/raw/no7x1n8acl5ykif/en_vectors_v2.bin [following]\n",
            "--2020-01-04 19:32:47--  https://www.dropbox.com/s/raw/no7x1n8acl5ykif/en_vectors_v2.bin\n",
            "Reusing existing connection to www.dropbox.com:443.\n",
            "HTTP request sent, awaiting response... 302 Found\n",
            "Location: https://uc20bf39cb18565e7d1e512c85ad.dl.dropboxusercontent.com/cd/0/inline/AvjWiinW9rml6svSvEYNYFS7jpSp1fs08dqqKlk1rFcWz74zjyEDCtKnSFCwhXsQZ2o0erUsF7JecbQ3HhTw2Fkf1DV4CtPv9JIRkSvaECQtyIDel3xM1ie2-j72tul5NZU/file# [following]\n",
            "--2020-01-04 19:32:47--  https://uc20bf39cb18565e7d1e512c85ad.dl.dropboxusercontent.com/cd/0/inline/AvjWiinW9rml6svSvEYNYFS7jpSp1fs08dqqKlk1rFcWz74zjyEDCtKnSFCwhXsQZ2o0erUsF7JecbQ3HhTw2Fkf1DV4CtPv9JIRkSvaECQtyIDel3xM1ie2-j72tul5NZU/file\n",
            "Resolving uc20bf39cb18565e7d1e512c85ad.dl.dropboxusercontent.com (uc20bf39cb18565e7d1e512c85ad.dl.dropboxusercontent.com)... 162.125.65.6, 2620:100:6021:6::a27d:4106\n",
            "Connecting to uc20bf39cb18565e7d1e512c85ad.dl.dropboxusercontent.com (uc20bf39cb18565e7d1e512c85ad.dl.dropboxusercontent.com)|162.125.65.6|:443... connected.\n",
            "HTTP request sent, awaiting response... 302 FOUND\n",
            "Location: /cd/0/inline2/AvhN9h7WXAy0Fif2LOlsJHM3LwhDmOpJS6QZF57gfwItoFla6XcuueJvpot73wMgH_h1IomU8Q999W72q9kBumPaV-zY1n0zdftuq-H3PtunwyCyJPvJJz-01u9-gX5bhtyI8IwQeVirMgEn8jYT9BcBmKYWSQtrL4LY8WpXHRI5WJA9RwulXZdTMOfYY-Uknv8AIp79Gm3G848vduBUan1oAGIjt1Z2eHBjEhvN4IEkl4sbLGRySdApdtRS3P1uMIJO9OI-NZt4HeMUsQzxk8m_2y-tJ-seeTlY7IWiPnGQRIllpfbyUVNy-on1LAkGar38-HOrvlJ_-DQgJUiEOKYSDihbD2Vkof_mrdPFioCuRw/file [following]\n",
            "--2020-01-04 19:32:48--  https://uc20bf39cb18565e7d1e512c85ad.dl.dropboxusercontent.com/cd/0/inline2/AvhN9h7WXAy0Fif2LOlsJHM3LwhDmOpJS6QZF57gfwItoFla6XcuueJvpot73wMgH_h1IomU8Q999W72q9kBumPaV-zY1n0zdftuq-H3PtunwyCyJPvJJz-01u9-gX5bhtyI8IwQeVirMgEn8jYT9BcBmKYWSQtrL4LY8WpXHRI5WJA9RwulXZdTMOfYY-Uknv8AIp79Gm3G848vduBUan1oAGIjt1Z2eHBjEhvN4IEkl4sbLGRySdApdtRS3P1uMIJO9OI-NZt4HeMUsQzxk8m_2y-tJ-seeTlY7IWiPnGQRIllpfbyUVNy-on1LAkGar38-HOrvlJ_-DQgJUiEOKYSDihbD2Vkof_mrdPFioCuRw/file\n",
            "Reusing existing connection to uc20bf39cb18565e7d1e512c85ad.dl.dropboxusercontent.com:443.\n",
            "HTTP request sent, awaiting response... 200 OK\n",
            "Length: 62589071 (60M) [application/octet-stream]\n",
            "Saving to: ‘en_vectors_v2.bin’\n",
            "\n",
            "en_vectors_v2.bin   100%[===================>]  59.69M  6.89MB/s    in 8.0s    \n",
            "\n",
            "2020-01-04 19:32:56 (7.49 MB/s) - ‘en_vectors_v2.bin’ saved [62589071/62589071]\n",
            "\n"
          ],
          "name": "stdout"
        }
      ]
    },
    {
      "cell_type": "code",
      "metadata": {
        "id": "rGcdwkt4EmXD",
        "colab_type": "code",
        "outputId": "66424bb8-6049-4a6d-9956-ef4a31c821c1",
        "colab": {
          "base_uri": "https://localhost:8080/",
          "height": 253
        }
      },
      "source": [
        "!wget https://raw.githubusercontent.com/facebookresearch/fastText/master/python/doc/examples/bin_to_vec.py\n",
        "!python bin_to_vec.py en_vectors_v2.bin > en_vectors_v2.vec"
      ],
      "execution_count": 0,
      "outputs": [
        {
          "output_type": "stream",
          "text": [
            "--2020-01-04 19:33:02--  https://raw.githubusercontent.com/facebookresearch/fastText/master/python/doc/examples/bin_to_vec.py\n",
            "Resolving raw.githubusercontent.com (raw.githubusercontent.com)... 151.101.0.133, 151.101.64.133, 151.101.128.133, ...\n",
            "Connecting to raw.githubusercontent.com (raw.githubusercontent.com)|151.101.0.133|:443... connected.\n",
            "HTTP request sent, awaiting response... 200 OK\n",
            "Length: 1120 (1.1K) [text/plain]\n",
            "Saving to: ‘bin_to_vec.py’\n",
            "\n",
            "\rbin_to_vec.py         0%[                    ]       0  --.-KB/s               \rbin_to_vec.py       100%[===================>]   1.09K  --.-KB/s    in 0s      \n",
            "\n",
            "2020-01-04 19:33:02 (248 MB/s) - ‘bin_to_vec.py’ saved [1120/1120]\n",
            "\n",
            "\n"
          ],
          "name": "stdout"
        }
      ]
    },
    {
      "cell_type": "code",
      "metadata": {
        "id": "aytxXtVZDnb8",
        "colab_type": "code",
        "colab": {}
      },
      "source": [
        "!cat en_cat_train_markup.txt > en_cat_train_all.txt\n",
        "!cat nc_markup.txt >> en_cat_train_all.txt\n",
        "!shuf en_cat_train_all.txt > en_cat_train_shuf.txt"
      ],
      "execution_count": 0,
      "outputs": []
    },
    {
      "cell_type": "code",
      "metadata": {
        "id": "LHxIIIG0It5I",
        "colab_type": "code",
        "outputId": "bde8a280-dacf-4ed8-d472-031767d1cc80",
        "colab": {
          "base_uri": "https://localhost:8080/",
          "height": 35
        }
      },
      "source": [
        "import random\n",
        "with open(\"en_cat_train_shuf.txt\", \"r\") as r, open(\"en_cat_train_train.txt\", \"w\") as train, open(\"en_cat_train_val.txt\", \"w\") as val:\n",
        "    for line in r:\n",
        "        if random.random() < 0.1:\n",
        "            val.write(line)\n",
        "        else:\n",
        "            train.write(line)\n",
        "!cat en_cat_train_val.txt | wc -l"
      ],
      "execution_count": 0,
      "outputs": [
        {
          "output_type": "stream",
          "text": [
            "341\n"
          ],
          "name": "stdout"
        }
      ]
    },
    {
      "cell_type": "code",
      "metadata": {
        "id": "PvaHhIP23Cir",
        "colab_type": "code",
        "outputId": "cd85fc60-aa69-45ef-9213-c68bfd4ff2bc",
        "colab": {
          "base_uri": "https://localhost:8080/",
          "height": 143
        }
      },
      "source": [
        "!fasttext supervised -input en_cat_train_train.txt -pretrainedVectors en_vectors_v2.vec -dim 50 -autotune-validation en_cat_train_val.txt -output en_cat_v2 -autotune-modelsize 10M"
      ],
      "execution_count": 0,
      "outputs": [
        {
          "output_type": "stream",
          "text": [
            "Warning : dim is manually set to a specific value. It will not be automatically optimized.\n",
            "Progress: 100.0% Trials:    8 Best score:  0.750733 ETA:   0h 0m 0s\n",
            "Training again with best arguments\n",
            "Read 0M words\n",
            "Number of words:  27175\n",
            "Number of labels: 8\n",
            "Progress: 100.0% words/sec/thread:  334965 lr:  0.000000 avg.loss:  1.045397 ETA:   0h 0m 0s\n"
          ],
          "name": "stdout"
        }
      ]
    },
    {
      "cell_type": "code",
      "metadata": {
        "id": "0iwWA0PwEevw",
        "colab_type": "code",
        "outputId": "c5446e6f-e35a-46b0-8f1b-b17a5886d9e1",
        "colab": {
          "base_uri": "https://localhost:8080/",
          "height": 71
        }
      },
      "source": [
        "!fasttext test en_cat_v2.ftz en_cat_test_markup.txt"
      ],
      "execution_count": 0,
      "outputs": [
        {
          "output_type": "stream",
          "text": [
            "N\t428\n",
            "P@1\t0.862\n",
            "R@1\t0.862\n"
          ],
          "name": "stdout"
        }
      ]
    },
    {
      "cell_type": "code",
      "metadata": {
        "id": "yErIMGxLJbzx",
        "colab_type": "code",
        "outputId": "15c95547-7227-4140-d023-12fbbd59bab8",
        "colab": {
          "base_uri": "https://localhost:8080/",
          "height": 1000
        }
      },
      "source": [
        "import fasttext\n",
        "model = fasttext.load_model(\"en_cat_v2.ftz\")\n",
        "true_labels = []\n",
        "predicted_labels = []\n",
        "errors = []\n",
        "with open(\"en_cat_test_markup.txt\", \"r\") as r:\n",
        "    for line in r:\n",
        "        words = line.strip().split(\" \")\n",
        "        label = words[0][9:]\n",
        "        true_labels.append(label)\n",
        "        text = \" \".join(words[1:])\n",
        "        predicted_label = model.predict([text])[0][0][0][9:]\n",
        "        if label != predicted_label:\n",
        "            errors.append((label, predicted_label, text[:100]))\n",
        "        predicted_labels.append(predicted_label)\n",
        "for label, predicted_label, text in errors:\n",
        "    print(\"T: {} P: {} | {}\".format(label, predicted_label, text))"
      ],
      "execution_count": 0,
      "outputs": [
        {
          "output_type": "stream",
          "text": [
            "T: technology P: society | coláiste phobal roscrea students experience car accidents in virtual reality tipperary county counci\n",
            "T: entertainment P: society | could haley ’ s role in trump administration taint a 2024 bid ? columbia , s.c . ( ap ) — with the l\n",
            "T: society P: not_news | cat food sold nationwide recalled over salmonella concern frozen bags of quest beef cat foot , sold \n",
            "T: not_news P: society | ramon nears , northern ilocos norte added to areas under signal no . 2 email address newsletters\n",
            "T: science P: not_news | studies confirm hpv shot is safe monday , nov . 18 , 2019 ( healthday news ) - - the hpv vaccine giv\n",
            "T: not_news P: entertainment | from nollywood to netflix : genevieve nnaji ' s rise nigerian star and film director genevieve nnaji\n",
            "T: not_news P: entertainment | watch vic mensa + his sister cook up a tasty dish in new made from scratch teaser clip chicago rappe\n",
            "T: science P: not_news | the ways astronauts prep for spaceflight could benefit cancer patients , say researchers during spac\n",
            "T: economy P: society | firm ’ s bid for € 2.9m judgment against ivor callelly to be fast-tracked a high court judge has sai\n",
            "T: society P: economy | u.s . states declare emergencies to help farmers hit by propane shortage nov 18 ( reuters ) - at lea\n",
            "T: not_news P: society | colors brighten lives in kampung a small village in malang , east java , is an example of strong com\n",
            "T: entertainment P: other | egyptian actor amr waked says he will star in ‘ wonder woman ’ sequel dubai : emirati designer muna \n",
            "T: entertainment P: technology | red dead redemption 2 on lowest settings looks like it came from the early 90s alone in the dark , i\n",
            "T: science P: not_news | mechanism connects early binge drinking to adult behaviors university of illinois at chicago researc\n",
            "T: other P: entertainment | i ' m a celeb viewers spot dec donnelly get very distracted by glam female rangers declan donnelly h\n",
            "T: not_news P: entertainment | terminator : resistance review : a first-person shooter out of time generic and boring , terminator \n",
            "T: entertainment P: technology | valve will unveil its ' half-life : alyx ' vr game on thursday no , your eyes aren ' t deceiving you\n",
            "T: economy P: society | bulgaria and egypt will share experience in the field of tourism minister of tourism nikolina angelk\n",
            "T: science P: not_news | no link between statins and memory loss , major australian study finds the most comprehensive study \n",
            "T: other P: entertainment | kanye & kim are selling their ‘ monastic ’ calabasas condo it seems a month barely goes by without k\n",
            "T: technology P: economy | teens love apple ' s airpods , and they ' re putting them on their holiday wish lists more than ever\n",
            "T: entertainment P: sports | how can patriots get tom brady , offense on track ? philadelphia - - what might get tom brady and th\n",
            "T: sports P: society | bayelsa : buhari reacts as apc ’ s lyon is declared winner president muhammadu buhari on monday cong\n",
            "T: not_news P: society | travel oman : jalan bani bu ali is steeped in history in south al sharqiyah , you can find what is p\n",
            "T: entertainment P: other | make the crafting in d & d more robust with ghesh ' s guide to making things one thing that i kind o\n",
            "T: not_news P: other | photo of a young guy enjoying gari soakings with sliced tomatoes goes viral gari soakings aka agyenk\n",
            "T: technology P: economy | tech sector lifts hong kong index ahead of alibaba ipo trade of the day : stocks rally ; gold , gove\n",
            "T: not_news P: other | 19 thoughtful gift ideas that grandparents will actually love as popsugar editors , we independently\n",
            "T: economy P: technology | [ update : until february ] huawei granted 90-day license by us , pushes full ban back huawei has be\n",
            "T: economy P: society | dole requires cno for foreign workers the rule was in department order no . 205 , series of 2019 or \n",
            "T: economy P: society | zimbabwe to increase passport application fees the registrar-general ( rg ) ’ s office has announced\n",
            "T: technology P: society | facial recognition makes subtle advance in britain the experiment was conducted discreetly . between\n",
            "T: not_news P: other | i ' m 30 years old , and my mom still pretends santa is real most of my friends stopped believing in\n",
            "T: entertainment P: society | ' the confession killer ' trailer explores a new type of true crime series when it comes to true cri\n",
            "T: society P: economy | vice chancellor says universities can afford to pay more in pensions row ahead of eight day strike a\n",
            "T: other P: entertainment | kate garraway : i ’ m a celebrity is my children ’ s fault kate garraway ’ s children persuaded her \n",
            "T: not_news P: other | cooking will never be the same , thanks to these 24 genius gadgets from amazon as popsugar editors ,\n",
            "T: not_news P: other | boots meal deal price drops to celebrate its 20th anniversary this week , you can pick up a meal dea\n",
            "T: entertainment P: other | morrowind rebirth just got a massive update earlier this year , morrowind rebirth version 5.0 launch\n",
            "T: not_news P: society | video : m ’ sian thief smoothly walks away with other guy ’ s shoes , claims it ’ s a mistake when k\n",
            "T: not_news P: society | road safety under spotlight in telford for awareness week road safety messages will be on the agenda\n",
            "T: other P: entertainment | manish malhotra ’ s father passes away the father of fashion designer , manish malhotra has passed a\n",
            "T: not_news P: entertainment | perishers - 18th november 2019 perishers originally ran from 1959 to 2006 . the strip is still so po\n",
            "T: technology P: society | pakistan successfully conducts test launch of surface-to-surface ballistic missile islamabad : pakis\n",
            "T: science P: not_news | opioid prescription doses are increasingly being tapered , often more rapidly than recommended stigm\n",
            "T: other P: entertainment | why caitlyn jenner refuses to blame herself for her brother ' s tragic death i ' m a celebrity ' s c\n",
            "T: other P: society | cyril mcguinness died from cardiac event after arrest , inquest told a convicted criminal considered\n",
            "T: society P: sports | trinidad cops : woman ’ s murder a hired hit ( trinidad guardian ) — homi ­ cide de ­ tec ­ tives st\n",
            "T: technology P: economy | microsoft updates terms on data privacy amid eu probe brussels : microsoft said on monday it was upd\n",
            "T: technology P: sports | formula 1 : vettel and leclerc face wrath of ferrari after crash sao paulo : ferrari team-mates seba\n",
            "T: other P: society | mercury in taiwan to drop by 8 degrees today , cold temps to last 3 days ( cwb satellite image ) tai\n",
            "T: not_news P: other | these teeny mini suitcases for your toiletries are so cute i want to kill them i will fuck with anyt\n",
            "T: society P: economy | us officials granting $ 29 million for coastal protection new orleans ( ap ) - projects to protect t\n",
            "T: not_news P: science | engineering a dream workspace in my lab , we study the evolution of underwater landscapes . we look \n",
            "T: society P: entertainment | rylan clark-neal to co-host channel 4 ' s election night coverage rylan clark-neal is trying his han\n",
            "T: society P: sports | trinidad airport inquiry to start over 15 years later ( trinidad guardian ) — the pro ­ tract ­ ed “\n",
            "T: sports P: entertainment | aew dynamite will feature wcw themed event in january 2020 it probably was going to happen sooner th\n",
            "T: economy P: society | ge defiant as union ’ s ultimatum on illegal tax deductions expires a few days before the ultimatum \n",
            "T: economy P: society | emirates announces order for 50 airbus a350s worth $ 16b dubai , united arab emirates ( ap ) — dubai\n"
          ],
          "name": "stdout"
        },
        {
          "output_type": "stream",
          "text": [
            "\n"
          ],
          "name": "stderr"
        }
      ]
    }
  ]
}